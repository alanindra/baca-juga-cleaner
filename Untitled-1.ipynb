{
 "cells": [
  {
   "cell_type": "markdown",
   "metadata": {},
   "source": [
    "## Text data cleaning by means of sentence segmentation/tokenization\n",
    "\n",
    "### This program is intended to clean text data by removing unncessary sentences initiated by \"baca juga\" and \"advertisement\" strings. It uses spaCy NLP library for sentence segmentation."
   ]
  },
  {
   "cell_type": "markdown",
   "metadata": {},
   "source": [
    "### 1. Reading dataset\n",
    "\n",
    "#### We will be reading a dataset/corpus containing news text data."
   ]
  },
  {
   "cell_type": "code",
   "execution_count": 15,
   "metadata": {},
   "outputs": [
    {
     "name": "stdout",
     "output_type": "stream",
     "text": [
      "0                                                     NaN\n",
      "1       ALASKA — It's been snowing a lot lately in nor...\n",
      "2                                                     NaN\n",
      "3       ESB Science Blast. 2.508 suka. An incredible S...\n",
      "4                                                     NaN\n",
      "                              ...                        \n",
      "1043    HAIJAKARTA.ID – Nomor HP kamu bisa menerima sa...\n",
      "1044    JABAR EKSPRES – Hadir kembali link penghasil s...\n",
      "1045    Jakarta, benang.id – GoPay, unit bisnis Financ...\n",
      "1046    SINGAPORE: The Competition and Consumer Commis...\n",
      "1047    Once you sign up, $111 is added to your bonus ...\n",
      "Name: content, Length: 1048, dtype: object\n"
     ]
    }
   ],
   "source": [
    "import pandas as pd\n",
    "import os\n",
    "\n",
    "news_dataset = pd.read_csv(f\"{os.getcwd()}/news_dataset.csv\")\n",
    "print(news_dataset[\"content\"])"
   ]
  },
  {
   "cell_type": "markdown",
   "metadata": {},
   "source": [
    "#### The dataset contains 1047 rows of news texts."
   ]
  },
  {
   "cell_type": "code",
   "execution_count": 20,
   "metadata": {},
   "outputs": [
    {
     "name": "stdout",
     "output_type": "stream",
     "text": [
      "310 instances of news text\n"
     ]
    }
   ],
   "source": [
    "import warnings\n",
    "\n",
    "warnings.simplefilter(\"ignore\", UserWarning)\n",
    "\n",
    "unecessary_words = r\"(?i)\\b(baca juga|advertisement|iklan)\\b\"\n",
    "\n",
    "news_dataset['matches'] = news_dataset['content'].str.contains(unecessary_words)\n",
    "print(f\"{news_dataset['matches'].sum()} instances of news text\")"
   ]
  },
  {
   "cell_type": "code",
   "execution_count": 25,
   "metadata": {},
   "outputs": [
    {
     "name": "stdout",
     "output_type": "stream",
     "text": [
      "- Cash Tree Siapa sih yang tidak kenal dengan Cash Tree, yang merupakan salah satu aplikasi penghasil uang paling populer ini sayang untuk kamu lewatkan. Melalui aplikasi ini, kamu bisa langsung menggunakannya dan langsung cair ke dompet elektronik yang kamu miliki seperti e-wallet DANA, cukup mudah kok caranya. Kamu hanya perlu menyelesaikan berbagai misi dan menonton video saja untuk proses pengumpulan koin, nantinya jika sudah mencapai batas penukaran bisa ditukarkan menjadi saldo DANA. BACA JUGA:Aplikasi Penghasil Saldo DANA, OVO dan Shopee 2025 yang Terbukti Membayar Hingga Rp500.000! BACA JUGA:Baru Rilis! Aplikasi Penghasil Saldo DANA, OVO dan Shopee 2025 Terbukti Membayar Tanpa Modal!\n",
      "Jakarta (ANTARA) - Pelatih Rans Simba Bogor Anthony Garbelotto menyebut bahwa permainan solid anak asuhnya, telah membawa tim untuk meraih sembilan kemenangan beruntun, serta menundukkan empat tim kuat di Indonesian Basketball League (IBL) 2025. &#34;Contohnya saat kami menang melawan juara IBL 2024, Pelita Jaya Jakarta,&#34; kata Anthony Garbelotto dalam laman IBL yang dikutip ANTARA di Jakarta, Kamis. Ia menjelaskan, permainan Devon Van Oostrum dan kawan-kawan sudah memenuhi ekspektasi, sehingga Garbelotto optimistis Rans akan mampu melaju jauh di babak reguler serta playoffs mendatang. Baca juga: Pelatih Rans Simba puji permainan pemain senior Galank Gunawan Keyakinan itu karena permainan para pebasket asing yang semakin padu, serta kontribusi positif dari pemain lokal, sehingga semua pemain bersama-sama menerapkan sistem permainan yang sudah direncanakan. &#34; Center senior seperti Galank Gunawan juga membantu performa tim menjadi lebih baik,&#34; ujar dia. Hingga pekan kesembilan Indonesian Basketball League (IBL) 2025, telah berhasil menang sembilan kali beruntun. Tidak hanya sampai di situ, mereka juga berhasil menundukkan empat tim kuat yang merupakan calon juara kompetisi. Berdasarkan data IBL, empat tim tersebut adalah Dewa United Banten, Satria Muda Pertamina Jakarta, Prawira Bandung, dan yang teranyar Pelita Jaya Jakarta. Empat kemenangan melawan tim kuat tersebut, membuktikan bahwa skuad asuhan Anthony Garbelotto menjadi salah satu calon kuat peraih titel juara pada musim ini. Baca juga: Rans taklukkan Pelita Jaya di kandang, perpanjang kemenangan Klub yang bermarkas di Gymnasium SV Institut Pertanian Bogor (IPB), Bogor, itu telah menjelma menjadi tim yang sulit dikalahkan. Para pemain seperti Devon Van Oostrum, Kenyon Joseph Buffen, Aaron Fuller, Thomas De Thaey, Surliyadin, dan Galank Gunawan, telah berkontribusi banyak di antara pemain lainnya, guna membawa kemenangan untuk tim. Meski menang tipis, Rans Simba Bogor berhasil mengalahkan Dewa United dengan skor 82-80. Kemudian mengalahkan Satria Muda lewat skor 84-82 dan Prawira 82-80. Bahkan, melawan juara IBL 2024, Pelita Jaya Jakarta, Thomas De Thaey dan rekannya menang 94-88. Saat ini Rans Simba Bogor bertengger di peringkat kedua klasemen sementara IBL Gopay 2025, dengan mengantongi 22 poin, serta memiliki rekor pertandingan 10-2 (menang-kalah). Baca juga: Rans Simba Bogor tumbangkan empat tim raksasa IBL\n",
      "Liputan6.com, Jakarta Dokter Tirta mengungkapkan kekecewaannya setelah Timnas Indonesia harus mengakui keunggulan Australia dalam pertandingan terakhir mereka. Melalui akun TikTok pribadinya, ia menyampaikan pendapatnya sebagai seorang penggemar sepak bola. Dokter Tirta berharap Indonesia bisa bangkit dan meraih kemenangan dalam laga berikutnya melawan Bahrain. “Sebuah unek-unek dari fans bola biasa saja. Semoga bisa menang 4-0 vs Bahrain,” tulisnya dalam unggahan tersebut. BACA JUGA: 7 Potret Dokter Tirta dan Sang Istri Nisa An Nashr Umroh, Sering Dikira Masih Duda Baca Juga Cek Fakta: Video Dokter Tirta Promosikan Biji Labu Sebagai Penyembuh Penyakit dari Parasit Merupakan Modifikasi AI Mana Lebih Baik, Berbuka Puasa dengan Air Hangat atau Dingin? Ini Kata Dokter Tirta Dokter Tirta Cerita Pengalaman Lari Sore Lewati Jabal Khandamah Makkah Usai Umrah Ia juga menyoroti pemecatan Shin Tae-yong dalam momen krusial. Menurutnya, pergantian pelatih sebaiknya dilakukan setelah suatu turnamen selesai, bukan di tengah-tengah kompetisi yang sedang berlangsung. Advertisement “Kalau mau pecat pelatih setidaknya setelah event selesai, jangan ketika kejadian penting. Itu lho, pecat pelatih kok pas menuju kejadian penting!” lanjutnya.\n"
     ]
    }
   ],
   "source": [
    "matches = news_dataset[news_dataset['content'].str.contains(unecessary_words,  na=False)]\n",
    "matches_reset = matches.reset_index()\n",
    "\n",
    "print(matches_reset['content'][0])\n",
    "print(matches_reset['content'][4])\n",
    "print(matches_reset['content'][20])"
   ]
  },
  {
   "cell_type": "markdown",
   "metadata": {},
   "source": [
    "#### Using regular expression, it is detected that there are 310 instances of news texts containing \"baca juga\", \"advertisement\", and \"iklan\" strings. However, this regular expression retrieves solely the abovementioned strings, it does not take sentence as parameters and the strings can be at the beginning, middle, or end of a sentence.\n",
    "\n",
    "#### To account for this problem, we will be using spaCy to segment the strings into sentences, and we will modify the regex expression to account only strings in the beginning of sentences. "
   ]
  }
 ],
 "metadata": {
  "kernelspec": {
   "display_name": "news_content_cleaner",
   "language": "python",
   "name": "python3"
  },
  "language_info": {
   "codemirror_mode": {
    "name": "ipython",
    "version": 3
   },
   "file_extension": ".py",
   "mimetype": "text/x-python",
   "name": "python",
   "nbconvert_exporter": "python",
   "pygments_lexer": "ipython3",
   "version": "3.11.6"
  }
 },
 "nbformat": 4,
 "nbformat_minor": 2
}
