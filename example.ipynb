{
 "cells": [
  {
   "cell_type": "markdown",
   "metadata": {},
   "source": [
    "## Text data cleaning by means of sentence segmentation/tokenization\n",
    "\n",
    "### This program is intended to clean text data by removing unncessary sentences initiated by \"baca juga\" and \"advertisement\" strings. It uses spaCy NLP library for sentence segmentation."
   ]
  },
  {
   "cell_type": "markdown",
   "metadata": {},
   "source": [
    "### 1. Reading dataset\n",
    "\n",
    "#### We will be reading a dataset/corpus containing news text data."
   ]
  },
  {
   "cell_type": "code",
   "execution_count": 13,
   "metadata": {},
   "outputs": [
    {
     "name": "stdout",
     "output_type": "stream",
     "text": [
      "0                                                     NaN\n",
      "1       ALASKA — It's been snowing a lot lately in nor...\n",
      "2                                                     NaN\n",
      "3       ESB Science Blast. 2.508 suka. An incredible S...\n",
      "4                                                     NaN\n",
      "                              ...                        \n",
      "1043    HAIJAKARTA.ID – Nomor HP kamu bisa menerima sa...\n",
      "1044    JABAR EKSPRES – Hadir kembali link penghasil s...\n",
      "1045    Jakarta, benang.id – GoPay, unit bisnis Financ...\n",
      "1046    SINGAPORE: The Competition and Consumer Commis...\n",
      "1047    Once you sign up, $111 is added to your bonus ...\n",
      "Name: content, Length: 1048, dtype: object\n"
     ]
    }
   ],
   "source": [
    "import pandas as pd\n",
    "import os\n",
    "\n",
    "news_dataset = pd.read_csv(f\"{os.getcwd()}/news_dataset.csv\")\n",
    "print(news_dataset[\"content\"])"
   ]
  },
  {
   "cell_type": "markdown",
   "metadata": {},
   "source": [
    "#### The dataset contains 1047 rows of news texts."
   ]
  },
  {
   "cell_type": "code",
   "execution_count": 14,
   "metadata": {},
   "outputs": [
    {
     "name": "stdout",
     "output_type": "stream",
     "text": [
      "310 instances of news text \n",
      "0.30 percent of instances with unecessary words\n"
     ]
    }
   ],
   "source": [
    "import warnings\n",
    "\n",
    "warnings.simplefilter(\"ignore\", UserWarning)\n",
    "\n",
    "unecessary_words = r\"(?i)\\b(baca juga|advertisement|iklan)\\b\"\n",
    "\n",
    "news_dataset['matches'] = news_dataset['content'].str.contains(unecessary_words)\n",
    "\n",
    "nrow_matches = news_dataset['matches'].sum()\n",
    "nrow_news_dataset = len(news_dataset)\n",
    "\n",
    "print(f\"{nrow_matches} instances of news text \\n{nrow_matches/nrow_news_dataset:.2f} percent of instances with unecessary words\")"
   ]
  },
  {
   "cell_type": "markdown",
   "metadata": {},
   "source": [
    "#### From 1047 instances, there are 310 instances (30%) of news text containing unecessary words. Below are the randomly picked news text containing aforementioned words:"
   ]
  },
  {
   "cell_type": "code",
   "execution_count": 15,
   "metadata": {},
   "outputs": [
    {
     "name": "stdout",
     "output_type": "stream",
     "text": [
      "news 0: Rekomendasi Pinjaman Tercepat Dan Termudah Limit 200 Ribu, Bisa Untuk THR Cepat Cair Hitungan Jam Reporter: Alfin Ananda | Editor: Syamsul Falaq | Kamis 20-03-2025,11:31 WIB Rekomendasi Pinjaman Tercepat Dan Termudah Limit 200 Ribu, Bisa Untuk THR Cepat Cair Hitungan Jam-- YOGYAKARTA, diswayjogja.id- Ketika kamu memerlukan dana tambahan sebesar 600 ribu rupiah dalam waktu yang singkat, pinjaman online menjadi solusi yang sangat praktis. Salah satu solusi untuk memenuhi kebutuhan tersebut adalah dengan meminjam uang terlebih dahulu, zaman sekarang hal tersebut sudah bisa kamu lakukan secara online melalui aplikasi pinjaman. Saat ini banyak orang mencari solusi pinjaman online legal yang menawarkan pinjaman dengan nominal mulai dari 200 ribu rupiah yang langsung cair ke rekening. Pinjaman online kini memang menjadi salah satu solusi yang kerap digunakan sebagian orang ketika sedang membutuhkan uang dalam keadaan darurat dan mendesak. BACA JUGA : Kebutuhan Lebaran Mencapai 80 Juta? Simak Aplikasi Pinjol Langsung Cair, Anti Ditolak Resmi OJK Berikut BACA JUGA : Aplikasi Pinjol Daring Tercepat Terdaftar OJK Limit Hingga 30 Juta, Cepat Cair Bunga Rendah Dan Tenor Panjang Berikut Deretan Pilihan Pinjaman Tercepat Dan Termudah 2025: 1.GoPay Pinjam GoPay Pinjam merupakan layanan finansial berupa pinjaman uang tunai yang dikelola oleh PT Mapan Global Reksa (Findaya), layanan ini menawarkan pinjaman dengan limit bervariasi bagi setiap pengguna. Namun Anda berkesempatan memperoleh limit pinjaman hingga Rp25 juta jika memiliki riwayat kredit yang baik, biasanya hanya dalam kurun waktu beberapa menit saja dan akan dikirimkan secara langsung ke rekening bank yang terdaftar. 2.Kredit Pintar PT Kredit Pintar Indonesia mengelola aplikasi pinjaman online legal bernama Kredit Pintar yang memungkinkan penggunanya untuk mengajukan pinjaman hingga Rp20 juta. Sementara itu bunganya berada di kisaran 3 persen per bulan dengan tenor mulai dari 91 hingga 360 hari, anda bisa mencairkan pinjaman ke rekening pribadi dalam kurun waktu sekitar 5 menit. 3.UKU UKU menawarkan pinjaman 500 ribu langsung cair tanpa ribet hanya dengan modal KTP, pengguna tidak perlu menyediakan jaminan fisik untuk mendapatkan pinjaman, yang membuatnya lebih mudah diakses oleh banyak orang. 1 2 3 » Cek Berita dan Artikel yang lain di Google News Sumber:\n",
      "\n",
      "news 1: Suara.com - Cara top up OVO pakai pulsa Telkomsel 2024 bisa dilakukan dengan cepat serta praktis. Hal ini tentu memudahkan pengguna telkomsel bisa menstransfer saldonya ke OVO sebagai dompet digital. Apalagi, OVO memiliki beberapa layanan dalam kemudahan transaksi bagi penggunanya. Serta bekerja sama dengan perusahaan telekomunikasi seperti Telkomsel dalam melakukan pembayaran isi pulsa maupun data atau sebaliknya. Tidak hanya itu ada spesial untuk pengguna baru OVO, aktifkan paket andalan minimum Rp20.000 di aplikasi MyTelkomsel dan bayar pakai OVO untuk mendapatkan cashback. Berkikut cara top up OVO paka pulsa Telkomsel 2024 Unduh dan Buka Aplikasi MyTelkomsel: Pastikan Anda telah mengunduh dan membuka aplikasi MyTelkomsel di perangkat Anda. Aktifkan Paket Andalan: Pilih paket andalan yang ingin Anda aktifkan di MyTelkomsel. Pilih Metode Pembayaran OVO: Pilih OVO sebagai metode pembayaran untuk paket andalan tersebut. Lakukan Transaksi: Ikuti langkah-langkah yang ada di MyTelkomsel untuk menyelesaikan transaksi. Cek Cashback: Setelah transaksi berhasil, Anda akan menerima cashback dalam bentuk OVO Points. Baca Juga: Cara Top Up Kartu Flazz Tanpa NFC, Pilih Satu dari Lima Cara Ini Promo Cashback OVO Telkomsel: Cashback hingga 25.000 OVO Points: Pelanggan yang mengaktifkan paket andalan di aplikasi MyTelkomsel menggunakan OVO akan mendapatkan cashback hingga 25.000 OVO Points. Periode Promo: Promo ini berlaku dari 1 Juli hingga 10 Juli 2024, dari jam 10 pagi hingga 11:59 malam. Syarat dan Ketentuan: Pastikan Anda telah membaca dan memahami syarat dan ketentuan promo yang berlaku. Tips Tambahan: Periksa Batas Transaksi: Pastikan Anda tidak melebihi batas transaksi bulanan untuk top up OVO. Cek Saldo OVO: Pastikan saldo OVO Anda mencukupi untuk melakukan top up. Hubungi Layanan Pelanggan: Jika Anda mengalami masalah saat melakukan top up, jangan ragu untuk menghubungi layanan pelanggan OVO atau MyTelkomsel. Lalu ada cara top up OVO pakai pulsa Telkomsel 2024 yang lain bisa digunakan. Berikut tahapannya: Instal aplikasi Via Pulsa di Google Play Store atau App Store. Login menggunakan akun Google Anda. Setelah tampilan menu, pilih provider Telkomsel. Isi nominal yang ingin Anda transfer. Masukan nomor handphone Anda. Masukan nomor e-wallet Anda, yakni OVO. Cek kembali data yang Anda isi. Klik Lanjut. Transfer pulsa ke nomor yang diberikan oleh Via Pulsa. Klik Lampirkan untuk unduh bukti transfer pulsa. Buka aplikasi OVO Anda, cek apakah saldo OVO sudah bertambah. Jika saldo Anda bertambah, proses transfer selesai. Selain cara top up OVO pakai pulsa Telkomsel 2024 ada juga melalui layanan lain. TerlebihTop up OVO adalah proses pengisian ulang saldo. OVO adalah dompet digital a. tau e-wallet yang dapat digunakan untuk berbagai transaksi, seperti berbelanja online, membeli tiket kereta, dan membayar tagihan. Top up OVO dapat dilakukan secara online maupun offline. Berikut beberapa cara top up OVO: Melalui aplikasi OVO: Buka aplikasi OVO, klik ikon &#34;Top Up&#34;, pilih metode top up, masukkan nominal, dan konfirmasi. Melalui Indomaret: Buka aplikasi OVO, pilih &#34;Indomaret&#34; sebagai metode top up, masukkan nominal, konfirmasi, sebutkan kode ke kasir, dan bayar. Melalui Tokopedia: Buka aplikasi Tokopedia, pilih &#34;Top-up &amp; Tagihan&#34;, klik &#34;Top Up OVO&#34;, tuliskan nominal, pilih &#34;Beli&#34;, dan &#34;Bayar&#34;. Melalui LINE Bank: Top up saldo OVO secara online melalui aplikasi LINE Bank. Melalui transfer bank, ATM, atau mobile banking: Transfer dana ke akun OVO. Melalui OneKlik BCA: Transfer dana ke akun OVO. Melalui driver Grab: Top up OVO melalui driver Grab. Melalui gerai Alfamart: Top up OVO di gerai Alfamart.\n",
      "\n",
      "news 2: Aplikasi Penghasil Uang Tercepat 2025, Dapat Saldo DANA Gratis dari Media Sosial hingga Rp200.000, Ini Caranya Reporter: R Herdi Dwitama | Editor: R Herdi Dwitama | Kamis 20-03-2025,03:08 WIB Aplikasi Penghasil Uang Tercepat 2025, Dapat Saldo DANA Gratis dari Media Sosial hingga Rp200.000, Ini Caranya-capt (Youtube: BANG GAPTEK ID)-radarindramayu.id RADARINDRAMAYU.ID – Apakah kalian suka menghabiskan waktunya di dunia maya? Supaya lebih bermanfaat, ikutin cara dapat Saldo DANA gratis dari media sosial hingga Rp200.000. Siapa dari kalian yang meghabiskan waktu berjam-jam Cuma dengan menscroll-scroll sosial media , tapi tidak menghasilkan apa-apa. Banyak yang menganggap bahwa itu adalah kegiatan yang tidak bermanfaat dan hanya membuang-buang waktu saja. Di era digital seperti sekarang, banyak cara yang bisa dilakukan untuk mendapatkan saldo DANA gratis, salah satunya adalah melalui aplikasi penghasil uang seperti Getlike. BACA JUGA: Aplikasi Hifami Bikin Heboh! Cuma Rebahan Bisa Dapat Uang Sampe Ratusan Ribu? Cek Faktanya! Aplikasi ini menawarkan kesempatan bagi pengguna untuk mendapatkan uang dengan cara yang mudah, yaitu hanya dengan menyelesaikan tugas-tugas sederhana di media sosial. Jika Anda ingin menambah saldo DANA tanpa harus mengeluarkan uang, simak cara mendapatkan saldo DANA gratis melalui aplikasi Getlike berikut ini. Apa Itu Getlike? Getlike adalah salah satu aplikasi penghasil uang yang populer di kalangan pengguna smartphone. BACA JUGA: Dana Kaget Terbaru Hari Ini Cair Sampai Rp.200.000! Simak Cara Klaim Sebelum Kehabisan! Aplikasi ini memungkinkan pengguna untuk mendapatkan uang dengan melakukan berbagai tugas, seperti like, follow, atau melihat video di platform media sosial seperti Instagram, Facebook, YouTube, dan TikTok. Setelah menyelesaikan tugas, pengguna akan mendapatkan poin yang bisa ditukarkan menjadi uang. Uang tersebut kemudian dapat ditarik ke dompet digital seperti DANA. Dengan melakukan tugas sederhana seperti menyukai unggahan, mengikuti akun, dan menonton video. Anda dapat memperoleh saldo DANA gratis melalui GetLike. Ikuti langkah-langkah ini: 1 2 3 » Cek Berita dan Artikel yang lain di Google News Sumber:\n",
      "\n"
     ]
    }
   ],
   "source": [
    "import random\n",
    "\n",
    "matches = news_dataset[news_dataset['content'].str.contains(unecessary_words, na=False)]\n",
    "matches_reset = matches.reset_index()\n",
    "\n",
    "for num in range(3):\n",
    "    random_news_instance = random.randint(0, len(matches_reset) - 1)\n",
    "    print(f\"news {num}: {matches_reset['content'][random_news_instance]}\\n\")\n"
   ]
  },
  {
   "cell_type": "markdown",
   "metadata": {},
   "source": [
    "#### Using regular expression, it is detected that there are 310 instances of news texts containing \"baca juga\", \"advertisement\", and \"iklan\" strings. We can also see the random news text containing the mentioned strings. However, this regular expression retrieves solely the abovementioned strings, it does not take sentence as parameters and the strings can be at the beginning, middle, or end of a sentence.\n",
    "\n",
    "#### To account for this problem, we will be using spaCy to segment the strings into sentences, and we will modify the regex expression to account only strings in the beginning of sentences. "
   ]
  }
 ],
 "metadata": {
  "kernelspec": {
   "display_name": "news_content_cleaner",
   "language": "python",
   "name": "python3"
  },
  "language_info": {
   "codemirror_mode": {
    "name": "ipython",
    "version": 3
   },
   "file_extension": ".py",
   "mimetype": "text/x-python",
   "name": "python",
   "nbconvert_exporter": "python",
   "pygments_lexer": "ipython3",
   "version": "3.11.6"
  }
 },
 "nbformat": 4,
 "nbformat_minor": 2
}
