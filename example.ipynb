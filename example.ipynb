{
 "cells": [
  {
   "cell_type": "markdown",
   "metadata": {},
   "source": [
    "## Text data cleaning by means of sentence segmentation/tokenization\n",
    "\n",
    "### This program is intended to clean text data by removing unncessary sentences initiated by \"baca juga\" and \"advertisement\" strings. It uses spaCy NLP library for sentence segmentation."
   ]
  },
  {
   "cell_type": "markdown",
   "metadata": {},
   "source": [
    "### 1. Reading dataset\n",
    "\n",
    "#### We will be reading a dataset/corpus containing news text data."
   ]
  },
  {
   "cell_type": "code",
   "execution_count": 52,
   "metadata": {},
   "outputs": [
    {
     "name": "stdout",
     "output_type": "stream",
     "text": [
      "0                                                     NaN\n",
      "1       ALASKA — It's been snowing a lot lately in nor...\n",
      "2                                                     NaN\n",
      "3       ESB Science Blast. 2.508 suka. An incredible S...\n",
      "4                                                     NaN\n",
      "                              ...                        \n",
      "1043    HAIJAKARTA.ID – Nomor HP kamu bisa menerima sa...\n",
      "1044    JABAR EKSPRES – Hadir kembali link penghasil s...\n",
      "1045    Jakarta, benang.id – GoPay, unit bisnis Financ...\n",
      "1046    SINGAPORE: The Competition and Consumer Commis...\n",
      "1047    Once you sign up, $111 is added to your bonus ...\n",
      "Name: content, Length: 1048, dtype: object\n"
     ]
    }
   ],
   "source": [
    "import pandas as pd\n",
    "import os\n",
    "\n",
    "news_dataset = pd.read_csv(f\"{os.getcwd()}/news_dataset.csv\")\n",
    "print(news_dataset[\"content\"])"
   ]
  },
  {
   "cell_type": "markdown",
   "metadata": {},
   "source": [
    "#### The dataset contains 1047 rows of news texts."
   ]
  },
  {
   "cell_type": "code",
   "execution_count": 53,
   "metadata": {},
   "outputs": [
    {
     "name": "stdout",
     "output_type": "stream",
     "text": [
      "310 instances of news text \n",
      "0.30 percent of instances with unecessary words\n"
     ]
    }
   ],
   "source": [
    "import warnings\n",
    "\n",
    "warnings.simplefilter(\"ignore\", UserWarning)\n",
    "\n",
    "regex_unecessary_words = r\"(?i)\\b(baca juga|advertisement|iklan)\\b\"\n",
    "\n",
    "news_dataset['matches'] = news_dataset['content'].str.contains(regex_unecessary_words)\n",
    "\n",
    "nrow_matches = news_dataset['matches'].sum()\n",
    "nrow_news_dataset = len(news_dataset)\n",
    "\n",
    "print(f\"{nrow_matches} instances of news text \\n{nrow_matches/nrow_news_dataset:.2f} percent of instances with unecessary words\")"
   ]
  },
  {
   "cell_type": "markdown",
   "metadata": {},
   "source": [
    "#### From 1047 instances, there are 310 instances (30%) of news text containing unecessary words. Below are the randomly picked news text containing aforementioned words:"
   ]
  },
  {
   "cell_type": "code",
   "execution_count": 54,
   "metadata": {},
   "outputs": [
    {
     "name": "stdout",
     "output_type": "stream",
     "text": [
      "unecessary words: baca juga\n",
      "Random news 0: Jakarta – CGS International Sekuritas Indonesia melihat pergerakan Indeks Harga Saham Gabungan (IHSG) secara teknikal hari ini (19/3) berpotensi untuk melanjutkan pelemahannya. “IHSG diprediksi akan melanjutkan pelemahannya dengan kisaran support 5.795-6.010 dan resistance 6.435-6.650,” tulis manajemen CGS dalam risetnya di Jakarta, 19 Maret 2025. Di mana, pada perdagangan kemarin (18/3) IHSG kembali ditutup bertahan pada zona merah ke posisi 6.223,38 dari dibuka pada level 6.458,66 atau melemah 3,84 persen. Baca juga: Pasar Saham RI Gelap: Longsor Besar dan Dibekukan Sementara Manajemen CGS menjelaskan bahwa, melemahnya indeks di bursa Wall Street dan berlanjutnya aksi jual investor asing dalam jumlah yang besar diprediksi akan menjadi katalis negatif untuk IHSG. Pelemahan indeks bursa Wall Street tercermin dari indeks Dow Jones yang turun 0,62 persen dan indeks S&P 500 mengalami pelemahan sebanyak 1,02 persen. Secara rinci, investor asing mencatatkan net foreign sell di pasar reguler sebesar Rp2,57 triliun dan net foreign buy di pasar negosiasi senilai Rp82,46 miliar. Baca juga: IHSG Longsor, Samuel Sekuritas Sarankan Hindari Sektor Ini Rekomendasi Saham CGS International Sekuritas juga merekomendasikan beberapa saham untuk hari ini, di antaranya adalah PT Astra International Tbk (ASII), PT GoTo Gojek Tokopedia Tbk (GOTO), PT J Resources Asia Pasifik Tbk (PSAB). Kemudian tiga saham lain yang direkomendasikan, PT Sawit Sumbermas Sarana Tbk (SSMS), PT Unilever Indonesia Tbk (UNVR), dan PT Japfa Comfeed Indonesia Tbk (JFPA). (*) Editor: Galih Pratama\n",
      "\n",
      "Random news 1: JABAR EKSPRES -Butuh pinjaman dana cepat tanpa ribet? Aplikasi Dana kini menawarkan fitur Dana Instan yang memungkinkan pengguna mendapatkan cara pinjam saldo dana dengan limit besar dan pencairan yang super cepat. Dengan limit hingga jutaan rupiah, fitur ini sangat cocok bagi siapa saja yang membutuhkan dana darurat atau tambahan modal usaha dalam waktu singkat. Proses pengajuannya pun sangat mudah, cukup melalui aplikasi Dana tanpa perlu dokumen fisik atau jaminan apa pun. Selain itu, pengguna yang sering bertransaksi di aplikasi Dana memiliki peluang lebih besar untuk mendapatkan cara pinjam saldo dana dengan limit yang lebih tinggi. Dengan riwayat transaksi yang baik dan pembayaran tepat waktu, limit pinjaman bisa terus meningkat seiring waktu. Jadi, pastikan Anda memanfaatkan fitur ini dengan bijak agar mendapatkan keuntungan maksimal. Bagi Anda yang mencari cara pinjam saldo dana sebesar Rp600.000, prosesnya sangat mudah dan cepat. Aplikasi Dana menyediakan fitur Dana Instan yang memungkinkan pengguna menarik pinjaman dalam jumlah tertentu sesuai dengan limit yang tersedia. Pengajuan bisa dilakukan langsung dari aplikasi tanpa perlu jaminan atau dokumen tambahan. Selain itu, proses pencairan pun terbilang cepat, sehingga uang bisa segera masuk ke rekening Anda dalam hitungan menit. Baca juga : Cara Mendapatkan Saldo DANA Rp29.000, Klik Disini Untuk mendapatkan pinjaman sebesar Rp600.000, pastikan akun Dana Anda sudah memenuhi syarat, seperti memiliki riwayat transaksi yang baik dan sering menggunakan layanan Dana untuk pembayaran atau top-up saldo. Dengan cara ini, peluang Anda untuk mendapatkan persetujuan pinjaman akan semakin besar. Simak langkah-langkah berikut agar proses pinjaman berjalan lancar dan tanpa kendala. Berikut ini adalah langkah-langkah lengkap untuk mengajukan, menarik, dan membayar pinjaman Dana Instan di aplikasi DANA.Cara Mengajukan Pinjaman Dana Instan Buka aplikasi DANA dan pastikan fitur Dana Instan sudah muncul di akun Anda. Pilih nominal pinjaman dengan menggeser tombol ke kanan atau ke kiri sesuai kebutuhan. Klik Lanjutkan untuk masuk ke halaman konfirmasi penarikan. Centang bagian persetujuan perjanjian pinjaman. Masukkan nomor rekening tujuan pencairan dana. Klik tombol Ajukan Penarikan. Laman berikutnya Halaman: 1 2 3aplikasi dana aplikasi penghasil uang aplikasi penghasil uang terbukti membayar Cara dapat uang cara dapat uang cepat cara dapat uang dari internet cara dapat uang dari youtube Cara Dapat Uang Tambahan cara pinjam saldo dana cari uang tambahan tanpa modal Dana dana kaget dana kaget 2024 dana kaget hari ini dana kaget terbaru dana premium langsung cair link dana kaget link dana kaget Terbaru Link DANA Kaget Terbaru Hari ini penghasil uang pinjam pinjam saldo dana pinjam uang rekening Review Aplikasi Rp100 ribu saldo dana Saldo DANA Gratis saldo dana gratis langsung cair stepmoving Uang Uang gratis\n",
      "\n",
      "Random news 2: Jakarta – CGS International Sekuritas Indonesia melihat pergerakan Indeks Harga Saham Gabungan (IHSG) secara teknikal hari ini (19/3) berpotensi untuk melanjutkan pelemahannya. “IHSG diprediksi akan melanjutkan pelemahannya dengan kisaran support 5.795-6.010 dan resistance 6.435-6.650,” tulis manajemen CGS dalam risetnya di Jakarta, 19 Maret 2025. Di mana, pada perdagangan kemarin (18/3) IHSG kembali ditutup bertahan pada zona merah ke posisi 6.223,38 dari dibuka pada level 6.458,66 atau melemah 3,84 persen. Baca juga: Pasar Saham RI Gelap: Longsor Besar dan Dibekukan Sementara Manajemen CGS menjelaskan bahwa, melemahnya indeks di bursa Wall Street dan berlanjutnya aksi jual investor asing dalam jumlah yang besar diprediksi akan menjadi katalis negatif untuk IHSG. Pelemahan indeks bursa Wall Street tercermin dari indeks Dow Jones yang turun 0,62 persen dan indeks S&P 500 mengalami pelemahan sebanyak 1,02 persen. Secara rinci, investor asing mencatatkan net foreign sell di pasar reguler sebesar Rp2,57 triliun dan net foreign buy di pasar negosiasi senilai Rp82,46 miliar. Baca juga: IHSG Longsor, Samuel Sekuritas Sarankan Hindari Sektor Ini Rekomendasi Saham CGS International Sekuritas juga merekomendasikan beberapa saham untuk hari ini, di antaranya adalah PT Astra International Tbk (ASII), PT GoTo Gojek Tokopedia Tbk (GOTO), PT J Resources Asia Pasifik Tbk (PSAB). Kemudian tiga saham lain yang direkomendasikan, PT Sawit Sumbermas Sarana Tbk (SSMS), PT Unilever Indonesia Tbk (UNVR), dan PT Japfa Comfeed Indonesia Tbk (JFPA). (*) Editor: Galih Pratama\n",
      "\n",
      "unecessary words: advertisement\n",
      "Random news 0: Jakarta - Pemerintah memastikan proyek tanggul laut raksasa (giant sea wall) di pesisir utara Jawa terus berlanjut. Kementerian Pekerjaan Umum (PU) menyampaikan proyek tersebut bertujuan untuk mengantisipasi dampak penurunan muka tanah (land subsidence) dan mengurangi risiko banjir di wilayah Jakarta dan sekitarnya. Dalam Rapat Koordinasi Pembentukan Satgas Pembangunan Giant Sea Wall yang digelar di Jakarta, Rabu (19/3/2025) lalu, Menteri PU Dody Hanggodo mengatakan Kementerian PU telah bekerja sama dengan Belanda dan Korea Selatan sejak tahun 2016 untuk kajian pembangunan tanggul laut mulai dari Cilegon hingga Gresik dengan proyeksi panjang mencapai 946 km. &#34;Kami telah menyelesaikan pembangunan tanggul pengaman pantai utara Jakarta Tahap A sepanjang 12,66 km. Pada tahun 2020, pembangunan dilanjutkan bersama Pemerintah Provinsi DKI Jakarta dengan panjang tambahan mencapai 33,54 km,&#34; ujar Dody dalam keterangannya, Kamis (20/3/2025). ADVERTISEMENT SCROLL TO CONTINUE WITH CONTENT Dody menjelaskan untuk pembangunan tanggul laut Tahap B sepanjang 21 km, saat ini sedang dilakukan kajian terkait pembiayaan dan studi kelayakan (feasibility study). Kajian tersebut mempertimbangkan apakah desain tanggul akan mengacu pada Integrated Flood Safety Plan Giant Sea Wall Tahap B Jakarta yang disiapkan Kementerian PU pada tahun 2020 atau menggunakan Masterplan tahun 2016 dari Bappenas. Selain wilayah Jakarta, tanggul laut juga tengah dibangun di wilayah Jawa Tengah secara terintegrasi dengan pembangunan Tol Semarang-Demak dan Tol Semarang Harbour. Baca juga: Proyek Tanggul Laut Raksasa Jalan Terus, Pemerintah Kaji Biaya-Uji Kelayakan Dody menekankan pembangunan tanggul laut tidak berdiri sendiri. Konsep pengendalian banjir yang diterapkan Kementerian PU bersifat terpadu dan terintegrasi dengan program penyediaan air bersih melalui Bendungan Karian dan Bendungan Jatiluhur serta peningkatan kualitas air dengan pengolahan limbah di muara sungai melalui pembangunan Jakarta Sewerage System. ADVERTISEMENT &#34;Pengendalian banjir harus diimbangi dengan penyediaan air bersih agar masyarakat tidak lagi menggunakan air tanah untuk mencegah penurunan muka tanah yang menjadi salah satu penyebab utama kerentanan banjir di Jakarta. Langkah-langkah ini menjadi bagian dari visi besar giant sea wall, dan kami berharap upaya ini dapat segera terwujud agar tidak ada lagi permasalahan lingkungan yang berdampak buruk pada kehidupan masyarakat Jakarta dan sekitarnya,&#34; jelas Dody. Sebelumnya, Menko Infrastruktur dan Pembangunan Kewilayahan Agus Harimurti Yudhoyono hari ini melakukan rapat koordinasi membahas pembangunan tanggul laut raksasa atau giant sea wall dan juga penanganan banjir. Pria yang akrab disapa AHY ini mengatakan mengatakan akan melakukan integrasi dan pemuktahiran semua studi-studi soal giant sea wall yang sudah ada di Indonesia. Namun, AHY menyebut ada kemungkinan pembangunan tanggul laut tidak akan dilakukan secara penuh dari Banten hingga Jawa Timur. Maksudnya, tembok beton tidak akan secara penuh dibangun dari Cilegon sampai Gresik. AHY mengatakan strategi untuk menanggulangi permasalahan pesisir di utara Jawa tak selamanya akan menggunakan beton. Tak semua tempat butuh tanggul beton, bisa saja menurutnya menggunakan tembok alami semacam lahan mangrove. &#34;Jadi dikerjakan paralel lah. Misal pesisir utara Jawa tak semua jadi prioritas nomor satu. Ada beberapa yang masih bisa pendekatan lain, ada gray solution dan green solution. Bisa green solution pake mangrove dan sebagainya atau kombinasi beton dan green solution,&#34; tegas AHY usai rapat di kantornya, Rabu (19/3/2025). (/) giant sea wall pemerintah indonesia proyek tanggul laut\n",
      "\n",
      "Random news 1: JAKARTA, investor.id - Banyak masyarakat Indonesia yang menganggap Tunjangan Hari Raya atau THR sebagai “uang kaget” dan seringkali langsung dihabiskan untuk berbagai keperluan. Padahal, momentum penerimaan THR merupakan saat yang tepat untuk berinvestasi dan merencanakan masa depan keuangan dengan lebih baik. Uang THR seharusnya dapat dikelola dengan bijak agar lebih produktif dan memberi manfaat dalam jangka panjang. Baca Juga: Tips Kelola THR dengan Bijak di Tengah Ketidakpastian Ekonomi “Masyarakat Indonesia dapat menyambut Hari Kemenangan dengan gembira bersama orang-orang terkasih sambil tidak lupa untuk terus berinvestasi agar bisa mewujudkan tujuan-tujuan keuangan yang mulia seperti beribadah ke Tanah Suci, membeli rumah impian, menyiapkan dana pensiun, dan sebagainya,” kata PR &amp; Corporate Communication Lead Bibit.id, William dalam keterangan tertulisnya di Jakarta, Kamis (20/3/2025). Advertisement Sebagai informasi, YouGov Indonesia menggelar survei yang dilakukan sejak Desember 2024melibatkan 2.000 responden. Hasil survei mencatat sebanyak 58% masyarakat Indonesia menggunakan THR mereka untuk menabung. Kemudian disusul untuk berbelanja sebanyak 55%, dan posisi ketiga 51% digunakan untuk membayar zakat atau beramal. Baca Juga THR Cair? Begini Cara Bijak Agar Nggak Habis Sekejap General Manager YouGov Indonesia Edward Hutasoit, di Kantor YouGov Indonesia mengatakan, THR biasa digunakan untuk diberikan kepada keluarga dan saudara (45%). Posisi kelima sebagian orang menggunakan THR untuk berlibur sebanyak 28%, keenam sebanyak 27% responden menggunakan THR untuk membayar utang. Diketahui, Bibit.id, aplikasi investasi digital memiliki solusi investasi untuk pemanfaatam THR yang sesuai dengan profil risiko dan tujuan keuangan investor yang beragam. Pertama, dari segi produk-produk yang menjadi pilihan investasi, PR &amp; Corporate Communication Lead Bibit.id, William, menyampaikan bahwa Bibit merupakan platform yang sangat digemari untuk berinvestasi reksa dana, saham, Surat Berharga Negara (SBN), dan Obligasi Negara Fixed Rate (FR). Khusus untuk hari ini sampai tanggal 16 April 2025, investor bisa berinvestasi di Sukuk Tabungan seri ST014. ST014 hadir dalam dua tipe produk, yaitu ST014-T2 dengan tenor dua tahun dan kupon minimal 6,50% per tahun serta ST014-T4 dengan tenor empat tahun dan kupon minimal 6,60% per tahun. ST014 merupakan produk investasi yang memiliki karakteristik floating with floor . Baca Juga: THR Cair, Bagaimana Mengukur Prioritas Kebutuhan vs Keinginan? Artinya, suku bunga acuan Bank Indonesia naik, imbal hasil ST014 akan ikut naik, namun apabila suku bunga acuan Bank Indonesia turun, imbal hasil ST014 tidak akan ikut turun dan akan tetap di batas kupon minimalnya, yaitu 6,50% untuk ST014-T2 dan 6,60% untuk ST014-T4. “Produk ST014 ini 100% pembayaran pokok dan imbal hasilnya dijamin oleh undang-undang, berbeda dengan deposito yang hanya dijamin oleh Lembaga Penjamin Simpanan (LPS) sebesar maksimal Rp2 milyar per nasabah per bank. Itu pun hanya untuk deposito dengan bunga maksimal 4,25% per tahun.,” ujarnya “Dari segi pajak, dibandingkan dengan deposito yang dikenakan pajak 20%, pajak yang dikenakan pada ST014 hanya 10% sehingga bisa menjadi pilihan investasi yang menguntungkan,” tambah William. Kedua, dalam momentum bulan Ramadan, lanjut dia, mungkin saja sebagian masyarakat Indonesia ingin mengenal lebih dalam dan mulai berinvestasi di produk-produk Syariah. Terkait hal ini, Bibit menyediakan produk-produk Syariah yang beragam dan menarik. Dari sisi produk, 30 persen produk reksa dana di Bibit adalah produk Syariah. ST014 pun merupakan produk Syariah yang bisa langsung dibeli di Bibit. “Khusus mengenai investasi syariah, tingginya minat investor tercermin dari lebih dari 50 persen pengguna Bibit yang memiliki produk investasi Syariah di portofolio investasi mereka. Untuk berinvestasi di Bibit bisa dimulai dengan Rp100 ribu, bahkan Rp10 ribu saja,” kata William. Ketiga, Bibit juga mempopulerkan strategi investasi bernama Systematic Investment Plan (SIP), yang pada dasarnya merupakan gabungan dari strategi the power of compounding dan Dollar Cost Averaging. SIP mewajibkan investor untuk menyetorkan uang ke reksa dana dalam jumlah yang sama, terjadwal, dan dalam horizon waktu yang sudah disesuaikan dengan tujuan keuangan mereka. Misalnya, apabila investor ingin mengumpulkan dana pendidikan anak dalam waktu 15 tahun ke depan, strategi SIP sangat cocok untuk membantunya berinvestasi dengan disiplin, mudah, fleksibel, dan dalam portofolio yang terdiversifikasikan. Bibit membuat SIP semakin mudah dilakukan karena memungkinkan setiap investor berinvestasi reksa dana dengan otomatis. Bibit menyediakan metode pembayaran Autodebit yang memungkinkan Bibit melakukan pendebetan saldo rekening investor secara otomatis untuk investasi reksa dana. Pilihan metode pembayaran juga cukup beragam, misalnya dengan RDN Wallet, GoPay, dan Bank Jago. Dengan beberapa klik, investor hanya perlu membuat portofolio investasi, memilih produk reksa dana yang mereka inginkan, mengisi nilai investasi yang hendak dicapai, mengatur jadwal investasi rutin serta memilih metode pembayaran. Editor: Imam Suhartadi ( imam_suhartadi@investor.co.id ) #THR #investasi #bibit #Fleksibel #investasi syariah #William #reksadana Follow Channel Telegram Official kami untuk update artikel-artikel investor.id Follow Baca Berita Lainnya di Google News Read Now LIVE STREAMING Saksikan tayangan informasi serta analisis ekonomi, keuangan, dan pasar modal di IDTV BAGIKAN URL berhasil di salin.\n",
      "\n",
      "Random news 2: TIMESINDONESIA, JAKARTA – Menteri Kesehatan (Menkes) Budi Gunadi Sadikin menyampaikan bahwa sejak diluncurkan pada 10 Februari 2025, program Cek Kesehatan Gratis telah menarik lebih dari satu juta pendaftar. \"Nah sampai sekarang, sejak dijalankan dari 10 Februari, sudah lebih dari 1 juta yang daftar,\" kata Menkes Budi kepada wartawan usai meninjau pelaksanaan Cek Kesehatan Gratis bagi para pengemudi ojek online (ojol) di Grab Excellent Center, Jakarta, Jumat (15/3/2025). Advertisement Ia menambahkan bahwa jumlah harian pendaftar terus meningkat hingga saat ini mencapai 90 ribuan orang per hari. Ke depannya, Menkes Budi menargetkan lebih dari 50 juta orang dapat mengikuti program ini sepanjang tahun 2025. \"Karena ini tahun pertama, 50 juta (orang pendaftar) itu kira-kira harus 150 ribu per hari. Jadi kita masih ada, masih perlu naik 50 ribu orang lagi per hari,\" ujarnya. Untuk mencapai target tersebut, pemerintah menggandeng sektor swasta, termasuk Grab, guna memperluas cakupan program. Menkes Budi membandingkan pendekatan ini dengan program vaksinasi COVID-19 yang juga berhasil melibatkan berbagai pihak. \"Jadi sama kayak vaksinasi COVID-19, kita harapkan (pendaftar Cek Kesehatan Gratis) bisa naik terus,\" kata Menkes. Menurutnya, pencapaian ini menunjukkan tingginya antusiasme masyarakat terhadap layanan kesehatan yang disediakan pemerintah. Program ini merupakan salah satu inisiatif kesehatan terbesar yang pernah dilakukan oleh Kementerian Kesehatan. Program Cek Kesehatan Gratis menawarkan berbagai layanan pemeriksaan kesehatan, termasuk skrining penyakit jantung, kanker, serta pemeriksaan kesehatan mental. Selain itu, program ini juga bertujuan menekan angka kasus tuberkulosis (TBC) serta meningkatkan fasilitas kesehatan di daerah tertinggal. \"Selain kesehatan gratis, kita juga harus menurunkan insidensi dari TBC dan juga membuka 66 rumah sakit di kabupaten/kota paling tertinggal atau terbelakang di seluruh Indonesia,\" ujarnya. (*) **) Ikuti berita terbaru TIMES Indonesia di Google News klik link ini dan jangan lupa di follow.\n",
      "\n",
      "unecessary words: iklan\n",
      "Random news 0: Tap Layar Dapat Saldo DANA Gratis Lewat Game Fruit Match, Seru dan Bikin Untung! Reporter: Neng Erlin | Editor: Ria Sofyan | Jumat 21-03-2025,10:59 WIB Ilustrasi. Tap layar dapat saldo dana gratis lewat game fruit match, seru dan bikin untung!--(Sumber : Doc/BETV) BETVNEWS - Saat ini kamu bisa mendapatkan saldo DANA gratis dari Fruit Match apk yang akan memberimu uang sebagai reward saat memainkan game tersebut. Oleh sebab itu, hal ini bisa menjadi salah satu cara menyenangkan untuk mendapatkan uang yang bisa langsung masuk ke akun DANA milikmu. BACA JUGA: Baru Instal Langsung Dapet Rp10 Ribu, Coba Color Lab Sekarang Saldo DANA Gratis Auto Cair! BACA JUGA: Reses DPRD Seluma Habiskan Rp750 Juta, Tokoh Masyarakat: Ajang Tampung Aspirasi, Nihil Realisasi Aplikasi ini merupakan aplikasi penghasil uang berbasis permainan puzzle yang mengharuskan pemain mencocokkan buah-buahan untuk mendapatkan poin. Poin yang dikumpulkan inilah yang nantinya bisa ditukar menjadi saldo DANA setelah mencapai jumlah tertentu. Oleh sebab itu, tidak heran jika pengguna tertarik menggunakan aplikasi ini karena selain menghibur, juga memberikan kesempatan untuk memperoleh penghasilan tambahan. BACA JUGA: Pererat Silaturahmi, Kejaksaan Negeri Bengkulu Buka Bersama Insan Pers BACA JUGA: Wujud Pendekatan Humanis, Lapas Perempuan Bengkulu Gelar Buka Bersama Keluarga Warga Binaan Tidak hanya dari bermain game, ada juga berbagai cara lain untuk mempercepat pengumpulan poin, seperti menyelesaikan misi harian, menonton iklan, dan mengundang teman. Dengan memanfaatkan semua fitur yang tersedia di dalam aplikasi ini, maka peluang mendapatkan saldo DANA bisa lebih besar. Namun, perlu diingat bahwa aplikasi seperti ini memiliki aturan dan sistem penukaran yang berbeda-beda, ada yang cepat dan ada yang lambat. BACA JUGA: Danrem 041 Garuda Emas Pimpin Penutupan TMMD ke-123 BACA JUGA: Buah Mangga Dipercaya Dapat Menurunkan Berat Badan, Cek Manfaatnya di Sini 1 2 3 4 » Cek Berita dan Artikel yang lain di Google News Sumber:\n",
      "\n",
      "Random news 1: Tap Layar Dapat Saldo DANA Gratis Lewat Game Fruit Match, Seru dan Bikin Untung! Reporter: Neng Erlin | Editor: Ria Sofyan | Jumat 21-03-2025,10:59 WIB Ilustrasi. Tap layar dapat saldo dana gratis lewat game fruit match, seru dan bikin untung!--(Sumber : Doc/BETV) BETVNEWS - Saat ini kamu bisa mendapatkan saldo DANA gratis dari Fruit Match apk yang akan memberimu uang sebagai reward saat memainkan game tersebut. Oleh sebab itu, hal ini bisa menjadi salah satu cara menyenangkan untuk mendapatkan uang yang bisa langsung masuk ke akun DANA milikmu. BACA JUGA: Baru Instal Langsung Dapet Rp10 Ribu, Coba Color Lab Sekarang Saldo DANA Gratis Auto Cair! BACA JUGA: Reses DPRD Seluma Habiskan Rp750 Juta, Tokoh Masyarakat: Ajang Tampung Aspirasi, Nihil Realisasi Aplikasi ini merupakan aplikasi penghasil uang berbasis permainan puzzle yang mengharuskan pemain mencocokkan buah-buahan untuk mendapatkan poin. Poin yang dikumpulkan inilah yang nantinya bisa ditukar menjadi saldo DANA setelah mencapai jumlah tertentu. Oleh sebab itu, tidak heran jika pengguna tertarik menggunakan aplikasi ini karena selain menghibur, juga memberikan kesempatan untuk memperoleh penghasilan tambahan. BACA JUGA: Pererat Silaturahmi, Kejaksaan Negeri Bengkulu Buka Bersama Insan Pers BACA JUGA: Wujud Pendekatan Humanis, Lapas Perempuan Bengkulu Gelar Buka Bersama Keluarga Warga Binaan Tidak hanya dari bermain game, ada juga berbagai cara lain untuk mempercepat pengumpulan poin, seperti menyelesaikan misi harian, menonton iklan, dan mengundang teman. Dengan memanfaatkan semua fitur yang tersedia di dalam aplikasi ini, maka peluang mendapatkan saldo DANA bisa lebih besar. Namun, perlu diingat bahwa aplikasi seperti ini memiliki aturan dan sistem penukaran yang berbeda-beda, ada yang cepat dan ada yang lambat. BACA JUGA: Danrem 041 Garuda Emas Pimpin Penutupan TMMD ke-123 BACA JUGA: Buah Mangga Dipercaya Dapat Menurunkan Berat Badan, Cek Manfaatnya di Sini 1 2 3 4 » Cek Berita dan Artikel yang lain di Google News Sumber:\n",
      "\n",
      "Random news 2: INFOBRAND.ID-Semangat anak muda dalam berkarya menjadi salah satu pendorong utama pertumbuhan industri lokal Indonesia. Didukung oleh ekosistem digital, kreativitas mereka melahirkan inovasi yang membuat merek lokal semakin berkembang dan mampu menghadirkan produk yang sesuai dengan tren serta kebutuhan pasar. Untuk mendukung potensi ini, Shopee hadir sebagai fasilitator yang memperluas jangkauan pasar, memberikan akses lebih luas bagi pelanggan di seluruh Indonesia, serta mendorong pertumbuhan merek lokal melalui berbagai program dan kampanye strategis. Dukungan terhadap merek lokal dan semangat anak muda dalam berinovasi telah membuka peluang bagi banyak pelaku usaha dalam membangun bisnisnya. IKLAN INFOBRAND.ID Salah satu contohnya adalah lahirnya Khadijah Label, yang kini dikenal sebagai KHDJH. Merek ini didirikan pada 2017 oleh Muhammad Themy Setiawan saat berusia 20 tahun, sebagai wujud dari mimpinya untuk berkontribusi dalam industri fesyen muslim Indonesia. Memulai perjalanan bisnis sebagai reseller, Themy melihat peluang lebih besar untuk menghadirkan produk fashion muslim berkualitas tinggi dengan harga terjangkau. Themy Setiawan, Owner KHDJH, berkomitmen menyediakan produk berkualitas yang merepresentasikan identitas muslimah modern. Selain itu, aksesibilitas dan kemudahan menjangkau konsumen menjadi prioritas utama. \"Dalam perjalanan kami sebagai brand lokal, bergabung dengan Shopee menjadi salah satu keputusan strategis yang memberikan dampak signifikan bagi pertumbuhan KHDJH. Ekosistem Shopee yang terintegrasi memungkinkan kami menjangkau pasar lebih luas, membangun hubungan erat dengan konsumen, serta memastikan distribusi produk berjalan lebih efisien. Hingga kini, Shopee terus menjadi platform dengan kontribusi penjualan terbesar bagi KHDJH,\" ungkapnya. Keberhasilan ini turut didukung berbagai program dan inisiatif Shopee, termasuk kampanye 12.12, yang mendorong peningkatan penjualan KHDJH hingga enam kali lipat. IKLAN INFOBRAND.ID “Hal ini dapat tercapai berkat sejumlah program dan inisiatif Shopee yang mendukung penjualan, salah satunya seperti kampanye 12.12 tahun lalu, di mana kami mengalami peningkatan penjualan hingga 6x lipat,” ujar Themy dalam keterangan tertulis, Rabu (19/3/2025). Dengan pengalaman yang semakin matang dan modal yang telah ia kumpulkan, pada 2019 Themy mengambil langkah besar dengan mulai memproduksi sendiri produk di bawah merek KHDJH. Sejak awal, fokusnya bukan hanya mengembangkan bisnis, tetapi juga menciptakan dampak lebih luas dengan membangun komunitas yang lebih berdaya dan berkelanjutan. Komitmen ini diwujudkan dengan membangun rantai produksi berbasis lokal—mulai dari penggunaan bahan baku dalam negeri hingga melibatkan tenaga kerja lokal dalam proses pengerjaan. KHDJH juga aktif memberikan pelatihan keterampilan bagi para pekerja, memastikan standar kerja yang tinggi sekaligus membuka kesempatan bagi mereka untuk berkembang secara profesional. Namun, perjalanan membangun KHDJH tak selalu mulus. Tantangan seperti deadstock yang menumpuk, kerugian penjualan, hingga kasus penipuan sempat dihadapi. Meski demikian, keyakinan pada kualitas produk dan kekompakan tim menjadi motivasi utama bagi Themy untuk terus bertahan. IKLAN INFOBRAND.ID \"Saat merintis KHDJH, saya belum memiliki banyak pengalaman berbisnis. Salah satu pelajaran berharga yang saya dapatkan sebagai pengusaha muda adalah pentingnya memiliki mentor terpercaya, membangun relasi bisnis yang tepat, serta menjadi pemimpin yang baik bagi tim. Selain itu, kita juga harus berhati-hati dan bijak dalam mengambil keputusan keuangan,\" paparnya. \"Membangun bisnis bukan hanya tentang seberapa cepat kita bisa besar, tetapi seberapa lama kita bisa mempertahankan bisnis dalam kondisi yang sehat dan berdampak positif bagi orang lain,\" dia menambahkan. Kerja keras itu akhirnya membuahkan hasil. Di usia 28 tahun, Themy berhasil membawa KHDJH ke level yang lebih tinggi. Kini, KHDJH memiliki lebih dari 30 karyawan, memberdayakan 100 penjahit lokal, serta membuka peluang bagi ratusan reseller dan dropshipper di seluruh Indonesia. Keberhasilan ini bukan sekadar pertumbuhan bisnis, tetapi juga bagaimana KHDJH menciptakan dampak bagi komunitas yang lebih luas. Perubahan perilaku konsumen yang semakin mengandalkan belanja online mendorong pelaku usaha untuk terus beradaptasi dengan strategi digital yang tepat. Menyadari hal ini, KHDJH terus memperkuat kehadiran digitalnya dengan mengoptimalkan berbagai fitur interaktif serta program strategis Shopee, termasuk kampanye Shopee Big Ramadan Sale. IKLAN INFOBRAND.ID \"Sebagai brand fesyen muslim lokal, momen Ramadan selalu spesial bagi KHDJH, di mana permintaan terhadap produk fesyen muslim meningkat secara signifikan. Maka itu, kami selalu antusias mengikuti kampanye Shopee Big Ramadan Sale setiap tahunnya, yang dari tahun ke tahun selalu menjadi wadah bagi KHDJH untuk menghadirkan koleksi khusus Ramadan agar lebih mudah dijangkau oleh konsumen di seluruh Indonesia,\" katanya. \"Pada Ramadan tahun ini, KHDJH secara eksklusif meluncurkan Mukena Signature Ramadan Series di Shopee. Selain itu, KHDJH juga menghadirkan hampers khusus Ramadan untuk mendukung pelanggan dalam berbagi kebahagiaan di bulan suci ini,\" tambah Themy. Tak hanya aktif dalam kampanye tematik, KHDJH juga memanfaatkan fitur Shopee Live, bahkan sejak masih dalam tahap uji coba. Saat ini, Shopee Live berkontribusi terhadap 40% omzet KHDJH. Melihat kesuksesan ini, Themy memprediksi bahwa fitur live streaming seperti Shopee Live bukan sekadar fitur tambahan, tetapi akan menjadi elemen wajib bagi merek untuk tetap relevan dalam tren digital. Baca berita lainnya di Google News KHDJH Share This Article!\n",
      "\n"
     ]
    }
   ],
   "source": [
    "import random\n",
    "import re\n",
    "\n",
    "matches = news_dataset[news_dataset['content'].str.contains(regex_unecessary_words, na=False)]\n",
    "\n",
    "key_unecessary_words = [\"baca juga\", \"advertisement\", \"iklan\"]\n",
    "\n",
    "for keyword in key_unecessary_words:\n",
    "    print(f\"unecessary words: {keyword}\")\n",
    "    matches_keyword = matches[matches['content'].str.contains(r'(?i)\\b' + re.escape(keyword) + r'\\b', na=False)]\n",
    "    matches_reset = matches_keyword.reset_index(drop=True)\n",
    "    for num in range(3):\n",
    "        if len(matches_keyword) > 0:\n",
    "            random_news_instance = random.randint(0, len(matches_keyword) - 1)\n",
    "            print(f\"Random news {num}: {matches_keyword['content'].iloc[random_news_instance]}\\n\")\n",
    "        else:\n",
    "            print(f\"No matches for {keyword} found in the dataset.\\n\")"
   ]
  },
  {
   "cell_type": "markdown",
   "metadata": {},
   "source": [
    "#### Using regular expression, it is detected that there are 310 instances of news texts containing \"baca juga\", \"advertisement\", and \"iklan\" strings. We can also see the random news text containing the mentioned strings through regular expression (regex). However it is important to take these into consideration:\n",
    "1. The regex retrieves solely news with abovementioned strings; it does not take the sentence where the strings are bound into consideration (e.g., the \"baca juga\" strings can take place in non-initial positions; the strings could be part of phrases of meaningful sentences, instead of just a imperative phrase redirecting readers to other news articles)\n",
    "2. The strings \"iklan\" and \"advertisement\" seem to only be noises when the words are all capitalized\n",
    "\n",
    "#### To account for this problem, we will:\n",
    "1. Modify the regex to only filter out the strings \"iklan\" and \"advertisement\" when they are all capitalized\n",
    "2. Use spaCy to segment the news into separate sentences, then modify the regex expression to filter out \"baca juga\" in sentence initial positions"
   ]
  }
 ],
 "metadata": {
  "kernelspec": {
   "display_name": "news_content_cleaner",
   "language": "python",
   "name": "python3"
  },
  "language_info": {
   "codemirror_mode": {
    "name": "ipython",
    "version": 3
   },
   "file_extension": ".py",
   "mimetype": "text/x-python",
   "name": "python",
   "nbconvert_exporter": "python",
   "pygments_lexer": "ipython3",
   "version": "3.11.6"
  }
 },
 "nbformat": 4,
 "nbformat_minor": 2
}
