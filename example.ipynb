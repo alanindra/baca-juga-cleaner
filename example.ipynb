{
 "cells": [
  {
   "cell_type": "markdown",
   "metadata": {},
   "source": [
    "# Text data cleaning by means of sentence segmentation/tokenization\n",
    "\n",
    "### This program is intended to clean text data by removing unncessary sentences initiated by \"baca juga\" and \"advertisement\" strings. It uses spaCy NLP library for sentence segmentation."
   ]
  },
  {
   "cell_type": "markdown",
   "metadata": {},
   "source": [
    "### 1. Reading dataset\n",
    "\n",
    "#### We will be reading a dataset/corpus containing news text data."
   ]
  },
  {
   "cell_type": "code",
   "execution_count": 60,
   "metadata": {},
   "outputs": [
    {
     "name": "stdout",
     "output_type": "stream",
     "text": [
      "0      ALASKA — It's been snowing a lot lately in nor...\n",
      "1      ESB Science Blast. 2.508 suka. An incredible S...\n",
      "2      Suara.com - BRIZZI merupakan salah satu kartu ...\n",
      "3      - Cash Tree Siapa sih yang tidak kenal dengan ...\n",
      "4      KBEonline.id – Solo Leveling Season 2 episode ...\n",
      "                             ...                        \n",
      "897    HAIJAKARTA.ID – Nomor HP kamu bisa menerima sa...\n",
      "898    JABAR EKSPRES – Hadir kembali link penghasil s...\n",
      "899    Jakarta, benang.id – GoPay, unit bisnis Financ...\n",
      "900    SINGAPORE: The Competition and Consumer Commis...\n",
      "901    Once you sign up, $111 is added to your bonus ...\n",
      "Name: content, Length: 902, dtype: object\n"
     ]
    }
   ],
   "source": [
    "import pandas as pd\n",
    "import os\n",
    "\n",
    "# reding the news dataset\n",
    "news_dataset = pd.read_csv(f\"{os.getcwd()}/news_dataset.csv\")\n",
    "news_dataset_clean = news_dataset.dropna(subset=['content'])\n",
    "news_dataset_clean = news_dataset_clean.reset_index(drop=True)\n",
    "\n",
    "print(news_dataset_clean[\"content\"])"
   ]
  },
  {
   "cell_type": "markdown",
   "metadata": {},
   "source": [
    "#### The dataset contains 901 rows of news texts."
   ]
  },
  {
   "cell_type": "code",
   "execution_count": 72,
   "metadata": {},
   "outputs": [
    {
     "name": "stdout",
     "output_type": "stream",
     "text": [
      "0      False\n",
      "1      False\n",
      "2      False\n",
      "3       True\n",
      "4       True\n",
      "       ...  \n",
      "897    False\n",
      "898     True\n",
      "899    False\n",
      "900    False\n",
      "901    False\n",
      "Name: matches, Length: 902, dtype: bool\n",
      "310 instances of news text with unecessary words \n",
      "0.34 percent of instances with unecessary words\n"
     ]
    }
   ],
   "source": [
    "import warnings\n",
    "\n",
    "warnings.simplefilter(\"ignore\", UserWarning)\n",
    "\n",
    "# regex with the unecessary keywords\n",
    "regex_unecessary_words = r\"(?i)\\b(baca juga|advertisement|iklan)\\b\"\n",
    "\n",
    "# add new column matches where True indicates instances of news text with unecessary word\n",
    "news_dataset_clean['matches'] = news_dataset_clean['content'].str.contains(regex_unecessary_words)\n",
    "\n",
    "# count the no. of True observation of column 'matches' and len of news_dataset_clean\n",
    "nrow_matches = news_dataset_clean['matches'].sum()\n",
    "nrow_news_dataset = len(news_dataset_clean)\n",
    "\n",
    "print(f\"{nrow_matches} instances of news text with unecessary words \\n{nrow_matches/nrow_news_dataset:.2f} percent of instances with unecessary words\")"
   ]
  },
  {
   "cell_type": "markdown",
   "metadata": {},
   "source": [
    "#### From 1047 instances, there are 310 instances (34%) of news text containing unecessary words. Below are the randomly picked news text containing aforementioned words:"
   ]
  },
  {
   "cell_type": "code",
   "execution_count": 74,
   "metadata": {},
   "outputs": [
    {
     "name": "stdout",
     "output_type": "stream",
     "text": [
      "--- Unecessary words: baca juga ---\n",
      "Random news 0: Tap Layar Dapat Saldo DANA Gratis Lewat Game Fruit Match, Seru dan Bikin Untung! Reporter: Neng Erlin | Editor: Ria Sofyan | Jumat 21-03-2025,10:59 WIB Ilustrasi. Tap layar dapat saldo dana gratis lewat game fruit match, seru dan bikin untung!--(Sumber : Doc/BETV) BETVNEWS - Saat ini kamu bisa mendapatkan saldo DANA gratis dari Fruit Match apk yang akan memberimu uang sebagai reward saat memainkan game tersebut. Oleh sebab itu, hal ini bisa menjadi salah satu cara menyenangkan untuk mendapatkan uang yang bisa langsung masuk ke akun DANA milikmu. BACA JUGA: Baru Instal Langsung Dapet Rp10 Ribu, Coba Color Lab Sekarang Saldo DANA Gratis Auto Cair! BACA JUGA: Reses DPRD Seluma Habiskan Rp750 Juta, Tokoh Masyarakat: Ajang Tampung Aspirasi, Nihil Realisasi Aplikasi ini merupakan aplikasi penghasil uang berbasis permainan puzzle yang mengharuskan pemain mencocokkan buah-buahan untuk mendapatkan poin. Poin yang dikumpulkan inilah yang nantinya bisa ditukar menjadi saldo DANA setelah mencapai jumlah tertentu. Oleh sebab itu, tidak heran jika pengguna tertarik menggunakan aplikasi ini karena selain menghibur, juga memberikan kesempatan untuk memperoleh penghasilan tambahan. BACA JUGA: Pererat Silaturahmi, Kejaksaan Negeri Bengkulu Buka Bersama Insan Pers BACA JUGA: Wujud Pendekatan Humanis, Lapas Perempuan Bengkulu Gelar Buka Bersama Keluarga Warga Binaan Tidak hanya dari bermain game, ada juga berbagai cara lain untuk mempercepat pengumpulan poin, seperti menyelesaikan misi harian, menonton iklan, dan mengundang teman. Dengan memanfaatkan semua fitur yang tersedia di dalam aplikasi ini, maka peluang mendapatkan saldo DANA bisa lebih besar. Namun, perlu diingat bahwa aplikasi seperti ini memiliki aturan dan sistem penukaran yang berbeda-beda, ada yang cepat dan ada yang lambat. BACA JUGA: Danrem 041 Garuda Emas Pimpin Penutupan TMMD ke-123 BACA JUGA: Buah Mangga Dipercaya Dapat Menurunkan Berat Badan, Cek Manfaatnya di Sini 1 2 3 4 » Cek Berita dan Artikel yang lain di Google News Sumber:\n",
      "\n",
      "Random news 1: Jakarta – Indeks Harga Saham Gabungan (IHSG) pada hari ini, 20 Maret 2025, kembali ditutup bertahan pada zona hijau ke posisi 6.381,67 dari dibuka pada level 6.311,66 atau menguat 1,11 persen. Berdasarkan statistik RTI Business tercatat sebanyak 272 saham terkoreksi, 299 saham menguat, dan 233 tetap tidak berubah. Sebanyak 16,72 miliar saham diperdagangkan dengan 1,10 juta kali frekuensi perpindahan tangan, serta total nilai transaksi tembus Rp11,31 triliun. Baca juga: IHSG Sesi I Ditutup Hijau pada Level 6.368 Meski begitu, beberapa indeks dalam negeri bergerak turun, dengan IDX30 melemah 0,66 persen menjadi 370,05, Sri-Kehati merosot 0,70 persen menjadi 327,40, dan LQ45 turun 0,21 persen menjadi 710,20. Sedangkan, JII menguat 1,98 persen menjadi 412,89. Selanjutnya, mayoritas sektor bergerak meningkat tecermin dari sektor teknologi naik 9,84 persen, sektor bahan baku meningkat 2,49 persen, sektor transportasi menguat 1,89 persen, sektor energi naik 0,85 persen. Serta, sektor industrial menguat 0,77 persen, sektor siklikal meningkat 0,56 persen, sektor infrastruktur naik 0,42 persen, dan sektor kesehatan menguat 0,19 persen. Baca juga: OJK Terbitkan Kebijakan Buyback Saham Tanpa RUPS di Tengah Kondisi Pasar Fluktuatif Sedangkan sektor sisanya melemah, dengan sektor keuangan merosot 0,95 persen, sektor non-siklikal turun 0,62 persen, dan sektor properti melemah 0,11 persen. Sederet saham top gainers di antaranya adalah PT Aspirasi Hidup Indonesia Tbk (ACES), PT Bank Syariah Indonesia Tbk (BRIS), dan PT Murni Sadar Tbk (MTMH). Sedangkan saham top losers adalah PT Dana Brata Luhur Tbk (TEBE), PT MNC Digital Entertainment Tbk (MSIN), dan PT Amman Mineral Internasional Tbk (AMMN). Adapun tiga saham teratas yang paling sering diperdagangkan, yaitu PT GoTo Gojek Tokopedia Tbk (GOTO), PT Bukalapak.com Tbk (BUKA), dan PT Bumi Resources Tbk (BUMI). (*) Editor: Yulian Saputra\n",
      "\n",
      "Random news 2: Bonus THR Cair! Klaim Saldo DANA Gratis Rp216.000 dari Aplikasi Penghasil Uang Terbaru 2025 Rabu 19-03-2025,07:30 WIB Reporter: Adinda Salsabila | Editor: Adinda Salsabila Klaim saldo DANA gratis senilai Rp216.000 dari aplikasi penghasil uang terbaru [email protected] JAKARTA, DISWAY.ID - Klaim saldo DANA gratis senilai Rp216.000 dari aplikasi penghasil uang terbaru 2025. Bagi kamu yang tengah mencari penghasilan tambahan, memainkan beberapa aplikasi penghasil uang di era digital yang berkembang semakin pesat bisa menerima saldo DANA gratis. Kamu bisa menerima saldo DANA gratis dari aplikasi penghasil uang jika sudah berhasil menjalani misi yang diberikan. BACA JUGA: Cara Klaim Link Saldo DANA Kaget Gratis Rp666.000 Lewat Aplikasi Penghasil Uang Spesial THR, Cuan untuk Beli Baju Lebaran! Tanpa modal yang besar, keuntungan ini dapat diterima secara cuma-cuma oleh pengguna internet. Bermodalkan HP yang terhubung dengan jaringan internet dan menyelesaikan tugas yang tersedia, dengan begitu pundi-pundi uang akan masuk ke dompet digital. Beberapa aplikasi penghasil uang terbaru di bulan Maret 2025 memudahkan pengguna dalam mengerjakan misinya tanpa harus keluar rumah. Namun, kamu harus download aplikasi penghasil uang yang sudah terbukti membayar di Google Play Store atau App Store guna menghindari penipuan. Penasaran apa saja rekomendasi aplikasi penghasil uang yang bisa kamu mainkan untuk mendapatkan uang tambahan di bulan Ramadan ini? Disway.id telah merangkumnya. BACA JUGA: 4 Aplikasi Penghasil Saldo DANA Gratis Tercepat 2025, Bisa Hasilkan Rp550.000 ke E-Wallet Tanpa Syarat! Rekomendasi Aplikasi Penghasil Uang Terbaru Maret 2025 Berbagai aplikasi penghasil saldo DANA gratis menawarkan banyak misi, seperti membaca novel, membaca berita, mengisi survei, hingga bermain game. 1. GoNovel GoNovel merupakan platform membaca online yang diluncurkan pada tahun 2022 oleh GoNovel Studio. Bagi kamu yang hobi membaca bisa menggunakan aplikasi penghasil uang ini untuk mendapatkan saldo DANA gratis. BACA JUGA: Buat THR! Nomor WA Kamu Dikirim Saldo DANA Kaget Gratis Rp725.000 Siang Ini, Cuma Tukar Koin dari Aplikasi Penghasil Uang Berikut Ada dua cara sederhana, menjadi penulis dan membaca banyak cerita Berbagai genre cerita ditawarkan oleh GoNovel untuk pembaca setianya mulai dari romance, horror, komedi, dan masih banyak lagi. Pengguna akan mendapatkan poin setelah membaca cerita di GoNovel dan bisa ditukar menjadi saldo DANA gratis atau voucher pulsa. 2. TikTok Live Live streaming di TikTok ternyata juga bisa menghasilkan uang, lho! Pengguna Tiktok yang membuat siaran live minimal berusia di atas 16 tahun. BACA JUGA: Buat THR! Nomor WA Kamu Dikirim Saldo DANA Kaget Gratis Rp725.000 Siang Ini, Cuma Tukar Koin dari Aplikasi Penghasil Uang Berikut Selain itu, akun pengguna Tik Tok juga wajib punya minimal 1.000 pengikut dan lebih dari 100.000 kali tayangan dalam 30 hari. Nantinya, uang dapat dicairkan bila pengguna sudah mengumpulkan saldo TikTok minimal 100 dolar AS. Fitur live streaming Tiktok juga dapat dipakai untuk mencari uang tanpa harus memenuhi syarat jumlah follower dan tayangan. Pemilik akun bisa ikut program affiliate Tiktok, cari sponsor atau iklan sendiri, hingga berjualan langsung. 3. Surveyon Surveyon merupakan situs web survei berbayar online yang penggunanya dapat berpartisipasi dalam studi pemasaran dan menukarkan poin yang didapat dengan uang. BACA JUGA: 5 Aplikasi Penghasil Saldo DANA Gratis yang Terbukti Membayar Rp255.000 Hari Ini 18 Maret 2025, Dijamin Langsung Cair! Surveyon termasuk situs survei populer karena mudah digunakan, cepat dalam pembayaran, dan dapat mencairkan poin yang didapat dengan jumlah uang dalam batas minimal. 4. Google Opinion Rewards Google Opinion Rewards adalah program loyalitas yang memungkinkan pengguna untuk mendapatkan hadiah dengan menjawab survei yang dijalankan oleh peneliti pasar. Survei yang akan diberikan dapat berupa jajak pendapat, ulasan hotel, atau survei kepuasan pedagang. Jika berhasil mengisi survei, pengguna dapat menerima hadiah berupa kredit Google Play untuk Android atau pembayaran melalui PayPal untuk iOS. BACA JUGA: Panduan Lengkap Tukar Uang Lebaran 2025 di Aplikasi PINTAR Bank Indonesia, Ditunggu Sampai 23 Maret! 5. Snack Video Snack Video dikenal sebagai aplikasi yang menawarkan penggunanya untuk menyaksikan video pendek dengan berbagai konten yang menarik. Aplikasi tersebut memungkinkan penggunanya untuk menonton atau membuat video berdurasi singkat, namun menghasilkan uang. Kehadiran aplikasi ini pun juga diburu oleh pengguna internet karena caranya yang mudah, praktis, dan tak memakan waktu banyak. 6. Eazegames Selanjutnya, ada Eazegames yang menawarkan berbagai macam permainan di aplikasinya. BACA JUGA: Tukar Poin dari Aplikasi Penghasil Uang, Langsung Cair Saldo DANA Gratis Rp523.000 Hari Ini Kamu bisa mengunduh gratis aplikasi ini tanpa membutuhkan deposit. Agar bisa mendapatkan saldo dana gratis, kamu perlu memenangkan setiap misi atau permainan yang berlaku. Saldo tersebut bisa dicairkan melalui PayPal atau e-wallet, seperti DANA. 7. JOYit JOYit adalah aplikasi penghasil uang yang terbukti membayar dan telah banyak digunakan orang-orang. JOYit menyediakan berbagai permainan menarik yang bisa memberikan hadiah saldo DANA gratis. BACA JUGA: Uang Kontrak dan Aplikasi E-recycle PT MIDL Raib, 3 Orang Mantan Direksi Dilaporkan Natalia Rusli Dengan aplikasi ini, pengguna hanya diminta menyelesaikan misi utama untuk mengumpulkan poin sebanyak-banyaknya. Jika kamu menyukai tantangan, JOYit kerap mengadakan acara esport yang bisa diikuti untuk mendapat hadiah eksklusif. Catatan: Artikel ini hanya berupa informasi seputar saldo DANA Gratis yang bisa dimanfaatkan untuk menambah penghasilan. Namun segala resiko seperti kegagalan di luar tanggung jawab Disway.id. Cek Berita dan Artikel lainnya di Google News Temukan Berita Terkini kami di WhatsApp Channel Sumber:\n",
      "\n",
      "--- Unecessary words: advertisement ---\n",
      "Random news 0: Jakarta, Beritasatu.com – Bulan suci Ramadan selalu menjadi momen istimewa bagi umat Muslim untuk berkumpul, berbagi, dan mempererat silaturahmi. Untuk merayakan momen penuh berkah ini, PIK 2 Ramadan Under The Dome akan hadir pada 21-23 Maret 2025 di Spike Air Dome, Pantai Indah Kapuk 2, mulai pukul 15.00 hingga 22.00 WIB. Acara ini menghadirkan pengalaman berbuka puasa bersama dalam suasana yang megah, disertai tausiyah dari ustadz ternama, hiburan Islami, serta berbagai aktivitas komunitas dalam satu tempat. Spike Air Dome: Venue Megah dengan Kapasitas 5.000 Orang Bertempat di Spike Air Dome, dome terbesar di Indonesia dengan kapasitas hingga 5.000 orang, PIK 2 Ramadan Under The Dome ini menawarkan pengalaman berbuka puasa yang unik dalam suasana Ramadan yang megah. Dengan desain arsitektur inovatif dan atmosfer yang nyaman, pengunjung akan merasakan kebersamaan dalam ibadah, tausiyah, serta hiburan islami yang berkesan. &#34;Kami sudah mempersiapkan Spike Air Dome dan sekelilingnya untuk memastikan acara ini menjadi suatu pengalaman yang tak terlupakan,&#34; Ungkap Managing Director Spike Air Dome Ryan Adrian. Advertisement Tiket Terjual Hampir 2.000 dan Terus Bertambah Sejak diumumkan, acara ini mendapat sambutan luar biasa dari masyarakat. Hingga saat ini, hampir 2.000 tiket telah terjual, dan jumlahnya terus meningkat. Dengan kapasitas terbatas, pengunjung disarankan untuk segera mengamankan tiket sebelum kehabisan. Setiap harinya, pengunjung akan mendapatkan inspirasi dari tausiyah oleh ustadz ternama, antara lain Ustadz Abu Fida, Ustadz Subky Al-Bughury, dan Ustadz Maulana. Selain itu, terdapat Islamic School Competition yang memberikan kesempatan bagi anak-anak dan remaja untuk berkompetisi secara individu maupun kelompok dalam Musabaqah Tilawatil Quran (MTQ) dan Hadroh dengan total hadiah senilai belasan juta untuk kategori SD hingga SMA. Dari sisi hiburan, pengunjung tidak akan pernah bosan karena penampilan musisi dan artis papan atas siap menghibur selama acara berlangsung. Beberapa line up penampil antara lain Kaka Slank, Jey Pahlevi, Namira Diansyah dan Menie Hepilogue ft. Lima Warna Beragam Kuliner, Tenant Produk, dan Layanan Kesehatan Tak lengkap rasanya berbuka puasa tanpa hidangan lezat. Ada puluhan tenant kuliner dan multiproduk yang siap memanjakan pengunjung. Pengunjung dapat menikmati berbagai pilihan makanan dari tenant populer seperti Bebek Carok, Bakso Rusuk Solo 39, Es Teh Indonesia, Burgo, Oma Dian, 5. Bakmi Ayam Jamurqu, Fruiti Brust, Oyster Omelette, Es Tebu Indonesia, dan masih banyak lagi. Untuk Anda yang ingin berbelanja, tersedia tenant multiproduk seperti Kanase, Saujana Wear, Majoo, serta berbagai booth dari Rumah Zakat, Agung Sedayu Grup, Wings, POP PLAY by Enjoy PIK, PIK Tourism, JNE, Hervita Air Mineral, Haka Auto, dan brand-brand besar maupun UKM yang bersanding memeriahkan acara ini. PIK 2 Ramadan Under The Dome semakin lebih menarik dengan adanya dukungan dari RS Hermina yang menyediakan booth untuk cek kesehatan bagi setiap pengunjung. Nikmati kesempatan untuk menjalani Ramadan dengan lebih sehat. PIK 2 Ramadan Under The Dome bukan sekadar acara berbuka puasa bersama, tetapi juga perayaan nilai-nilai kebersamaan, kepedulian sosial, dan spiritualitas dalam suasana Ramadan yang penuh keberkahan. Dengan beragam kegiatan inspiratif dan hiburan Islami, acara ini akan menjadi pengalaman tak terlupakan bagi seluruh pengunjung. Tiket bisa didapatkan melalui link ini atau melalui Instagram @ramadandome_pik2. Editor: Yurike Metriani ( yurikemetriani@gmail.com ) #PIK 2 #pantai indah kapuk #ramadan #Ramadan Under the Dome Follow Channel Telegram Official kami untuk update artikel-artikel investor.id Follow Baca Berita Lainnya di Google News Read Now LIVE STREAMING Saksikan tayangan informasi serta analisis ekonomi, keuangan, dan pasar modal di IDTV BAGIKAN URL berhasil di salin.\n",
      "\n",
      "Random news 1: Jakarta, Beritasatu.com – Bulan suci Ramadan selalu menjadi momen istimewa bagi umat Muslim untuk berkumpul, berbagi, dan mempererat silaturahmi. Untuk merayakan momen penuh berkah ini, PIK 2 Ramadan Under The Dome akan hadir pada 21-23 Maret 2025 di Spike Air Dome, Pantai Indah Kapuk 2, mulai pukul 15.00 hingga 22.00 WIB. Acara ini menghadirkan pengalaman berbuka puasa bersama dalam suasana yang megah, disertai tausiyah dari ustadz ternama, hiburan Islami, serta berbagai aktivitas komunitas dalam satu tempat. Spike Air Dome: Venue Megah dengan Kapasitas 5.000 Orang Bertempat di Spike Air Dome, dome terbesar di Indonesia dengan kapasitas hingga 5.000 orang, PIK 2 Ramadan Under The Dome ini menawarkan pengalaman berbuka puasa yang unik dalam suasana Ramadan yang megah. Dengan desain arsitektur inovatif dan atmosfer yang nyaman, pengunjung akan merasakan kebersamaan dalam ibadah, tausiyah, serta hiburan islami yang berkesan. &#34;Kami sudah mempersiapkan Spike Air Dome dan sekelilingnya untuk memastikan acara ini menjadi suatu pengalaman yang tak terlupakan,&#34; Ungkap Managing Director Spike Air Dome Ryan Adrian. Advertisement Tiket Terjual Hampir 2.000 dan Terus Bertambah Sejak diumumkan, acara ini mendapat sambutan luar biasa dari masyarakat. Hingga saat ini, hampir 2.000 tiket telah terjual, dan jumlahnya terus meningkat. Dengan kapasitas terbatas, pengunjung disarankan untuk segera mengamankan tiket sebelum kehabisan. Setiap harinya, pengunjung akan mendapatkan inspirasi dari tausiyah oleh ustadz ternama, antara lain Ustadz Abu Fida, Ustadz Subky Al-Bughury, dan Ustadz Maulana. Selain itu, terdapat Islamic School Competition yang memberikan kesempatan bagi anak-anak dan remaja untuk berkompetisi secara individu maupun kelompok dalam Musabaqah Tilawatil Quran (MTQ) dan Hadroh dengan total hadiah senilai belasan juta untuk kategori SD hingga SMA. Dari sisi hiburan, pengunjung tidak akan pernah bosan karena penampilan musisi dan artis papan atas siap menghibur selama acara berlangsung. Beberapa line up penampil antara lain Kaka Slank, Jey Pahlevi, Namira Diansyah dan Menie Hepilogue ft. Lima Warna Beragam Kuliner, Tenant Produk, dan Layanan Kesehatan Tak lengkap rasanya berbuka puasa tanpa hidangan lezat. Ada puluhan tenant kuliner dan multiproduk yang siap memanjakan pengunjung. Pengunjung dapat menikmati berbagai pilihan makanan dari tenant populer seperti Bebek Carok, Bakso Rusuk Solo 39, Es Teh Indonesia, Burgo, Oma Dian, 5. Bakmi Ayam Jamurqu, Fruiti Brust, Oyster Omelette, Es Tebu Indonesia, dan masih banyak lagi. Untuk Anda yang ingin berbelanja, tersedia tenant multiproduk seperti Kanase, Saujana Wear, Majoo, serta berbagai booth dari Rumah Zakat, Agung Sedayu Grup, Wings, POP PLAY by Enjoy PIK, PIK Tourism, JNE, Hervita Air Mineral, Haka Auto, dan brand-brand besar maupun UKM yang bersanding memeriahkan acara ini. PIK 2 Ramadan Under The Dome semakin lebih menarik dengan adanya dukungan dari RS Hermina yang menyediakan booth untuk cek kesehatan bagi setiap pengunjung. Nikmati kesempatan untuk menjalani Ramadan dengan lebih sehat. PIK 2 Ramadan Under The Dome bukan sekadar acara berbuka puasa bersama, tetapi juga perayaan nilai-nilai kebersamaan, kepedulian sosial, dan spiritualitas dalam suasana Ramadan yang penuh keberkahan. Dengan beragam kegiatan inspiratif dan hiburan Islami, acara ini akan menjadi pengalaman tak terlupakan bagi seluruh pengunjung. Tiket bisa didapatkan melalui link ini atau melalui Instagram @ramadandome_pik2. Editor: Yurike Metriani ( yurikemetriani@gmail.com ) #PIK 2 #pantai indah kapuk #ramadan #Ramadan Under the Dome Follow Channel Telegram Official kami untuk update artikel-artikel investor.id Follow Baca Berita Lainnya di Google News Read Now LIVE STREAMING Saksikan tayangan informasi serta analisis ekonomi, keuangan, dan pasar modal di IDTV BAGIKAN URL berhasil di salin.\n",
      "\n",
      "Random news 2: Liputan6.com, Jakarta Saham Indosat Ooredoo Hutchison Tbk (ISAT) terpantau berada di zona merah pada perdagangan hari ini, Kamis 20 Maret 2025. Saham IHSG turun 2,04 persen ke posisi 1.440 pada penutupan sesi I. Dalam sepekan, ISAT turun 5,88 persen dan turun 39,50 persen sejak awal tahun (year to date/YTD). Belum lama ini, Indosat dan Bank Saqu, layanan perbankan digital dari PT Bank Jasa Jakarta yang dimiliki oleh Astra Financial dan WeLab, secara resmi mengumumkan kolaborasi inovatif untuk memperluas inklusi keuangan digital. Dengan memanfaatkan basis pelanggan IOH yang tersebar luas di seluruh Indonesia serta basis nasabah Bank Saqu, di mana sekitar 40% di antaranya merupakan solopreneur yang mencari solusi digital cerdas untuk memenuhi kebutuhan mereka. Kolaborasi ini menghadirkan peluang pasar yang signifikan melalui sinergi yang kuat. BACA JUGA: IHSG Melambung 1 Persen, Saham GOTO Tergelincir Hari Ini 20 Maret 2025 BACA JUGA: Investasi, Direktur Bank Syariah Indonesia Beli 20 Ribu Saham BRIS BACA JUGA: IHSG Hanya Anjlok Sementara, Begini Analisanya Baca Juga RUPS Bank OCBC NISP Restui Dividen Rp 2,43 Triliun Fundemental Indonesia Masih Kuat Meski IHSG Sempat Jeblok, Ini Buktinya Awas, Trading Halt jadi Peluang Perusahaan Besar Monopoli Emiten UMKM “Kolaborasi inovatif kami dengan Bank Saqu merupakan wujud komitmen kami untuk menghadirkan pengalaman digital kelas dunia yang mampu memberdayakan masyarakat Indonesia. Dengan wawasan pelanggan dan propensity model, kami dapat secara efektif menjangkau pengguna yang tepat,&#34; kata Director and Chief Commercial Officer Indosat Ooredoo Hutchison, Ritesh Kumar Singh, Kamis (20/3/2025). Advertisement Sebagai langkah awal kolaborasi ini, layanan perbankan digital Bank Saqu kini telah terintegrasi dalam aplikasi IOH, memberikan tidak hanya konektivitas yang seamless tetapi juga akses yang lebih mudah terhadap solusi keuangan. Kolaborasi ini memberikan manfaat nyata bagi pelanggan Indosat maupun nasabah Bank Saqu. Melalui kolaborasi ini, IOH akan menggunakan informasi pelanggan dan propensity model untuk memastikan layanan perbankan digital yang ditawarkan tepat sasaran dan sesuai kebutuhan pengguna. Dengan menerapkan strategi ini, Indosat dan Bank Saqu berupaya menciptakan pengalaman perbankan yang lebih inklusif dan efisien namun tetap menjaga privasi pengguna. “Kami percaya kolaborasi lintas industri berperan penting dalam mendorong inklusi keuangan di Indonesia. Sebagai Teman Seperjuangan, kami berkomitmen membantu masyarakat, khususnya para solopreneur, untuk memperoleh solusi perbankan digital yang inovatif dan mudah digunakan, serta mendorong kebiasaan keuangan yang positif,&#34; ujar Presiden Direktur PT Bank Jasa Jakarta, Leo Koesmanto.\n",
      "\n",
      "--- Unecessary words: iklan ---\n",
      "Random news 0: Dapatkan Saldo DANA Gratis dengan Bermain Game, Temukan Cara Mudah Menggunakan Mistplay Reporter: Erna | Editor: Ros Diana | Kamis 20-03-2025,08:17 WIB Dapatkan Saldo DANA Gratis dengan Bermain Game, Temukan Cara Mudah Menggunakan Mistplay--ist PRABUMULIHPOS.DISWAY.ID – Bagi Anda yang gemar bermain game mobile dan ingin mendapatkan hadiah, aplikasi Mistplay bisa menjadi pilihan yang menarik. Mistplay merupakan cara yang menyenangkan untuk memperoleh saldo DANA gratis sembari mengisi waktu luang Anda. Beberapa orang mengunduh Mistplay dengan tujuan menghasilkan uang, bukan hanya untuk hiburan semata. Namun, apakah aplikasi ini benar-benar dapat menjadi pekerjaan sampingan yang menguntungkan atau hanya sekadar aktivitas hiburan? Mistplay adalah aplikasi yang memungkinkan penggunanya mendapatkan uang dengan bermain game, dan memiliki rating 4.1 di Google Play Store. Sayangnya, aplikasi ini hanya tersedia untuk pengguna Android. Meskipun begitu, pengguna iPhone masih bisa mendaftar di daftar tunggu untuk mendapatkan pemberitahuan ketika aplikasi ini diluncurkan untuk iOS. BACA JUGA: 5 Aplikasi Terbaik Penghasil Saldo DANA Gratis, Bisa Raup Rp100.000 Setiap Hari! BACA JUGA: Cuan Mudah Lewat Golden Surveys, Cara Menghasilkan Uang dengan Survei Online Untuk menggunakan aplikasi ini, pengguna hanya perlu memainkan game yang ada di dalamnya. Semakin sering Anda bermain, semakin banyak pencapaian yang Anda raih dalam permainan, yang juga membuka peluang untuk memperoleh uang secara gratis. Uang yang diperoleh nantinya bisa ditransfer langsung ke rekening Anda dan ditarik ke DANA. Mistplay menawarkan berbagai jenis permainan, seperti Super Mario Run, Pokemon Go, Fruit Ninja, catur, Solitaire, Candy Crush Saga, Wordscapes, dan banyak lagi. Ada berbagai kategori game yang tersedia, mulai dari aksi, arcade, olahraga, strategi, hingga permainan kata. Berikut adalah beberapa tips untuk mendapatkan uang secara gratis dengan Mistplay: Jika Anda menyukai jenis permainan lainnya, Anda bisa memanfaatkan Mistplay untuk mendapatkan uang sekaligus mendukung hobi bermain game. BACA JUGA: Cara Asyik Dapat Saldo DANA Selama Puasa, 7 Game Penghasil Uang Tanpa Gangguan Iklan BACA JUGA: Cuan Mudah Lewat Golden Surveys, Cara Menghasilkan Uang dengan Survei Online Mistplay juga sering memberikan kode yang bisa Anda tukarkan dengan poin bonus. Anda dapat mengikuti akun media sosial mereka di Twitter, Instagram, dan Facebook untuk mengetahui kapan kode-kode tersebut dibagikan. Trik lainnya adalah bermain game setiap hari. Dengan bermain berturut-turut, Anda akan mendapatkan lebih banyak bonus. Anda bisa mengatur pengingat di ponsel untuk memastikan Anda bermain setiap hari dan tidak kehilangan kesempatan. 1 2 » Cek Berita dan Artikel yang lain di Google News Sumber:\n",
      "\n",
      "Random news 1: KABARBURSA.COM - Setelah sempat mengalami tekanan hebat dan bahkan memicu trading halt pada perdagangan 18 Maret 2025, Indeks Harga Saham Gabungan (IHSG) akhirnya kembali bangkit. IHSG dibuka menguat 0,21 persen ke level 6.235, hingga pukul 15.00 WIB, IHSG menguat 1,37 persen menuju posisi 6.310. Kondisi perdagangan kemarin memaksa Bursa Efek Indonesia (BEI) menghentikan sementara perdagangan melalui mekanisme trading halt. Penyebab utama kejatuhan ini diduga berasal dari kombinasi faktor domestik dan global, termasuk pelebaran defisit Anggaran Pendapatan dan Belanja Negara (APBN), skandal korupsi di Badan Usaha Milik Negara (BUMN), serta ketidakpastian regulasi terkait Rancangan Undang-Undang (RUU) TNI yang menuai kontroversi di kalangan investor. Menurut Wakil Sekretaris Jenderal Organisasi Profesi Pasar Modal Indonesia (PROPAMI), Boris Sihar Sirait, pergerakan IHSG yang sempat anjlok tajam setelah Lebaran menjadi anomali. Biasanya, periode pasca-Lebaran diiringi dengan penguatan akibat peningkatan konsumsi. “Namun, tekanan makroekonomi, termasuk defisit APBN yang melebar serta kasus-kasus korupsi di BUMN, membuat pasar lebih berhati-hati,” kata Boris Sirait kepada Kabarbursa.com, Selasa, 18 Maret 2025. Selain itu, sentimen negatif dari pembahasan RUU TNI juga turut menambah ketidakpastian di pasar modal. Beberapa investor melihat ini sebagai risiko terhadap stabilitas ekonomi jangka panjang, sehingga memilih mengurangi eksposur di saham-saham tertentu. Saham-saham yang Diakumulasi Top Broker Namun, setelah sesi perdagangan dilanjutkan, IHSG secara bertahap menunjukkan pemulihan yang didukung oleh aksi beli dari investor lokal maupun asing. Beberapa saham unggulan menjadi target utama akumulasi oleh top broker, yang diyakini berupaya memanfaatkan harga diskon akibat tekanan jual sebelumnya. UBS Sekuritas Indonesia melakukan transaksi besar pada beberapa saham tertentu sehingga tercatat sebagai top broker hingga pukul 15.00 WIB. UBS Sekuritas Indonesia mencatat aktivitas perdagangan yang sangat tinggi dengan total transaksi Rp4,05 triliun dan kecenderungan net sell sebesar Rp372,33 miliar (10,54 persen dari total bursa). Beberapa saham yang paling banyak diserap dalam perdagangan terbaru meliputi PT Telkom Indonesia (Persero) Tbk. (TLKM) yang diperdagangkan pada harga Rp2.420 dengan volume 61,83 juta lembar dan rentang harga Rp2.380 - Rp2.440, serta nilai transaksi Rp149,6 miliar. TLKM menunjukkan pola uptrend yang stabil dengan kenaikan harga bertahap dan didukung oleh volume perdagangan yang tinggi. Moving Average (MA) 50 dan 200 hari menunjukkan golden cross, yang menandakan tren bullish jangka menengah. Selain itu, Relative Strength Index (RSI) masih berada di bawah overbought (70), menandakan masih ada ruang kenaikan. Potensi akumulasi oleh investor institusi seperti UBS dapat mengindikasikan keyakinan terhadap pertumbuhan TLKM, terutama di sektor digital dan cloud yang sedang berkembang. PT Astra International Tbk. (ASII) mengalami kenaikan harga ke Rp4.670 dengan volume perdagangan 21,9 juta lembar, rentang harga Rp4.610 - Rp4.700 dan nilai transaksi Rp102,2 miliar. Saham ASII bergerak dalam pola higher high dan higher low, yang mengindikasikan tren bullish. Saham ini berhasil menembus resistensi kunci di sekitar Rp 4.500, menandakan potensi rally lebih lanjut. Volume perdagangan yang meningkat seiring dengan kenaikan harga juga menunjukkan adanya dorongan beli dari institusi. Ditambah lagi, indikator MACD (Moving Average Convergence Divergence) menunjukkan crossover bullish, yang biasanya menjadi sinyal positif untuk investor jangka pendek hingga menengah. GoTo Gojek Tokopedia Tbk. (GOTO) turun ke Rp82 dengan volume 881,35 juta lembar dan nilai transaksi Rp72,2 miliar. UBS kemungkinan melihat potensi teknikal dari volume transaksi yang meningkat dan indikator Stochastic RSI yang menunjukkan oversold, yang biasanya menandakan peluang pembalikan harga ke atas. Sementara itu, PT Bank Rakyat Indonesia (Persero) Tbk. (BBRI) mengalami kenaikan ke Rp3.720 dengan volume perdagangan mencapai 258,86 juta lembar dan nilai transaksi sebesar Rp962,1 miliar. BBRI berada dalam tren naik yang stabil, dengan support kuat di sekitar Rp 3.650–3.700. Harga saat ini masih berada di atas EMA (Exponential Moving Average) 50 dan 100 hari, menandakan tren bullish jangka menengah. Saham PT J Resources Asia Pasifik Tbk (PSAB) juga mengalami lonjakan 3,90 persen ke Rp320 dengan volume 657,15 juta lembar dan nilai transaksi Rp213 miliar. Terbentuknya golden cross antara MA5 dan MA60 mengindikasikan potensi tren bullish yang kuat. UBS Sekuritas mengakumulasi saham-saham dengan fundamental kuat dan potensi teknikal yang menjanjikan, seperti TLKM, ASII, GOTO, dan BBRI. TLKM dan ASII menunjukkan pola uptrend yang stabil, sementara GOTO berada dalam kondisi oversold, yang berpotensi mengalami pembalikan harga. Di sisi lain, BBRI masih berada dalam tren naik dengan support kuat di Rp3.650–3.700, mencerminkan keyakinan UBS terhadap prospek positif sektor perbankan. (*) Important Disclaimers Seluruh konten yang disajikan di KabarBursa.com, termasuk berita, publikasi, analisis, opini, serta materi dari pihak ketiga, disediakan semata-mata untuk tujuan jurnalistik, edukasi dan riset. Informasi yang tersedia bukan merupakan rekomendasi atau nasihat hukum, investasi, atau keuangan. Setiap pengunjung KabarBursa.com diharapkan melakukan pemeriksaan menyeluruh (due diligence) dan berkonsultasi dengan penasihat keuangan atau investasi sebelum mengambil keputusan keuangan apa pun. Karena tidak memiliki informasi cukup mempertimbangkan kondisi finansial atau kebutuhan spesifik individu. Informasi yang disajikan tidak selalu real-time atau delay karena faktor teknologi. Segala keputusan transaksi atau tindakan keuangan lain yang dilakukan sepenuhnya menjadi tanggung jawab pengunjung. Pengguna tidak disarankan untuk mengandalkan informasi tunggal dalam website ini tanpa kajian dan pertimbangan yang cermat. KabarBursa.com tidak bertanggung jawab atas segala bentuk kerugian finansial yang timbul akibat penggunaan informasi yang tersedia. Selain itu, KabarBursa.com ini dapat menampilkan iklan atau konten promosi lainnya, di mana kabarbursa.com mungkin menerima kompensasi dari pihak ketiga. Namun, kompensasi tersebut tidak memengaruhi independensi redaksi, dan KabarBursa.com tidak memberikan dukungan atau rekomendasi terhadap layanan pihak ketiga mana pun. Pengguna bertanggung jawab penuh atas keputusan untuk menggunakan situs atau layanan dari pihak ketiga. Dengan mengakses dan menggunakan KabarBursa.com, pengguna menyetujui bahwa pengelola situs, termasuk karyawan, pejabat, anak perusahaan, dan afiliasi terkait, tidak bertanggung jawab atas segala bentuk kerugian atau kerusakan yang timbul akibat penggunaan situs ini maupun ketergantungan terhadap informasi yang disajikan. Risk Disclaimers KabarBursa.com menyediakan informasi mengenai saham, reksa dana, obligasi, forex, dan aset kripto, serta berbagai instrumen keuangan lainnya, termasuk broker, bursa, dan entitas yang memperdagangkannya. Investasi dalam instrumen-instrumen tersebut memiliki risiko tinggi, termasuk potensi kehilangan sebagian atau seluruh modal yang diinvestasikan. Sebelum berinvestasi, pastikan Anda memahami cara kerja setiap instrumen keuangan dan mampu menanggung risiko yang terkait. KabarBursa.com mendorong Anda untuk melakukan riset secara mandiri sebelum mengambil keputusan investasi dan menghindari investasi pada instrumen yang tidak sepenuhnya Anda pahami, termasuk potensi risikonya.\n",
      "\n",
      "Random news 2: Tap Layar Dapat Saldo DANA Gratis Lewat Game Fruit Match, Seru dan Bikin Untung! Reporter: Neng Erlin | Editor: Ria Sofyan | Jumat 21-03-2025,10:59 WIB Ilustrasi. Tap layar dapat saldo dana gratis lewat game fruit match, seru dan bikin untung!--(Sumber : Doc/BETV) BETVNEWS - Saat ini kamu bisa mendapatkan saldo DANA gratis dari Fruit Match apk yang akan memberimu uang sebagai reward saat memainkan game tersebut. Oleh sebab itu, hal ini bisa menjadi salah satu cara menyenangkan untuk mendapatkan uang yang bisa langsung masuk ke akun DANA milikmu. BACA JUGA: Baru Instal Langsung Dapet Rp10 Ribu, Coba Color Lab Sekarang Saldo DANA Gratis Auto Cair! BACA JUGA: Reses DPRD Seluma Habiskan Rp750 Juta, Tokoh Masyarakat: Ajang Tampung Aspirasi, Nihil Realisasi Aplikasi ini merupakan aplikasi penghasil uang berbasis permainan puzzle yang mengharuskan pemain mencocokkan buah-buahan untuk mendapatkan poin. Poin yang dikumpulkan inilah yang nantinya bisa ditukar menjadi saldo DANA setelah mencapai jumlah tertentu. Oleh sebab itu, tidak heran jika pengguna tertarik menggunakan aplikasi ini karena selain menghibur, juga memberikan kesempatan untuk memperoleh penghasilan tambahan. BACA JUGA: Pererat Silaturahmi, Kejaksaan Negeri Bengkulu Buka Bersama Insan Pers BACA JUGA: Wujud Pendekatan Humanis, Lapas Perempuan Bengkulu Gelar Buka Bersama Keluarga Warga Binaan Tidak hanya dari bermain game, ada juga berbagai cara lain untuk mempercepat pengumpulan poin, seperti menyelesaikan misi harian, menonton iklan, dan mengundang teman. Dengan memanfaatkan semua fitur yang tersedia di dalam aplikasi ini, maka peluang mendapatkan saldo DANA bisa lebih besar. Namun, perlu diingat bahwa aplikasi seperti ini memiliki aturan dan sistem penukaran yang berbeda-beda, ada yang cepat dan ada yang lambat. BACA JUGA: Danrem 041 Garuda Emas Pimpin Penutupan TMMD ke-123 BACA JUGA: Buah Mangga Dipercaya Dapat Menurunkan Berat Badan, Cek Manfaatnya di Sini 1 2 3 4 » Cek Berita dan Artikel yang lain di Google News Sumber:\n",
      "\n"
     ]
    }
   ],
   "source": [
    "import random\n",
    "import re\n",
    "\n",
    "# subset dataframe where column 'content' contains regex_unecessary_words\n",
    "matches = news_dataset_clean[news_dataset_clean['content'].str.contains(regex_unecessary_words, na=False)]\n",
    "\n",
    "# the keywords inside the regex for loop\n",
    "key_unecessary_words = [\"baca juga\", \"advertisement\", \"iklan\"]\n",
    "\n",
    "# looping each keyword in key_unecessary_words\n",
    "for keyword in key_unecessary_words:\n",
    "    print(f\"--- Unecessary words: {keyword} ---\")\n",
    "    matches_keyword = matches[matches['content'].str.contains(r'(?i)\\b' + re.escape(keyword) + r'\\b', na=False)] # subset dataframe containing keyword\n",
    "    matches_reset = matches_keyword.reset_index(drop=True) # reset the indexing\n",
    "    for num in range(3): # take three random news text\n",
    "        if len(matches_keyword) > 0:\n",
    "            random_news_instance = random.randint(0, len(matches_keyword) - 1)\n",
    "            print(f\"Random news {num}: {matches_keyword['content'].iloc[random_news_instance]}\\n\")\n",
    "        else:\n",
    "            print(f\"No matches for {keyword} found in the dataset.\\n\")"
   ]
  },
  {
   "cell_type": "markdown",
   "metadata": {},
   "source": [
    "#### Using regular expression, it is detected that there are 310 instances of news texts containing \"baca juga\", \"advertisement\", and \"iklan\" strings. We can also see the random news text containing the mentioned strings through regular expression (regex). However it is important to take these into consideration:\n",
    "1. The regex retrieves solely news with abovementioned strings; it does not take the sentence where the strings are bound into consideration (e.g., the \"baca juga\" strings can take place in non-initial positions; the strings could be part of phrases of meaningful sentences, instead of just a imperative phrase redirecting readers to other news articles)\n",
    "2. The strings \"iklan\" and \"advertisement\" seem to only be noises when the words are all capitalized\n",
    "\n",
    "#### To account for this problem, we will:\n",
    "1. Modify the regex to only filter out the strings \"iklan\" and \"advertisement\" when they are all capitalized\n",
    "2. Use spaCy to segment the news into separate sentences, then modify the regex expression to filter out \"baca juga\" in sentence initial positions"
   ]
  },
  {
   "cell_type": "code",
   "execution_count": null,
   "metadata": {},
   "outputs": [],
   "source": [
    "new_regex = "
   ]
  }
 ],
 "metadata": {
  "kernelspec": {
   "display_name": "news_content_cleaner",
   "language": "python",
   "name": "python3"
  },
  "language_info": {
   "codemirror_mode": {
    "name": "ipython",
    "version": 3
   },
   "file_extension": ".py",
   "mimetype": "text/x-python",
   "name": "python",
   "nbconvert_exporter": "python",
   "pygments_lexer": "ipython3",
   "version": "3.11.6"
  }
 },
 "nbformat": 4,
 "nbformat_minor": 2
}
