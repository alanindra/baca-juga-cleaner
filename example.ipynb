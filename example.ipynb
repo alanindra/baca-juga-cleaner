{
 "cells": [
  {
   "cell_type": "markdown",
   "metadata": {},
   "source": [
    "## Text data cleaning by means of sentence segmentation/tokenization\n",
    "\n",
    "### This program is intended to clean text data by removing unncessary sentences initiated by \"baca juga\" and \"advertisement\" strings. It uses spaCy NLP library for sentence segmentation."
   ]
  },
  {
   "cell_type": "markdown",
   "metadata": {},
   "source": [
    "### 1. Reading dataset\n",
    "\n",
    "#### We will be reading a dataset/corpus containing news text data."
   ]
  },
  {
   "cell_type": "code",
   "execution_count": 4,
   "metadata": {},
   "outputs": [
    {
     "name": "stdout",
     "output_type": "stream",
     "text": [
      "0                                                     NaN\n",
      "1       ALASKA — It's been snowing a lot lately in nor...\n",
      "2                                                     NaN\n",
      "3       ESB Science Blast. 2.508 suka. An incredible S...\n",
      "4                                                     NaN\n",
      "                              ...                        \n",
      "1043    HAIJAKARTA.ID – Nomor HP kamu bisa menerima sa...\n",
      "1044    JABAR EKSPRES – Hadir kembali link penghasil s...\n",
      "1045    Jakarta, benang.id – GoPay, unit bisnis Financ...\n",
      "1046    SINGAPORE: The Competition and Consumer Commis...\n",
      "1047    Once you sign up, $111 is added to your bonus ...\n",
      "Name: content, Length: 1048, dtype: object\n"
     ]
    }
   ],
   "source": [
    "import pandas as pd\n",
    "import os\n",
    "\n",
    "news_dataset = pd.read_csv(f\"{os.getcwd()}/news_dataset.csv\")\n",
    "print(news_dataset[\"content\"])"
   ]
  },
  {
   "cell_type": "markdown",
   "metadata": {},
   "source": [
    "#### The dataset contains 1047 rows of news texts."
   ]
  },
  {
   "cell_type": "code",
   "execution_count": 5,
   "metadata": {},
   "outputs": [
    {
     "name": "stdout",
     "output_type": "stream",
     "text": [
      "310 instances of news text \n",
      "0.30 percent of instances with unecessary words\n"
     ]
    }
   ],
   "source": [
    "import warnings\n",
    "\n",
    "warnings.simplefilter(\"ignore\", UserWarning)\n",
    "\n",
    "unecessary_words = r\"(?i)\\b(baca juga|advertisement|iklan)\\b\"\n",
    "\n",
    "news_dataset['matches'] = news_dataset['content'].str.contains(unecessary_words)\n",
    "\n",
    "nrow_matches = news_dataset['matches'].sum()\n",
    "nrow_news_dataset = len(news_dataset)\n",
    "\n",
    "print(f\"{nrow_matches} instances of news text \\n{nrow_matches/nrow_news_dataset:.2f} percent of instances with unecessary words\")"
   ]
  },
  {
   "cell_type": "markdown",
   "metadata": {},
   "source": [
    "#### From 1047 instances, there are 310 instances (30%) of news text containing unecessary words. Below are the randomly picked news text containing aforementioned words:"
   ]
  },
  {
   "cell_type": "code",
   "execution_count": 6,
   "metadata": {},
   "outputs": [
    {
     "name": "stdout",
     "output_type": "stream",
     "text": [
      "news 0: Cuan dari HP! Game Penghasil Uang 2025 Ini Bisa Hasilkan Saldo DANA Gratis Rp500 Ribu Tanpa Syarat Ribet! Reporter: Asep Kusuma | Editor: Asep Kusuma | Jumat 21-03-2025,03:41 WIB Cuan dari HP! Game Penghasil Uang 2025 Ini Bisa Hasilkan Saldo DANA Gratis Rp500 Ribu Tanpa Syarat Ribet!-canva- RADARINDRAMAYU.ID - Mau dapat saldo DANA gratis Rp500.000 dengan cara mudah? Di tahun 2025, semakin banyak aplikasi penghasil uang yang bisa dimanfaatkan untuk menambah isi dompet elektronik kamu. Salah satu yang menarik perhatian adalah game penghasil saldo DANA yang terbukti membayar. Cukup dengan menyelesaikan misi tertentu, kamu bisa mendapatkan saldo yang bisa langsung ditarik ke e-wallet favoritmu seperti DANA, GoPay, dan OVO. BACA JUGA: Kiper Dewa United Sebut Timnas Indonesia Bisa Jadi Tambahan yang Hebat untuk Piala Dunia 2026 Banyak pengguna yang sudah berhasil menarik saldo dari aplikasi &#34;Low Go&#34; ini. Beberapa di antaranya bahkan berhasil mendapatkan hingga ratusan ribu rupiah hanya dengan bermain game. Cara penarikannya pun simpel. Setelah mengumpulkan saldo yang cukup. Pengguna hanya perlu memasukkan nomor akun dompet digital mereka, lalu klik tombol tarik. Dalam hitungan menit, saldo langsung masuk ke akun e-wallet. BACA JUGA: Bupati Indramayu Lucky Hakim Pimpin Rapat Evaluasi Penyelenggaraan BPJS Kesehatan Bagi yang penasaran bagaimana cara mendapatkan saldo DANA gratis 2025, langkahnya sangat mudah. Setelah mengunduh aplikasi penghasil uang 2025 ini, pengguna harus menyelesaikan berbagai tugas seperti mengundang teman, menyelesaikan tantangan, hingga menonton video. Setiap tugas yang diselesaikan akan memberikan poin yang bisa ditukarkan dengan saldo DANA. Salah satu pengguna yang telah mencoba aplikasi ini berhasil mengumpulkan saldo hingga Rp951.000 hanya dalam beberapa hari. 1 2 3 » Cek Berita dan Artikel yang lain di Google News Sumber:\n",
      "news 1: Follow IDN Times untuk mendapatkan informasi terkini. Klik untuk follow WhatsApp Channel &amp; Google News Jakarta, IDN Times - Kebutuhan akan elektronik dan gadget bukan lagi soal tren, tapi sudah menjadi bagian dari gaya hidup sehari-hari. Dengan berkembangnya teknologi, masyarakat semakin mengandalkan perangkat pintar untuk mendukung berbagai aktivitas, mulai dari bekerja, belajar, kesehatan, hingga menikmati hiburan. Setelah sukses diperkenalkan dan membuka pre-order pada 26 Februari 2025, HONOR kini resmi meluncurkan rangkaian produk terbarunya yang dapat diperoleh secara eksklusif di Shopee. Mulai dari smartphone, tablet, laptop, hingga perangkat wearables terbaru yang dirancang untuk mendukung kebutuhan gaya hidup digital khususnya para pengguna Shopee. Maka dari itu, lewat kolaborasi eksklusif ini, pengguna Shopee dapat menikmati berbagai keuntungan menarik, mulai dari hadiah spesial untuk pembelian di atas Rp4,9 juta, Voucher Bank Mandiri hingga Rp1 juta, hingga kemudahan Cicilan 0% melalui SPayLater. 1. Mendukung gaya hidup pengguna Daniel Minardi, Director of Business Partnership Shopee Indonesia, menyampaikan bahwa Shopee senang dapat menjadi bagian dari penjualan perdana rangkaian produk inovatif yang di hadirkan oleh HONOR tahun ini. &#34;Kolaborasi eksklusif dengan HONOR ini tentunya menjadi bagian dari upaya kami untuk memberikan kemudahan akses terhadap teknologi dalam mendukung gaya hidup pengguna. Dengan total delapan produk unggulan yang sudah bisa dibeli di Shopee, masing-masing dirancang untuk meningkatkan produktivitas, hiburan, dan kemudahan dalam kehidupan sehari-hari. Maka dari itu, jangan sampai lewatkan kesempatan untuk mendapatkan rangkaian produk terbaru HONOR dengan penawaran menarik di Shopee,&#34; ujar Daniel lewat siaran persnya. 2. Memberikan pengalaman lebih bagi para pengguna di dalam kehidupan sehari-hari Ilustrasi kerja (Pexels/Fauxels) Dengan semakin berkembangnya kebutuhan akan perangkat pintar yang mumpuni, kehadiran rangkaian produk HONOR di Shopee diharapkan menjadi solusi bagi para pengguna yang menginginkan performa terbaik dengan akses yang lebih mudah dengan berbagai keuntungan eksklusif. Hal ini sejalan dengan filosofi ‘Go Beyond’ yang diusung HONOR untuk memberikan pengalaman lebih bagi para penggunanya di dalam kehidupan sehari-hari. Justin Li, President of HONOR South Pacific, juga mengungkapkan antusiasmenya terhadap peluncuran kolaborasi tersebut. Ia mengatakan bahwa sejak membuka pre-order secara eksklusif di Shopee pada 26 Februari, pihaknya sangat antusias melihat tingginya minat para penggemar HONOR. &#34;Hari ini menjadi lebih istimewa karena kini mereka dapat langsung mendapatkan produk inovatif kami, lengkap dengan beragam promo menarik. Peluncuran ini semakin menunjukan konsistensi HONOR dalam menghadirkan teknologi yang relevan dan sesuai dengan tren gaya hidup bagi konsumen Indonesia. Melalui kemitraan strategis dengan Shopee, kami harap kemudahan akses ini dapat dirasakan dimanapun kalian berada,&#34; tegasnya. 3. Produk yang bisa dibawa pulang Lanjutkan membaca artikel di bawah Editor’s picks 15 Rekomendasi Parfum Non Alkohol yang Tahan Lama, Terbaik! 7 Cara Memakai Kondom agar Tidak Bocor, Dijamin Aman 8 Ide Outfit One Set ala Jungkook BTS, Kekinian dan Effortless! Berbagai perangkat unggulan hadir dalam First Sale yang dimulai pada 14 Maret 2025 lalu, dirancang untuk memenuhi kebutuhan pengguna modern, mulai dari pekerja profesional hingga kreator konten. Apa saja produk dari HONOR yang sudah bisa konsumen bawa pulang melalui Shopee? ● HONOR X9c 5G Smartphone dengan Triple Defense Protection yang tahan goresan, benturan, dan cipratan air, serta baterai besar 6600mAh yang mampu bertahan hingga tiga hari. ● HONOR Pad 9 Tablet dengan layar 12,1 inci 120Hz, resolusi 2560x1600, dan delapan speaker surround untuk pengalaman multimedia yang imersif. ● HONOR Magic V3 Smartphone foldable super tipis dan super bertenaga dengan ketebalan hanya 9,2 mm saat dilipat, dilengkapi prosesor Snapdragon 8 Gen 3, baterai silikon karbon 5150mAh, dan triple-camera 50MP. ● HONOR MagicBook Art 14 Laptop ultra-tipis dengan layar OLED 14,6 inci, resolusi 3120x2080, dan berat hanya 1kg. Cocok untuk profesional dengan mobilitas tinggi. ● HONOR Pad X8a Tablet stylish dengan layar berkualitas tinggi, ideal untuk hiburan dan produktivitas. Selain itu, HONOR turut meramaikan pasar gadget Indonesia secara eksklusif di Shopee dengan tiga produk inovatif lainnya, diantaranya HONOR 200 Pro yang ditenagai Snapdragon 8s Gen 3, serta meluncurkan HONOR Watch 5 dan HONOR CHOICE Earbuds X7 Lite. Buruan guys, jangan sampai kehabisan! Baca Juga: 6 Gadget yang Wajib Dibawa saat Gym, Olahraga Lebih Efektif Baca Artikel Selengkapnya\n",
      "news 2: Suara.com - Era teknologi digital seperti sekarang ini, orang yang ingin menyimpan uang tidak lagi dompet atau di bank. Kini sudah tersedia berbagai macam layanan dompet digital. Salah satu dompet digital yang terkenal di Indonesia adalah OVO . Perusahaan ini didirikan PT Visionet Internasional, yang merupakan bagian dari Lippo Group pada 2017. Seiring waktu, mayoritas kepemilikan saham OVO kini dikuasai perusahaan transportasi Grab sebesar 79,5 persen. Sisanya dimiliki investor setempat. OVO mengakomodasi beraneka ragam kebutuhan masyarakat yang terintegrasi dengan sistem cashless dan mobile payment. OVO mencoba memberikan solusi keuangan terpadu sebagai sebuah simple payment system dan smart financial services. Pengguna OVO dibagi menjadi dua jenis, yaitu OVO Club dengan kapasitas nominal OVO Cash sebesar Rp2 juta, dan OVO Premier dengan nominal sebesar Rp10 juta dan gratis transfer antar pengguna OVO. OVO terdiri dari dua bagian yaitu OVO Cash dan OVO Points. OVO Cash adalah uang elektronik yang dapat digunakan untuk berbagai macam transaksi di Tokopedia, pembayaran di berbagai merchant rekanan OVO, dan isi ulang ( top up ). OVO Cash tidak memiliki masa berlaku dan dapat ditransfer ke akun OVO lain atau akun rekening bank lainnya. OVO Points merupakan loyalty rewards dan salah satu keuntungan yang didapat oleh pengguna OVO setiap kali melakukan transaksi di merchant yang bekerja sama dengan OVO termasuk cashback dari transaksi di Tokopedia. Baca Juga: Tanpa Kartu Kredit! Ini Cara Bayar Domain dan Hosting Pakai DANA OVO Points dapat digunakan sebagai salah satu metode pembayaran, dimana konversi 1 poin senilai dengan Rp1. OVO Points memiliki masa berlaku selama 12 bulan dan tidak dapat ditransfer ke akun OVO lain atau rekening Bank lain. pada akhir tahun 2020, OVO memperkenalkan layanan baru yang dinamakan OVO Proteksi. Layanan ini menghadirkan berbagai produk asuransi yang dapat diakses melalui aplikasi OVO, berkat kolaborasi dengan berbagai mitra. Langkah ini bertujuan untuk memberikan perlindungan finansial yang lebih baik kepada para pengguna OVO. Pada awal tahun 2021, OVO kembali meluncurkan layanan inovatif lainnya yang diberi nama OVO Invest. Layanan ini difokuskan pada produk-produk investasi, memungkinkan para pengguna untuk berinvestasi secara mudah dan aman melalui aplikasi OVO. Cara Top UP OVO via BCA Lalu bagaimana cara Top Up OVO pakai kartu kredit BCA ? Saat ini OVO tidak menyediakan layanan Top Up melalui kartu kredit termasuk BCA. Untuk bisa Top Up saldo OVO via BCA, ada tiga cara yang bisa digunakan yaitu melalui ATM, m-banking dan klik BCA. 1. ATM Masukkan kartu ATM dan PIN BCA Anda Pilih menu Transaksi Lainnya Pilih menu Transfer Pilih menu Ke Rek BCA Virtual Account Masukkan 39358 + nomor ponsel Anda: 39358 + 08xx-xxxx-xxxx Masukkan nominal top-up Ikuti instruksi untuk menyelesaikan transaksi 2. m-BCA Login ke akun m-BCA Anda Pilih menu m-Transfer Pilih BCA Virtual Account Masukkan 39358 + nomor ponsel Anda: 39358 + 08xx-xxxx-xxxx Masukkan nominal top-up Ikuti instruksi untuk menyelesaikan transaksi 3. Klik BCA Login ke akun Klik BCA Anda Pilih menu Transfer Dana Pilih Transfer ke BCA Virtual Account Masukkan 39358 + nomor ponsel Anda: 39358 + 08xx-xxxx-xxxx Masukkan nominal top-up Ikuti instruksi untuk menyelesaikan transaksi Catatan: - Minimum top-up Rp20.000. - Biaya admin Rp 1.000 dipotong dari nominal top up OVO Cash Itulah cara Top Up saldo OVO via BCA yang bisa anda coba.\n"
     ]
    }
   ],
   "source": [
    "import random\n",
    "\n",
    "matches = news_dataset[news_dataset['content'].str.contains(unecessary_words, na=False)]\n",
    "matches_reset = matches.reset_index()\n",
    "\n",
    "for num in range(3):\n",
    "    random_news_instance = random.randint(0, len(matches_reset) - 1)\n",
    "    print(f\"news {num}: {matches_reset['content'][random_news_instance]}\")\n"
   ]
  },
  {
   "cell_type": "markdown",
   "metadata": {},
   "source": [
    "#### Using regular expression, it is detected that there are 310 instances of news texts containing \"baca juga\", \"advertisement\", and \"iklan\" strings. We can also see the random news text containing the mentioned strings. However, this regular expression retrieves solely the abovementioned strings, it does not take sentence as parameters and the strings can be at the beginning, middle, or end of a sentence.\n",
    "\n",
    "#### To account for this problem, we will be using spaCy to segment the strings into sentences, and we will modify the regex expression to account only strings in the beginning of sentences. "
   ]
  }
 ],
 "metadata": {
  "kernelspec": {
   "display_name": "news_content_cleaner",
   "language": "python",
   "name": "python3"
  },
  "language_info": {
   "codemirror_mode": {
    "name": "ipython",
    "version": 3
   },
   "file_extension": ".py",
   "mimetype": "text/x-python",
   "name": "python",
   "nbconvert_exporter": "python",
   "pygments_lexer": "ipython3",
   "version": "3.11.6"
  }
 },
 "nbformat": 4,
 "nbformat_minor": 2
}
