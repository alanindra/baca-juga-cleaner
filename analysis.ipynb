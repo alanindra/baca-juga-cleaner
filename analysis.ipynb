{
 "cells": [
  {
   "cell_type": "markdown",
   "metadata": {},
   "source": [
    "# News text data cleaning\n",
    "\n",
    "### We are going to explore ways to clean text data, namely to remove unncessary sentences initiated by \"baca juga\" and \"advertisement\" strings. In this document we will explore several means of text cleaning, such as text segmentation using spaCy and NLTK, and by using heuristic approach to develop algorithm that cleans text data from aforementioned strings."
   ]
  },
  {
   "cell_type": "markdown",
   "metadata": {},
   "source": [
    "## 1. Reading dataset\n",
    "\n",
    "#### We will be reading a dataset/corpus containing news text data."
   ]
  },
  {
   "cell_type": "code",
   "execution_count": 71,
   "metadata": {},
   "outputs": [
    {
     "name": "stdout",
     "output_type": "stream",
     "text": [
      "0      ALASKA — It's been snowing a lot lately in nor...\n",
      "1      ESB Science Blast. 2.508 suka. An incredible S...\n",
      "2      Suara.com - BRIZZI merupakan salah satu kartu ...\n",
      "3      - Cash Tree Siapa sih yang tidak kenal dengan ...\n",
      "4      KBEonline.id – Solo Leveling Season 2 episode ...\n",
      "                             ...                        \n",
      "897    HAIJAKARTA.ID – Nomor HP kamu bisa menerima sa...\n",
      "898    JABAR EKSPRES – Hadir kembali link penghasil s...\n",
      "899    Jakarta, benang.id – GoPay, unit bisnis Financ...\n",
      "900    SINGAPORE: The Competition and Consumer Commis...\n",
      "901    Once you sign up, $111 is added to your bonus ...\n",
      "Name: content, Length: 902, dtype: object\n"
     ]
    }
   ],
   "source": [
    "import pandas as pd\n",
    "import os\n",
    "\n",
    "# reding the news dataset\n",
    "news_dataset = pd.read_csv(f\"{os.getcwd()}/news_dataset.csv\")\n",
    "news_dataset_clean = news_dataset.dropna(subset=['content']) # drop na values\n",
    "news_dataset_clean['content'].drop_duplicates().reset_index(drop=True) # drop duplicate content\n",
    "news_dataset_clean = news_dataset_clean.reset_index(drop=True)\n",
    "\n",
    "print(news_dataset_clean[\"content\"])"
   ]
  },
  {
   "cell_type": "markdown",
   "metadata": {},
   "source": [
    "#### The dataset contains 902 rows of news texts."
   ]
  },
  {
   "cell_type": "code",
   "execution_count": 72,
   "metadata": {},
   "outputs": [
    {
     "name": "stdout",
     "output_type": "stream",
     "text": [
      "310 instances of news text with unecessary words \n",
      "0.34 percent of instances with unecessary words\n"
     ]
    }
   ],
   "source": [
    "import warnings\n",
    "\n",
    "warnings.simplefilter(\"ignore\", UserWarning)\n",
    "\n",
    "# regex with the unecessary keywords\n",
    "regex_unecessary_words = r\"(?i)\\b(baca juga|advertisement|iklan)\\b\"\n",
    "\n",
    "# add new column matches where True indicates instances of news text with unecessary word\n",
    "news_dataset_clean['matches'] = news_dataset_clean['content'].str.contains(regex_unecessary_words)\n",
    "\n",
    "# count the no. of True observation of column 'matches' and len of news_dataset_clean\n",
    "nrow_matches = news_dataset_clean['matches'].sum()\n",
    "nrow_news_dataset = len(news_dataset_clean)\n",
    "\n",
    "print(f\"{nrow_matches} instances of news text with unecessary words \\n{nrow_matches/nrow_news_dataset:.2f} percent of instances with unecessary words\")"
   ]
  },
  {
   "cell_type": "markdown",
   "metadata": {},
   "source": [
    "#### From 902 instances, there are 310 instances (34%) of news text containing unecessary words. Below are the randomly picked news text containing aforementioned words:"
   ]
  },
  {
   "cell_type": "code",
   "execution_count": 73,
   "metadata": {},
   "outputs": [
    {
     "name": "stdout",
     "output_type": "stream",
     "text": [
      "--- Unecessary words: baca juga (291 observations) ---\n",
      "Random news 0: tirto.id - Pembayaran digital terbaru bernama QRIS TAP telah diresmikan oleh Bank Indonesia pada Jumat (14/3/2025) di Jakarta Pusat. Tercatat ada sejumlah 15 penyedia jasa pembayaran (PJP) berupa bank dan e-wallet yang dapat menerapkan fitur tersebut saat ini. QRIS TAP adalah pengembangan dari metode QRIS biasa, tetapi telah berinovasi menggunakan teknologi berbasis Near Field Communication (NFC). Untuk menerapkan metode pembayaran tersebut, pengguna harus memiliki ponsel berbasis NFC. Teknologi tersebut memungkinkan pengguna untuk tidak melakukan pemindaian kode QR (QRIS CPM) lagi. Cukup menempelkan atau mendekatkan ponsel ke NFC Reader, lalu sistem yang tersedia akan membaca data dari e-wallet atau e-banking milik pengguna. Proses pembacaan data dari ponsel NFC oleh NFC Reader diklaim hanya memakan waktu 0,3 detik saja. Ini jauh lebih cepat dibanding QRIS dengan basis teknologi chip yang butuh 4-5 detik untuk memindai kode QR yang tersedia. Penggunaan QRIS TAP disebut dapat mengatasi masalah antrian panjang apabila digunakan di sektor publik serta layanan transportasi yang padat. Perbedaan waktu beberapa detik yang menjadi gap antara QRIS dan QRIS TAP berpengaruh signifikan di kondisi macet dan antri. Hingga kini, baru ponsel dengan basis android saja yang dapat menerapkan teknologi pembayaran terbaru tersebut, sedangkan iOS disebut akan segera mengembangkan teknologi yang sama. Daftar Bank dan Dompet Digital yang Bisa Gunakan QRIS Tap Sejak diluncurkan pertama kali, QRIS TAP telah menggandeng belasan penyedia jasa pembayaran (PJP) untuk mendukung inovasi tersebut. Sejumlah 11 bank dan 4 layanan e-wallet dapat dipilih oleh masyarakat yang ingin mengaplikasikannya. Berikut ini daftar nama bank dan e-wallet yang ada di Indonesia dengan dukungan terhadap penggunaan QRIS TAP ke berbagai merchant: Daftar Bank PT Bank Rakyat Indonesia (BRI) PT Bank Mega PT Bank CIMB Niaga PT Bank Mandiri PT Bank Negara Indonesia (BNI) PT Bank Central Asia (BCA) PT Bank DKI PT Bank Permata PT Bank Sinarmas PT Bank BPD Bali PT Bank NationalNobu Daftar e -Wallet GoPay ShopeePay Dana Netzme Baca juga: E-wallet DANA Meluncurkan Kartu Fisik, Apakah Benar? Cara Upgrade e-Wallet OVO untuk Cairkan Dana Prakerja Manfaat dan Keunggulan QRIS TAP Tercatat ada beberapa keunggulan dan manfaat yang bisa didapat dalam penerapan QRIS TAP. Berikut ini beberapa di antaranya: 1. Manfaat QRIS TAP Manfaat untuk pengguna: Proses transaksi pembayaran lebih cepat dan dapat mempersingkat waktu antrean. Efisiensi meningkat terutama dalam sektor layanan publik atau transportasi umum. Kemungkinan terjadinya kesalahan dalam proses scanning seperti pada QRIS akan lebih sedikit. Manfaat untuk merchant : Mempercepat proses transaksi hingga pelanggan lebih nyaman. Mengurangi risiko kesalahan kasir saat melakukan pembayaran. 2. Keunggulan QRIS TAP: Waktu transaksi hanya 0,3 detik sehingga akan mengurangi antrian di berbagai layanan publik dan ritel. Mudah digunakan karena tidak perlu membuka aplikasi dan melakukan pemindaian kode QR. Cukup menempelkan ponsel ke NFC reader. Keamanan lebih terjamin karena sistem ini menggunakan enkripsi tingkat tinggi untuk melindungi data transaksi. Saat ini, QRIS TAP dapat digunakan pada MRT Jakarta, TransJakarta, DAMRI, dan Trans Sarbagita Bali. Diperkirakan pada bulan Juni – September 2025, teknologi ini akan diperluas ke layanan transportasi publik lain semisal LRT Jabodebek, KRL Jabodetabek, dan layanan bus kota. Selain itu, layanan ini juga diharapkan bisa diaplikasikan di RS, ritel, dan berbagai tempat usaha milik masyarakat. qrit Baca juga: BI Resmi Luncurkan QRIS Tap, Pembayaran Tak Perlu Pakai QR Code Cara Pakai QRIS Tap untuk Belanja, Naik MRT &amp; KRL dengan Mudah Baca juga artikel terkait KEUANGAN atau tulisan lainnya dari Cicik Novita tirto.id - Byte Kontributor: Cicik Novita Penulis: Cicik Novita Editor: Elisabet Murni P\n",
      "\n",
      "Random news 1: POSKOTA.CO.ID - Fitur DANA Kaget memberi kesempatan bagi pengguna untuk memperoleh saldo DANA gratis hingga ratusan ribu rupiah, langsung cair ke dompet elektronik tanpa perlu mengunduh aplikasi penghasil uang tambahan. Proses klaim saldo DANA gratis bisa dilakukan dengan mudah melalui tautan DANA Kaget yang tersedia. Cukup dengan beberapa langkah sederhana, uang gratis bisa langsung masuk ke akun e-wallet kamu. Tanpa perlu mengintsal aplikasi penghasil uang, kamu bisa klaim saldo DANA secara gratis hanya dengan mengakses link DANA Kaget dan mengikuti panduan yang tersedia. Baca Juga: SELAMAT Nomor HP Dompet Elektronik Anda Bisa Klaim Saldo DANA Gratis Rp125.000 Hari Ini Jumat 21 Maret 2025!Apa Itu DANA Kaget? Klaim DANA Kaget merupakan salah satu fitur menarik dari aplikasi dompet digital DANA yang memungkinkan pengguna mendapatkan saldo elektronik gratis dengan nominal tertentu, baik dalam bentuk promosi resmi maupun hadiah dari pengguna lain. Fitur ini link saldo DANA gratis ini kerap dimanfaatkan dalam momen berbagi uang, di mana seseorang dapat mengirimkan uang gratis kepada banyak penerima melalui tautan khusus atau secara langsung dalam grup tertentu. Tanpa perlu repot mengunduh aplikasi lain, fitur ini menawarkan cara instan bagi pengguna untuk memperoleh uang gratis dengan mekanisme yang sederhana dan cepat. Baca Juga: Berkah Ramadhan Klaim Saldo DANA Gratis Rp138.000, Cek Cara Klaimnya di Sini!Cara Klaim Link DANA Kaget1. Dapatkan Link DANA Kaget Tautan saldo gratis biasanya dibagikan melalui grup chat, media sosial, atau pesan pribadi. Pastikan tautan berasal dari sumber resmi, seperti event DANA atau komunitas terpercaya, untuk menghindari penipuan atau tautan palsu yang berisiko phising.2. Klik Link dan Klaim Saldo Setelah mendapatkan tautan resmi, klik link tersebut untuk memulai proses klaim. Jika aplikasi DANA sudah terinstal, kamu akan langsung diarahkan ke dalam aplikasi. Jika belum, link akan terbuka di browser sebelum meminta kamu untuk masuk ke akun DANA.3. Masuk ke Aplikasi DANA Gunakan nomor telepon yang sudah terdaftar untuk login ke aplikasi DANA. Jika belum memiliki akun, segera daftarkan nomor ponsel aktif kamu agar bisa mengakses berbagai layanan DANA, termasuk klaim DANA Kaget.4. Klaim Saldo Saat berada di halaman DANA Kaget, kamu akan melihat detail saldo yang tersedia untuk diklaim. Cukup tekan tombol 'Klaim\" atau \"Ambil\", dan saldo akan langsung masuk ke akun DANA kamu dalam hitungan detik tanpa proses tambahan.5. Periksa Saldo Setelah berhasil melakukan klaim, segera cek saldo di halaman utama aplikasi DANA. Saldo tersebut akan langsung tersedia di e-wallet kamu dan bisa digunakan untuk berbagai keperluan, mulai dari transaksi di merchant rekanan, hingga pembelian layanan digital. Perlu dicatat bahwa nominal saldo yang diterima melalui program DANA Kaget bisa bervariasi untuk setiap pengguna, tergantung pada kebijakan yang berlaku. Pembagian uang elektronik dilakukan secara acak sesuai dengan kebijakan sistem yang telah ditetapkan. Oleh karena itu, jumlah saldo yang diterima setiap pengguna bisa berbeda dan tidak dapat diprediksi. Setiap tautan klaim DANA Kaget memiliki masa berlaku yang terbatas. Jika tidak segera digunakan, uang gratis yang tersedia bisa hangus. Sebelum mengakses tautan DANA Kaget, pastikan keasliannya terlebih dahulu. Jika link berasal dari sumber yang tidak dikenal, sebaiknya berhati-hati agar terhindar dari potensi penipuan. Disclaimer: Artikel ini hanya menyediakan informasi, dan panduan untuk klaim saldo dana gratis. Tanggung jawab atas keberhasilan atau kegagalan pengguna tidak ditanggung oleh Poskota. 1 2 Semua Tags : Saldo DANA Saldo DANA Gratis Saldo DANA Kaget Klaim DANA Kaget Link DANA Kaget Klaim Saldo DANA Klaim Saldo DANA Kaget Klaim Saldo DANA Gratis\n",
      "\n",
      "Random news 2: Dapatkan Saldo DANA Gratis dengan Bermain Game, Temukan Cara Mudah Menggunakan Mistplay Reporter: Erna | Editor: Ros Diana | Kamis 20-03-2025,08:17 WIB Dapatkan Saldo DANA Gratis dengan Bermain Game, Temukan Cara Mudah Menggunakan Mistplay--ist PRABUMULIHPOS.DISWAY.ID – Bagi Anda yang gemar bermain game mobile dan ingin mendapatkan hadiah, aplikasi Mistplay bisa menjadi pilihan yang menarik. Mistplay merupakan cara yang menyenangkan untuk memperoleh saldo DANA gratis sembari mengisi waktu luang Anda. Beberapa orang mengunduh Mistplay dengan tujuan menghasilkan uang, bukan hanya untuk hiburan semata. Namun, apakah aplikasi ini benar-benar dapat menjadi pekerjaan sampingan yang menguntungkan atau hanya sekadar aktivitas hiburan? Mistplay adalah aplikasi yang memungkinkan penggunanya mendapatkan uang dengan bermain game, dan memiliki rating 4.1 di Google Play Store. Sayangnya, aplikasi ini hanya tersedia untuk pengguna Android. Meskipun begitu, pengguna iPhone masih bisa mendaftar di daftar tunggu untuk mendapatkan pemberitahuan ketika aplikasi ini diluncurkan untuk iOS. BACA JUGA: 5 Aplikasi Terbaik Penghasil Saldo DANA Gratis, Bisa Raup Rp100.000 Setiap Hari! BACA JUGA: Cuan Mudah Lewat Golden Surveys, Cara Menghasilkan Uang dengan Survei Online Untuk menggunakan aplikasi ini, pengguna hanya perlu memainkan game yang ada di dalamnya. Semakin sering Anda bermain, semakin banyak pencapaian yang Anda raih dalam permainan, yang juga membuka peluang untuk memperoleh uang secara gratis. Uang yang diperoleh nantinya bisa ditransfer langsung ke rekening Anda dan ditarik ke DANA. Mistplay menawarkan berbagai jenis permainan, seperti Super Mario Run, Pokemon Go, Fruit Ninja, catur, Solitaire, Candy Crush Saga, Wordscapes, dan banyak lagi. Ada berbagai kategori game yang tersedia, mulai dari aksi, arcade, olahraga, strategi, hingga permainan kata. Berikut adalah beberapa tips untuk mendapatkan uang secara gratis dengan Mistplay: Jika Anda menyukai jenis permainan lainnya, Anda bisa memanfaatkan Mistplay untuk mendapatkan uang sekaligus mendukung hobi bermain game. BACA JUGA: Cara Asyik Dapat Saldo DANA Selama Puasa, 7 Game Penghasil Uang Tanpa Gangguan Iklan BACA JUGA: Cuan Mudah Lewat Golden Surveys, Cara Menghasilkan Uang dengan Survei Online Mistplay juga sering memberikan kode yang bisa Anda tukarkan dengan poin bonus. Anda dapat mengikuti akun media sosial mereka di Twitter, Instagram, dan Facebook untuk mengetahui kapan kode-kode tersebut dibagikan. Trik lainnya adalah bermain game setiap hari. Dengan bermain berturut-turut, Anda akan mendapatkan lebih banyak bonus. Anda bisa mengatur pengingat di ponsel untuk memastikan Anda bermain setiap hari dan tidak kehilangan kesempatan. 1 2 » Cek Berita dan Artikel yang lain di Google News Sumber:\n",
      "\n",
      "--- Unecessary words: advertisement (36 observations) ---\n",
      "Random news 0: (Reuters) - Indonesia's GoTo Gojek on Wednesday reiterated that there was no agreement with any party about a potential transaction after a media report emerged that Singapore-headquartered Grab was moving forward to buy it. Bloomberg News reported on Tuesday that U.S.-listed ride and delivery firm Grab had begun due diligence on its Indonesian rival, citing people familiar with the matter. Grab's shares rose 5.4% premarket on Tuesday and later pared gains to end the day 3.4% in the green. GoTo, which operates the ride-hailing and food delivery platform Gojek, ended 5% higher on Tuesday. Advertisement\n",
      "\n",
      "Random news 1: Jakarta - Pemerintah memastikan proyek tanggul laut raksasa (giant sea wall) di pesisir utara Jawa terus berlanjut. Kementerian Pekerjaan Umum (PU) menyampaikan proyek tersebut bertujuan untuk mengantisipasi dampak penurunan muka tanah (land subsidence) dan mengurangi risiko banjir di wilayah Jakarta dan sekitarnya. Dalam Rapat Koordinasi Pembentukan Satgas Pembangunan Giant Sea Wall yang digelar di Jakarta, Rabu (19/3/2025) lalu, Menteri PU Dody Hanggodo mengatakan Kementerian PU telah bekerja sama dengan Belanda dan Korea Selatan sejak tahun 2016 untuk kajian pembangunan tanggul laut mulai dari Cilegon hingga Gresik dengan proyeksi panjang mencapai 946 km. &#34;Kami telah menyelesaikan pembangunan tanggul pengaman pantai utara Jakarta Tahap A sepanjang 12,66 km. Pada tahun 2020, pembangunan dilanjutkan bersama Pemerintah Provinsi DKI Jakarta dengan panjang tambahan mencapai 33,54 km,&#34; ujar Dody dalam keterangannya, Kamis (20/3/2025). ADVERTISEMENT SCROLL TO CONTINUE WITH CONTENT Dody menjelaskan untuk pembangunan tanggul laut Tahap B sepanjang 21 km, saat ini sedang dilakukan kajian terkait pembiayaan dan studi kelayakan (feasibility study). Kajian tersebut mempertimbangkan apakah desain tanggul akan mengacu pada Integrated Flood Safety Plan Giant Sea Wall Tahap B Jakarta yang disiapkan Kementerian PU pada tahun 2020 atau menggunakan Masterplan tahun 2016 dari Bappenas. Selain wilayah Jakarta, tanggul laut juga tengah dibangun di wilayah Jawa Tengah secara terintegrasi dengan pembangunan Tol Semarang-Demak dan Tol Semarang Harbour. Baca juga: Proyek Tanggul Laut Raksasa Jalan Terus, Pemerintah Kaji Biaya-Uji Kelayakan Dody menekankan pembangunan tanggul laut tidak berdiri sendiri. Konsep pengendalian banjir yang diterapkan Kementerian PU bersifat terpadu dan terintegrasi dengan program penyediaan air bersih melalui Bendungan Karian dan Bendungan Jatiluhur serta peningkatan kualitas air dengan pengolahan limbah di muara sungai melalui pembangunan Jakarta Sewerage System. ADVERTISEMENT &#34;Pengendalian banjir harus diimbangi dengan penyediaan air bersih agar masyarakat tidak lagi menggunakan air tanah untuk mencegah penurunan muka tanah yang menjadi salah satu penyebab utama kerentanan banjir di Jakarta. Langkah-langkah ini menjadi bagian dari visi besar giant sea wall, dan kami berharap upaya ini dapat segera terwujud agar tidak ada lagi permasalahan lingkungan yang berdampak buruk pada kehidupan masyarakat Jakarta dan sekitarnya,&#34; jelas Dody. Sebelumnya, Menko Infrastruktur dan Pembangunan Kewilayahan Agus Harimurti Yudhoyono hari ini melakukan rapat koordinasi membahas pembangunan tanggul laut raksasa atau giant sea wall dan juga penanganan banjir. Pria yang akrab disapa AHY ini mengatakan mengatakan akan melakukan integrasi dan pemuktahiran semua studi-studi soal giant sea wall yang sudah ada di Indonesia. Namun, AHY menyebut ada kemungkinan pembangunan tanggul laut tidak akan dilakukan secara penuh dari Banten hingga Jawa Timur. Maksudnya, tembok beton tidak akan secara penuh dibangun dari Cilegon sampai Gresik. AHY mengatakan strategi untuk menanggulangi permasalahan pesisir di utara Jawa tak selamanya akan menggunakan beton. Tak semua tempat butuh tanggul beton, bisa saja menurutnya menggunakan tembok alami semacam lahan mangrove. &#34;Jadi dikerjakan paralel lah. Misal pesisir utara Jawa tak semua jadi prioritas nomor satu. Ada beberapa yang masih bisa pendekatan lain, ada gray solution dan green solution. Bisa green solution pake mangrove dan sebagainya atau kombinasi beton dan green solution,&#34; tegas AHY usai rapat di kantornya, Rabu (19/3/2025). (/) giant sea wall pemerintah indonesia proyek tanggul laut\n",
      "\n",
      "Random news 2: Dividends are attractive because they represent a stream of passive income that can help to supplement your earned income. These dividends can also sustain your lifestyle once you reach retirement. Here are five attractive Singapore stocks with dividend yields of 4.8% or more.Overseas Education Limited (SGX: RQ1) Overseas Education Limited, or OEL, operates the Overseas Family School (OFS) in Singapore. OFS offers a fully integrated, multi-faceted programme for children of expatriate families aged two to 18 years old. ADVERTISEMENT For 2024, total revenue inched up 0.8% year on year to S$88.5 million. The school reported a 6.8% year-on-year decline in net profit to S$6.3 million. OEL generated a positive free cash flow of S$18.9 million for 2024, 23.8% lower than a year ago. A final dividend of S$0.012 was declared, dipping slightly below last year’s final dividend of S$0.013. At a share price of S$0.20, shares of OEL offer a trailing dividend yield of 6%. The group expects the operating environment to remain challenging but is hopeful that Singapore’s policy to attract foreign investments will enable more expatriates to enrol their children in OFS.ComfortDelGro Corporation (SGX: C52) ComfortDelGro, or CDG, is a land transport operator that offers a comprehensive suite of transportation solutions. The group’s network spans public transport (buses and rail) and point-to-point transportation such as taxis and private hire cars. ADVERTISEMENT For 2024, revenue increased 15.4% year on year to S$4.5 billion, aided by acquisitions that helped to boost revenue contribution for the group. Operating profit jumped 18.7% year on year to S$322.9 million while net profit improved by 16.6% year on year to S$210.5 million. CDG also generated a free cash flow of S$78.5 million last year, higher than the S$70.6 million churned out for 2023. A final dividend of S$0.0425 was declared, 13% higher than the S$0.0376 paid out a year ago. For 2024, the total dividend stood at S$0.0777, a 16.7% year-on-year increase from the S$0.0666 paid out for 2023. CDG anticipates better rail operations revenue in Singapore because of higher ridership and fare increases. Its London public bus contract renewals are also expected to be conducted at improved margins.APAC Realty (SGX: CLN) APAC Realty is a real estate services provider holding the ERA regional master franchise rights for 17 countries in the Asia Pacific region. ADVERTISEMENT The group is one of Singapore’s largest real estate agencies with 8,823 salespeople as of 26 February 2025. APAC Realty reported a downbeat set of earnings for 2024, bogged down by higher expenses. Revenue edged up 0.7% year on year to S$561 million but operating profit tumbled 18.2% year on year to S$11 million. Net profit plunged 38.8% year on year to S$7.2 million. The real estate agency generated positive free cash flow of S$8.4 million for 2024, down from S$16 million in the previous year. A final dividend of S$0.012 was declared, and coupled with the group’s interim dividend of S$0.009, the total dividend for 2024 came up to S$0.021. APAC Realty’s shares offer a trailing dividend yield of 4.8%.HRNetGroup (SGX: CHZ) HRNetGroup is a recruitment and staffing firm with over 900 consultants spread across 17 Asian cities. ADVERTISEMENT The human resource group saw revenue dip 2% year on year to S$567 million for 2024. Net profit fell 30% year on year to S$46.3 million. The group maintained a clean balance sheet with S$258.4 million of cash and no debt. Free cash flow for 2024 stood at S$49.4 million, and HRNetGroup declared a full-year dividend of S$0.04, unchanged from a year ago. Shares of the human resource firm offer a 5.7% trailing dividend yield. For 2025, the group is looking at mega contracts from governments for its flexible staffing division. Simplifying its management structure will also result in annualised cost savings in salaries and profit-sharing incentives.Kingmen Creatives (SGX: 5MZ) Kingmen Creatives is a creator of experiences and provides vertically and horizontally integrated service offerings to its wide variety of clients. Armed with a design-led culture, the group has designed interior fit-outs for major brands and worked on theme park attractions. For 2024, revenue increased by 7.5% year on year to S$388.4 million while gross profit improved by 15.6% year on year to S$90.4 million. Net profit more than quadrupled year on year from S$2.9 million to S$13.1 million. The group also churned out a positive free cash flow of S$5.5 million. A final dividend of S$0.02 was declared, double the S$0.01 that was paid out in the previous year. Shares of the group offer a 5.6% trailing dividend yield. Kingsmen’s order book stood at S$192 million as of 31 December 2024 with a strong pipeline of projects. We’ve discovered 5 SGX stocks that not only offer better returns than fixed deposits but also have the potential to beat inflation. Plus, these stocks provide capital growth and can significantly compound your wealth in the long term. If you’re looking to make your money work harder for you, download our FREE report for details on these five stocks. Follow us on Facebook and Telegram for the latest investing news and analyses! Disclosure: Royston Yang does not own shares in any of the companies mentioned. The post 5 Singapore Companies Boasting Dividend Yields of 4.8% or Higher appeared first on The Smart Investor. Reuters VideosChina's 'Hermes of gold' soars in high-end goods demand slump STORY: Jewellery collector Vivian Wang believes she’s spent over $138,000 on pieces from Chinese brand Laopu Gold. The jeweller is a major outlier in the country’s luxury goods market…And, with consumers dubbing it the “Hermes of Gold”, investors are paying attention. The sector’s been hammered by hesitant consumers concerned over job and wage security - and the ailing property market. But, having blended Chinese cultural elements with contemporary design, Laopu Gold is something uniquely homegrown. Among Wang’s prized possessions is an almost $14,000 dragon medallion and an intricate box worth over $55,000.\"I don’t know if this shift has something to do with the pandemic, but it seems that people are seeking a sense of emotional healing and spiritual connection. Traditional Chinese symbols, like dragons and phoenixes, carry auspicious meanings, making them more than just decorative—they offer a sense of comfort and protection.\"She said that long term, gold is the best way to preserve value. \"With global uncertainty—whether in the Western world, the U.S., Europe, or the ongoing Russia-Ukraine conflict—the overall state of the world feels unstable. In such an unpredictable environment, gold is undoubtedly one of the better choices for hedging risks.\"Laopu’s success has been fortified by its use of gold, considered a safe investment by Chinese consumers during periods of instability.And it's now considered a luxury contender alongside Western brands like Tiffany and Cartier.Laopu Gold did not respond to interview requests from Reuters. But a source with direct knowledge said its annual sales approached $1.4 billion in 2024, up from $439 million in the previous year.Since its Hong Kong IPO in 2024, its share price has surged ten-fold. ReutersChina's 'Hermes of gold' shines despite lacklustre demand for high-end goods BEIJING (Reuters) -Vivian Wang bought a gold medallion decorated with a carved dragon from Laopu Gold nearly a decade ago, but forgot about the brand until last year when it appeared all over her social media feeds. Swiping through post after post about Laopu Gold, the sales and marketing professional from Shanghai came across her dragon medallion, which was now selling for double what she paid at 220,000 yuan ($30,440.14). Wang decided to brave the lines outside Laopu's Shanghai store in tourist hub Yu Garden to make another purchase, this time an intricate jewellery box constructed from thinly woven gold strands with a dragon and phoenix on the lid.\n",
      "\n",
      "--- Unecessary words: iklan (18 observations) ---\n",
      "Random news 0: KABARBURSA.COM - Indeks Harga Saham Gabungan (IHSG) mencatat penguatan sebesar 1,11 persen ke level 6.381 pada perdagangan terakhir, Kamis sore, 20 Maret 2025. Meski masih didominasi oleh volume pembelian, laju kenaikannya tertahan di area resistance 6.445. Saat ini, IHSG diperkirakan berada dalam fase akhir dari wave [v] dalam struktur wave A, yang mengindikasikan potensi koreksi dalam waktu dekat. Jika tekanan jual meningkat, indeks berisiko turun ke rentang 5.879–5.975. Adapun level support utama berada di 6.011 dan 5.938, sementara resistance terdekat berada di 6.445 dan 6.557. Di tengah kondisi pasar yang masih berfluktuasi, MNC Sekuritas melihat beberapa saham menjadi sorotan dengan potensi pergerakan menarik, termasuk AKRA, BBRI, BRPT, dan GOTO. AKRA buy on Weakness Saham PT AKR Corporindo Tbk (AKRA) mengalami kenaikan tipis 0,46 persen ke level 1.100 dengan volume pembelian yang masih cukup kuat. Selama harga saham ini mampu bertahan di atas 1.075, tren kenaikan masih berpotensi berlanjut sebagai bagian dari wave [b] dalam struktur wave 5. Dengan kondisi saat ini, investor disarankan untuk mempertimbangkan strategi buy on weakness di kisaran 1.040–1.075 dengan target kenaikan menuju 1.160 hingga 1.220. Namun, jika harga turun di bawah 1.010, disarankan untuk melakukan cut loss. Jual BBRI Di sektor perbankan, saham PT Bank Rakyat Indonesia (Persero) Tbk (BBRI) terkoreksi 1,35 persen ke level 3.660. Tekanan jual masih mendominasi dan pergerakan harga tetap di bawah rata-rata pergerakan 20 hari (MA20). Meski demikian, selama BBRI masih mampu bertahan di atas 3.500, saham ini berada dalam fase awal wave 3, yang berpotensi memberikan peluang rebound. Investor dapat mempertimbangkan untuk mengakumulasi di kisaran harga 3.540–3.640 dengan target jangka pendek di 3.890 hingga 4.130. Namun, jika harga turun di bawah 3.500, langkah antisipatif berupa cut loss perlu dilakukan. BRPT Buy on Weakness Sementara itu, saham PT Barito Pacific Tbk (BRPT) menguat 0,75 persen ke 675, masih didukung oleh volume pembelian yang cukup besar. Berdasarkan analisis teknikal, BRPT saat ini berada di fase wave [c] dalam wave 3, yang mengindikasikan potensi koreksi dalam waktu dekat. Dengan demikian, investor dapat mempertimbangkan buy on weakness di kisaran 555–590 dengan target kenaikan menuju 765 hingga 830. Level support kritis berada di 520, yang menjadi batasan bagi investor untuk mengantisipasi potensi pelemahan lebih lanjut. GOTO Speculative Buy Di sisi lain, saham PT GoTo Gojek Tokopedia Tbk (GOTO) mengalami koreksi 1,22 persen ke level 81 dengan tekanan jual yang masih dominan. Namun, penurunan ini masih tertahan oleh MA20, yang berfungsi sebagai level support teknikal. Saat ini, GOTO diperkirakan berada dalam fase wave (b) dari wave [iii], yang mengindikasikan masih adanya potensi koreksi sebelum kembali menguat. Dalam kondisi ini, investor dapat mempertimbangkan strategi speculative buy di kisaran 75–81 dengan target kenaikan ke 87 dan 90. Namun, jika harga turun di bawah 72, sebaiknya dilakukan langkah cut loss untuk menghindari risiko lebih lanjut. Secara keseluruhan, meski IHSG masih menunjukkan tren penguatan, potensi koreksi tetap perlu diwaspadai. Investor disarankan untuk tetap mencermati pergerakan pasar, terutama terkait dengan level support dan resistance utama pada saham-saham yang diamati. Rekomendasi Saham MikirDuit Dalam kondisi pasar yang penuh volatilitas, menjaga ketenangan dan memiliki strategi keuangan yang matang menjadi kunci agar investor tidak terbawa arus kepanikan. Analis Pasar Modal dari MikirDuit Surya Rianto, menekankan pentingnya pengelolaan dana yang tepat agar setiap keputusan investasi tetap rasional dan tidak dipicu oleh emosi sesaat. Menurutnya, salah satu langkah utama yang harus dilakukan investor adalah membedakan portofolio saham berdasarkan jangka waktu investasi. Dengan memiliki alokasi yang jelas antara saham jangka panjang dan saham untuk trading jangka pendek, investor dapat lebih tenang dalam menghadapi fluktuasi pasar. Jika terjadi gejolak dalam waktu singkat, perhatian dapat difokuskan pada saham-saham yang memang diperuntukkan untuk transaksi harian, sementara saham investasi jangka panjang tetap terjaga tanpa perlu tindakan impulsif. Selain itu, pemilihan saham yang memiliki fundamental kuat dan bobot besar dalam Indeks Harga Saham Gabungan (IHSG) juga menjadi strategi yang dapat memberikan stabilitas dalam portofolio. Saham-saham seperti big bank (BBRI, BBCA, BMRI, BBNI), serta emiten besar seperti TLKM dan ASII, kerap menjadi pilihan utama karena memiliki daya tahan yang lebih baik terhadap tekanan pasar. Saham yang rutin membagikan dividen juga menjadi daya tarik tersendiri karena tetap memberikan pemasukan bagi investor meskipun harga saham sedang mengalami tekanan. Di tengah ketidakpastian pasar, aliran modal asing juga cenderung bergerak ke saham-saham dengan kapitalisasi besar. Hal ini menjadikan emiten-emiten tersebut lebih stabil dibandingkan saham dengan volatilitas tinggi dan karakter spekulatif. Investor dapat memanfaatkan kondisi ini untuk mencari peluang keuntungan dengan risiko yang lebih terkendali. Dengan strategi yang terencana dan disiplin dalam mengelola portofolio, investor dapat menghindari jebakan panic selling yang justru berisiko merugikan dalam jangka panjang. Tetap tenang, berpikir rasional, dan fokus pada saham dengan fundamental kuat akan membantu menghadapi dinamika pasar dengan lebih percaya diri.(*) Important Disclaimers Seluruh konten yang disajikan di KabarBursa.com, termasuk berita, publikasi, analisis, opini, serta materi dari pihak ketiga, disediakan semata-mata untuk tujuan jurnalistik, edukasi dan riset. Informasi yang tersedia bukan merupakan rekomendasi atau nasihat hukum, investasi, atau keuangan. Setiap pengunjung KabarBursa.com diharapkan melakukan pemeriksaan menyeluruh (due diligence) dan berkonsultasi dengan penasihat keuangan atau investasi sebelum mengambil keputusan keuangan apa pun. Karena tidak memiliki informasi cukup mempertimbangkan kondisi finansial atau kebutuhan spesifik individu. Informasi yang disajikan tidak selalu real-time atau delay karena faktor teknologi. Segala keputusan transaksi atau tindakan keuangan lain yang dilakukan sepenuhnya menjadi tanggung jawab pengunjung. Pengguna tidak disarankan untuk mengandalkan informasi tunggal dalam website ini tanpa kajian dan pertimbangan yang cermat. KabarBursa.com tidak bertanggung jawab atas segala bentuk kerugian finansial yang timbul akibat penggunaan informasi yang tersedia. Selain itu, KabarBursa.com ini dapat menampilkan iklan atau konten promosi lainnya, di mana kabarbursa.com mungkin menerima kompensasi dari pihak ketiga. Namun, kompensasi tersebut tidak memengaruhi independensi redaksi, dan KabarBursa.com tidak memberikan dukungan atau rekomendasi terhadap layanan pihak ketiga mana pun. Pengguna bertanggung jawab penuh atas keputusan untuk menggunakan situs atau layanan dari pihak ketiga. Dengan mengakses dan menggunakan KabarBursa.com, pengguna menyetujui bahwa pengelola situs, termasuk karyawan, pejabat, anak perusahaan, dan afiliasi terkait, tidak bertanggung jawab atas segala bentuk kerugian atau kerusakan yang timbul akibat penggunaan situs ini maupun ketergantungan terhadap informasi yang disajikan. Risk Disclaimers KabarBursa.com menyediakan informasi mengenai saham, reksa dana, obligasi, forex, dan aset kripto, serta berbagai instrumen keuangan lainnya, termasuk broker, bursa, dan entitas yang memperdagangkannya. Investasi dalam instrumen-instrumen tersebut memiliki risiko tinggi, termasuk potensi kehilangan sebagian atau seluruh modal yang diinvestasikan. Sebelum berinvestasi, pastikan Anda memahami cara kerja setiap instrumen keuangan dan mampu menanggung risiko yang terkait. KabarBursa.com mendorong Anda untuk melakukan riset secara mandiri sebelum mengambil keputusan investasi dan menghindari investasi pada instrumen yang tidak sepenuhnya Anda pahami, termasuk potensi risikonya.\n",
      "\n",
      "Random news 1: INFOBRAND.ID-Semangat anak muda dalam berkarya menjadi salah satu pendorong utama pertumbuhan industri lokal Indonesia. Didukung oleh ekosistem digital, kreativitas mereka melahirkan inovasi yang membuat merek lokal semakin berkembang dan mampu menghadirkan produk yang sesuai dengan tren serta kebutuhan pasar. Untuk mendukung potensi ini, Shopee hadir sebagai fasilitator yang memperluas jangkauan pasar, memberikan akses lebih luas bagi pelanggan di seluruh Indonesia, serta mendorong pertumbuhan merek lokal melalui berbagai program dan kampanye strategis. Dukungan terhadap merek lokal dan semangat anak muda dalam berinovasi telah membuka peluang bagi banyak pelaku usaha dalam membangun bisnisnya. IKLAN INFOBRAND.ID Salah satu contohnya adalah lahirnya Khadijah Label, yang kini dikenal sebagai KHDJH. Merek ini didirikan pada 2017 oleh Muhammad Themy Setiawan saat berusia 20 tahun, sebagai wujud dari mimpinya untuk berkontribusi dalam industri fesyen muslim Indonesia. Memulai perjalanan bisnis sebagai reseller, Themy melihat peluang lebih besar untuk menghadirkan produk fashion muslim berkualitas tinggi dengan harga terjangkau. Themy Setiawan, Owner KHDJH, berkomitmen menyediakan produk berkualitas yang merepresentasikan identitas muslimah modern. Selain itu, aksesibilitas dan kemudahan menjangkau konsumen menjadi prioritas utama. \"Dalam perjalanan kami sebagai brand lokal, bergabung dengan Shopee menjadi salah satu keputusan strategis yang memberikan dampak signifikan bagi pertumbuhan KHDJH. Ekosistem Shopee yang terintegrasi memungkinkan kami menjangkau pasar lebih luas, membangun hubungan erat dengan konsumen, serta memastikan distribusi produk berjalan lebih efisien. Hingga kini, Shopee terus menjadi platform dengan kontribusi penjualan terbesar bagi KHDJH,\" ungkapnya. Keberhasilan ini turut didukung berbagai program dan inisiatif Shopee, termasuk kampanye 12.12, yang mendorong peningkatan penjualan KHDJH hingga enam kali lipat. IKLAN INFOBRAND.ID “Hal ini dapat tercapai berkat sejumlah program dan inisiatif Shopee yang mendukung penjualan, salah satunya seperti kampanye 12.12 tahun lalu, di mana kami mengalami peningkatan penjualan hingga 6x lipat,” ujar Themy dalam keterangan tertulis, Rabu (19/3/2025). Dengan pengalaman yang semakin matang dan modal yang telah ia kumpulkan, pada 2019 Themy mengambil langkah besar dengan mulai memproduksi sendiri produk di bawah merek KHDJH. Sejak awal, fokusnya bukan hanya mengembangkan bisnis, tetapi juga menciptakan dampak lebih luas dengan membangun komunitas yang lebih berdaya dan berkelanjutan. Komitmen ini diwujudkan dengan membangun rantai produksi berbasis lokal—mulai dari penggunaan bahan baku dalam negeri hingga melibatkan tenaga kerja lokal dalam proses pengerjaan. KHDJH juga aktif memberikan pelatihan keterampilan bagi para pekerja, memastikan standar kerja yang tinggi sekaligus membuka kesempatan bagi mereka untuk berkembang secara profesional. Namun, perjalanan membangun KHDJH tak selalu mulus. Tantangan seperti deadstock yang menumpuk, kerugian penjualan, hingga kasus penipuan sempat dihadapi. Meski demikian, keyakinan pada kualitas produk dan kekompakan tim menjadi motivasi utama bagi Themy untuk terus bertahan. IKLAN INFOBRAND.ID \"Saat merintis KHDJH, saya belum memiliki banyak pengalaman berbisnis. Salah satu pelajaran berharga yang saya dapatkan sebagai pengusaha muda adalah pentingnya memiliki mentor terpercaya, membangun relasi bisnis yang tepat, serta menjadi pemimpin yang baik bagi tim. Selain itu, kita juga harus berhati-hati dan bijak dalam mengambil keputusan keuangan,\" paparnya. \"Membangun bisnis bukan hanya tentang seberapa cepat kita bisa besar, tetapi seberapa lama kita bisa mempertahankan bisnis dalam kondisi yang sehat dan berdampak positif bagi orang lain,\" dia menambahkan. Kerja keras itu akhirnya membuahkan hasil. Di usia 28 tahun, Themy berhasil membawa KHDJH ke level yang lebih tinggi. Kini, KHDJH memiliki lebih dari 30 karyawan, memberdayakan 100 penjahit lokal, serta membuka peluang bagi ratusan reseller dan dropshipper di seluruh Indonesia. Keberhasilan ini bukan sekadar pertumbuhan bisnis, tetapi juga bagaimana KHDJH menciptakan dampak bagi komunitas yang lebih luas. Perubahan perilaku konsumen yang semakin mengandalkan belanja online mendorong pelaku usaha untuk terus beradaptasi dengan strategi digital yang tepat. Menyadari hal ini, KHDJH terus memperkuat kehadiran digitalnya dengan mengoptimalkan berbagai fitur interaktif serta program strategis Shopee, termasuk kampanye Shopee Big Ramadan Sale. IKLAN INFOBRAND.ID \"Sebagai brand fesyen muslim lokal, momen Ramadan selalu spesial bagi KHDJH, di mana permintaan terhadap produk fesyen muslim meningkat secara signifikan. Maka itu, kami selalu antusias mengikuti kampanye Shopee Big Ramadan Sale setiap tahunnya, yang dari tahun ke tahun selalu menjadi wadah bagi KHDJH untuk menghadirkan koleksi khusus Ramadan agar lebih mudah dijangkau oleh konsumen di seluruh Indonesia,\" katanya. \"Pada Ramadan tahun ini, KHDJH secara eksklusif meluncurkan Mukena Signature Ramadan Series di Shopee. Selain itu, KHDJH juga menghadirkan hampers khusus Ramadan untuk mendukung pelanggan dalam berbagi kebahagiaan di bulan suci ini,\" tambah Themy. Tak hanya aktif dalam kampanye tematik, KHDJH juga memanfaatkan fitur Shopee Live, bahkan sejak masih dalam tahap uji coba. Saat ini, Shopee Live berkontribusi terhadap 40% omzet KHDJH. Melihat kesuksesan ini, Themy memprediksi bahwa fitur live streaming seperti Shopee Live bukan sekadar fitur tambahan, tetapi akan menjadi elemen wajib bagi merek untuk tetap relevan dalam tren digital. Baca berita lainnya di Google News KHDJH Share This Article!\n",
      "\n",
      "Random news 2: KABARBURSA.COM - Setelah sempat mengalami tekanan hebat dan bahkan memicu trading halt pada perdagangan 18 Maret 2025, Indeks Harga Saham Gabungan (IHSG) akhirnya kembali bangkit. IHSG dibuka menguat 0,21 persen ke level 6.235, hingga pukul 15.00 WIB, IHSG menguat 1,37 persen menuju posisi 6.310. Kondisi perdagangan kemarin memaksa Bursa Efek Indonesia (BEI) menghentikan sementara perdagangan melalui mekanisme trading halt. Penyebab utama kejatuhan ini diduga berasal dari kombinasi faktor domestik dan global, termasuk pelebaran defisit Anggaran Pendapatan dan Belanja Negara (APBN), skandal korupsi di Badan Usaha Milik Negara (BUMN), serta ketidakpastian regulasi terkait Rancangan Undang-Undang (RUU) TNI yang menuai kontroversi di kalangan investor. Menurut Wakil Sekretaris Jenderal Organisasi Profesi Pasar Modal Indonesia (PROPAMI), Boris Sihar Sirait, pergerakan IHSG yang sempat anjlok tajam setelah Lebaran menjadi anomali. Biasanya, periode pasca-Lebaran diiringi dengan penguatan akibat peningkatan konsumsi. “Namun, tekanan makroekonomi, termasuk defisit APBN yang melebar serta kasus-kasus korupsi di BUMN, membuat pasar lebih berhati-hati,” kata Boris Sirait kepada Kabarbursa.com, Selasa, 18 Maret 2025. Selain itu, sentimen negatif dari pembahasan RUU TNI juga turut menambah ketidakpastian di pasar modal. Beberapa investor melihat ini sebagai risiko terhadap stabilitas ekonomi jangka panjang, sehingga memilih mengurangi eksposur di saham-saham tertentu. Saham-saham yang Diakumulasi Top Broker Namun, setelah sesi perdagangan dilanjutkan, IHSG secara bertahap menunjukkan pemulihan yang didukung oleh aksi beli dari investor lokal maupun asing. Beberapa saham unggulan menjadi target utama akumulasi oleh top broker, yang diyakini berupaya memanfaatkan harga diskon akibat tekanan jual sebelumnya. UBS Sekuritas Indonesia melakukan transaksi besar pada beberapa saham tertentu sehingga tercatat sebagai top broker hingga pukul 15.00 WIB. UBS Sekuritas Indonesia mencatat aktivitas perdagangan yang sangat tinggi dengan total transaksi Rp4,05 triliun dan kecenderungan net sell sebesar Rp372,33 miliar (10,54 persen dari total bursa). Beberapa saham yang paling banyak diserap dalam perdagangan terbaru meliputi PT Telkom Indonesia (Persero) Tbk. (TLKM) yang diperdagangkan pada harga Rp2.420 dengan volume 61,83 juta lembar dan rentang harga Rp2.380 - Rp2.440, serta nilai transaksi Rp149,6 miliar. TLKM menunjukkan pola uptrend yang stabil dengan kenaikan harga bertahap dan didukung oleh volume perdagangan yang tinggi. Moving Average (MA) 50 dan 200 hari menunjukkan golden cross, yang menandakan tren bullish jangka menengah. Selain itu, Relative Strength Index (RSI) masih berada di bawah overbought (70), menandakan masih ada ruang kenaikan. Potensi akumulasi oleh investor institusi seperti UBS dapat mengindikasikan keyakinan terhadap pertumbuhan TLKM, terutama di sektor digital dan cloud yang sedang berkembang. PT Astra International Tbk. (ASII) mengalami kenaikan harga ke Rp4.670 dengan volume perdagangan 21,9 juta lembar, rentang harga Rp4.610 - Rp4.700 dan nilai transaksi Rp102,2 miliar. Saham ASII bergerak dalam pola higher high dan higher low, yang mengindikasikan tren bullish. Saham ini berhasil menembus resistensi kunci di sekitar Rp 4.500, menandakan potensi rally lebih lanjut. Volume perdagangan yang meningkat seiring dengan kenaikan harga juga menunjukkan adanya dorongan beli dari institusi. Ditambah lagi, indikator MACD (Moving Average Convergence Divergence) menunjukkan crossover bullish, yang biasanya menjadi sinyal positif untuk investor jangka pendek hingga menengah. GoTo Gojek Tokopedia Tbk. (GOTO) turun ke Rp82 dengan volume 881,35 juta lembar dan nilai transaksi Rp72,2 miliar. UBS kemungkinan melihat potensi teknikal dari volume transaksi yang meningkat dan indikator Stochastic RSI yang menunjukkan oversold, yang biasanya menandakan peluang pembalikan harga ke atas. Sementara itu, PT Bank Rakyat Indonesia (Persero) Tbk. (BBRI) mengalami kenaikan ke Rp3.720 dengan volume perdagangan mencapai 258,86 juta lembar dan nilai transaksi sebesar Rp962,1 miliar. BBRI berada dalam tren naik yang stabil, dengan support kuat di sekitar Rp 3.650–3.700. Harga saat ini masih berada di atas EMA (Exponential Moving Average) 50 dan 100 hari, menandakan tren bullish jangka menengah. Saham PT J Resources Asia Pasifik Tbk (PSAB) juga mengalami lonjakan 3,90 persen ke Rp320 dengan volume 657,15 juta lembar dan nilai transaksi Rp213 miliar. Terbentuknya golden cross antara MA5 dan MA60 mengindikasikan potensi tren bullish yang kuat. UBS Sekuritas mengakumulasi saham-saham dengan fundamental kuat dan potensi teknikal yang menjanjikan, seperti TLKM, ASII, GOTO, dan BBRI. TLKM dan ASII menunjukkan pola uptrend yang stabil, sementara GOTO berada dalam kondisi oversold, yang berpotensi mengalami pembalikan harga. Di sisi lain, BBRI masih berada dalam tren naik dengan support kuat di Rp3.650–3.700, mencerminkan keyakinan UBS terhadap prospek positif sektor perbankan. (*) Important Disclaimers Seluruh konten yang disajikan di KabarBursa.com, termasuk berita, publikasi, analisis, opini, serta materi dari pihak ketiga, disediakan semata-mata untuk tujuan jurnalistik, edukasi dan riset. Informasi yang tersedia bukan merupakan rekomendasi atau nasihat hukum, investasi, atau keuangan. Setiap pengunjung KabarBursa.com diharapkan melakukan pemeriksaan menyeluruh (due diligence) dan berkonsultasi dengan penasihat keuangan atau investasi sebelum mengambil keputusan keuangan apa pun. Karena tidak memiliki informasi cukup mempertimbangkan kondisi finansial atau kebutuhan spesifik individu. Informasi yang disajikan tidak selalu real-time atau delay karena faktor teknologi. Segala keputusan transaksi atau tindakan keuangan lain yang dilakukan sepenuhnya menjadi tanggung jawab pengunjung. Pengguna tidak disarankan untuk mengandalkan informasi tunggal dalam website ini tanpa kajian dan pertimbangan yang cermat. KabarBursa.com tidak bertanggung jawab atas segala bentuk kerugian finansial yang timbul akibat penggunaan informasi yang tersedia. Selain itu, KabarBursa.com ini dapat menampilkan iklan atau konten promosi lainnya, di mana kabarbursa.com mungkin menerima kompensasi dari pihak ketiga. Namun, kompensasi tersebut tidak memengaruhi independensi redaksi, dan KabarBursa.com tidak memberikan dukungan atau rekomendasi terhadap layanan pihak ketiga mana pun. Pengguna bertanggung jawab penuh atas keputusan untuk menggunakan situs atau layanan dari pihak ketiga. Dengan mengakses dan menggunakan KabarBursa.com, pengguna menyetujui bahwa pengelola situs, termasuk karyawan, pejabat, anak perusahaan, dan afiliasi terkait, tidak bertanggung jawab atas segala bentuk kerugian atau kerusakan yang timbul akibat penggunaan situs ini maupun ketergantungan terhadap informasi yang disajikan. Risk Disclaimers KabarBursa.com menyediakan informasi mengenai saham, reksa dana, obligasi, forex, dan aset kripto, serta berbagai instrumen keuangan lainnya, termasuk broker, bursa, dan entitas yang memperdagangkannya. Investasi dalam instrumen-instrumen tersebut memiliki risiko tinggi, termasuk potensi kehilangan sebagian atau seluruh modal yang diinvestasikan. Sebelum berinvestasi, pastikan Anda memahami cara kerja setiap instrumen keuangan dan mampu menanggung risiko yang terkait. KabarBursa.com mendorong Anda untuk melakukan riset secara mandiri sebelum mengambil keputusan investasi dan menghindari investasi pada instrumen yang tidak sepenuhnya Anda pahami, termasuk potensi risikonya.\n",
      "\n"
     ]
    }
   ],
   "source": [
    "import random\n",
    "import re\n",
    "\n",
    "# the keywords inside the regex for loop\n",
    "key_unecessary_words = [\"baca juga\", \"advertisement\", \"iklan\"]\n",
    "\n",
    "# looping each keyword in key_unecessary_words\n",
    "for keyword in key_unecessary_words:\n",
    "    matches = news_dataset_clean[news_dataset_clean['content'].str.contains(r'(?i)\\b' + re.escape(keyword) + r'\\b', na=False)]\n",
    "    matches = matches.reset_index(drop=True) # reset the indexing\n",
    "    print(f\"--- Unecessary words: {keyword} ({len(matches)} observations) ---\")\n",
    "\n",
    "    if len(matches) > 0:\n",
    "        for num in range(min(3, len(matches))):\n",
    "            random_news_instance = random.randint(0, len(matches) - 1)\n",
    "            print(f\"Random news {num}: {matches['content'].iloc[random_news_instance]}\\n\")\n",
    "    else:\n",
    "        print(f\"No matches for {keyword} found in the dataset.\\n\")"
   ]
  },
  {
   "cell_type": "markdown",
   "metadata": {},
   "source": [
    "#### Using regular expression, it is detected that there are 310 instances of news texts containing \"baca juga\", \"advertisement\", or \"iklan\" strings. We can also see the random news text containing the mentioned strings through regular expression (regex). However it is important to take these into consideration:\n",
    "1. The regex retrieves solely news with abovementioned strings; it does not take the sentence where the strings are bound into consideration (e.g., the \"baca juga\" strings can take place in non-initial positions; the strings could be part of phrases of meaningful sentences, instead of just a imperative phrase redirecting readers to other news articles)\n",
    "2. The strings \"iklan\" and \"advertisement\" seem to only be noises when the words are all capitalized\n",
    "\n",
    "#### To account for this problem, we will:\n",
    "1. Modify the regex to only filter out the strings \"iklan\" and \"advertisement\" when they are all capitalized\n",
    "2. Use spaCy to segment the news into separate sentences, then modify the regex expression to filter out \"baca juga\" in sentence initial positions"
   ]
  },
  {
   "cell_type": "markdown",
   "metadata": {},
   "source": [
    "## 2. Updating regular expressions"
   ]
  },
  {
   "cell_type": "code",
   "execution_count": 74,
   "metadata": {},
   "outputs": [
    {
     "name": "stdout",
     "output_type": "stream",
     "text": [
      "310 instances of news text with unecessary words \n",
      "0.34 percent of instances with unecessary words\n"
     ]
    }
   ],
   "source": [
    "# new regex expression, where \"iklan\" and \"advertisement\" are only retrieved when in uppercase\n",
    "new_regex = r\"(?i)\\b(baca juga)\\b|\\b(ADVERTISEMENT|IKLAN)\\b\"\n",
    "\n",
    "new_dataset = news_dataset_clean\n",
    "\n",
    "# add new column matches where True indicates instances of news text with unecessary word\n",
    "new_dataset['matches'] = new_dataset['content'].str.contains(new_regex)\n",
    "\n",
    "# count the no. of True observation of column 'matches' and len of news_dataset_clean\n",
    "new_nrow_matches = new_dataset['matches'].sum()\n",
    "new_nrow_news_dataset = len(new_dataset)\n",
    "\n",
    "print(f\"{new_nrow_matches} instances of news text with unecessary words \\n{new_nrow_matches/new_nrow_news_dataset:.2f} percent of instances with unecessary words\")"
   ]
  },
  {
   "cell_type": "code",
   "execution_count": 75,
   "metadata": {},
   "outputs": [
    {
     "name": "stdout",
     "output_type": "stream",
     "text": [
      "--- Unecessary words: baca juga (291 observations) ---\n",
      "Random news 0: Ambil Saldo DANA Gratis Sekarang! Klaim Link Tautan Bernilai Rp 121 Ribu Cair Langsung Ke Rekening Reporter: Dian Saptari | Editor: Dian Saptari | Rabu 19-03-2025,17:00 WIB Dapatkan saldo gratis hari ini. Sumber Foto. Dian Saptari. Radar Lampung -- RADARLAMPUNG.CO.ID - Segera ambil saldo DANA gratis sekarang lewat klaim link tautan bernilai Rp 121 ribu hari ini. Cair langsung ke rekening dapatkan segera saldo DANA gratis tanpa syarat. Saldo gratis dana dari link DANA Kaget dapat di klaim hari ini. Cukup modal hp dan lakukan klik tautan link DANA Kaget cairkan saldonya. BACA JUGA: Mutasi Polri Maret 2025, 8 Perwira Tinggi Promosi Jadi Jenderal Bintang Dua BACA JUGA: Mutasi Polri Maret 2025, Puluhan Perwira Menengah Promosi Jadi Kapolres Pengguna cukup siapkan nomor akun e wallet untuk terima transferan saldo dana yang berhasil di klaim. Berikut cara aktifkan nomor akun e wallet sebagai bukti pencairan saldo gratis hari ini. - Langkah pertama pengguna perlu siapkan nomor GSM aktif - klik daftar ke aplikasi dompet digital DANA. BACA JUGA: Berburu THR! Cairkan Link DANA Kaget Berisi Amplop Saldo Gratis Rp 165.000, Sikat Langsung Ke Akun Nomor Hp BACA JUGA: Jangan Kehabisan Klaim Link DANA Kaget Terbaru, Dapatkan Saldo Gratis Rp 125.000 Terbatas Hari Ini! - Silahkan isi data secara lengkap - jika sudah lengkap pengguna bisa buat pin transaksi sebagai keamanan akun. 1 2 » Cek Berita dan Artikel yang lain di Google News Sumber:\n",
      "\n",
      "Random news 1: POSKOTA.CO.ID - Salah satu cara mendapatkan saldo DANA gratis hingga Rp325.000 adalah melalui game penghasil uang yang menawarkan hadiah menarik. Salah satu game penghasil uang yang banyak dimainkan oleh para pengguna DANA adalah Good Cut. Aplikasi ini memberikan kesempatan kepada penggunanya untuk mendapatkan saldo DANA hanya dengan memainkan game ringan. Setiap keberhasilan memotong balok dan mengenai gambar permen di sampingnya akan memberimu poin yang bisa dikumpulkan. Poin-poin yang berhasil kamu kumpulkan nantinya bisa ditukar dengan saldo DANA, OVO, atau Gopay. Menariknya, kamu tidak perlu repot mengundang teman untuk mendapatkan bonus tambahan. Cukup selesaikan misi yang ada, kumpulkan poin, dan raih hadiahnya Selain itu, proses penukaran poin menjadi saldo dompet digital juga sangat mudah, sehingga aplikasi ini digemari oleh berbagai kalangan, mulai dari pelajar hingga pekerja kantoran yang mencari hiburan ringan di waktu luang. Baca Juga: Hanya 1 Jam Main Game Penghasil Saldo DANA, Cuan Rp333.000 Langsung Cair ke Dompet ElektronikCara Dapat Saldo DANA Gratis dari Good Cut Untuk kamu yang ingin mencoba peruntungan mendapatkan saldo DANA gratis, ikuti panduan lengkap di bawah ini: Unduh dan Instal Aplikasi Buka Play Store atau App Store di ponsel kamu. Cari aplikasi Good Cut dan klik tombol Install untuk mengunduhnya. Registrasi atau Login Setelah aplikasi terpasang, buka Good Cut. Lakukan registrasi menggunakan email atau akun media sosial yang kamu miliki. Jika sudah memiliki akun, cukup login saja. Mainkan Game dan Kumpulkan Poin Mulai permainan dengan mengikuti instruksi yang muncul di layar. Tugas utama kamu adalah memotong balok dan memastikan potongan tersebut mengenai gambar permen yang ada di samping balok. Setiap keberhasilan akan memberimu poin yang bisa terus dikumpulkan.Tukar Poin dengan Saldo DANA Setelah poin terkumpul dalam jumlah yang cukup, buka menu Redeem atau Withdraw di aplikasi. Pilih metode pencairan saldo, bisa melalui DANA, OVO, atau Gopay. Masukkan nomor dompet digital yang kamu gunakan, lalu konfirmasi. Tarik Saldo ke Dompet Elektronik Klik tombol Withdraw All jika ingin menarik seluruh saldo yang tersedia. Tunggu beberapa saat hingga proses pencairan selesai. Saldo DANA gratis pun akan masuk ke dompet digital kamu. Meski terlihat mudah, dibutuhkan kesabaran dan konsistensi untuk mencapai jumlah saldo yang diinginkan. Jadi, tunggu apa lagi? Unduh Good Cut sekarang, selesaikan misi, dan nikmati saldo DANA gratis hingga Rp325.000 hanya dengan bermain game! DISCLAIMER: Perlu diingat, jumlah saldo yang diterima bisa berbeda untuk setiap pengguna. Pastikan kamu bermain dengan bijak dan tetap waspada terhadap penipuan yang mengatasnamakan aplikasi ini. 1 2 Semua Tags : Cara Dapat Saldo DANA Gratis Good Cut game penghasil saldo DANA game penghasil uang saldo gratis DANA saldo gratis saldo DANA saldo DANA gratis\n",
      "\n",
      "Random news 2: Aplikasi pembayaran digital untuk THR, kendala akses, menjadi sorotan seiring meningkatnya tren penggunaan metode digital untuk menerima dan mendistribusikan Tunjangan Hari Raya (THR). Kemudahan transfer uang dan berbagai fitur menarik membuat aplikasi ini populer, namun sayangnya, aksesibilitas masih menjadi kendala bagi sebagian masyarakat Indonesia, khususnya di daerah pedesaan dengan infrastruktur terbatas. Artikel ini akan mengupas tuntas tren tersebut, menganalisis kendala akses yang dihadapi, dan menawarkan solusi untuk memastikan distribusi THR yang merata dan efisien. Pergeseran menuju pembayaran digital untuk THR tak hanya didorong oleh kemudahan, tetapi juga oleh upaya pemerintah untuk mendorong inklusi keuangan digital. Namun, tantangan berupa kesenjangan digital, literasi finansial yang rendah, dan kendala infrastruktur masih menghalangi akses bagi banyak pekerja. Penting untuk memahami dinamika ini untuk menciptakan sistem distribusi THR yang lebih inklusif dan efektif bagi semua lapisan masyarakat. Iklan Iklan Popularitas Aplikasi Pembayaran Digital untuk THR Tren penggunaan aplikasi pembayaran digital untuk menerima dan mengirim Tunjangan Hari Raya (THR) di Indonesia mengalami peningkatan signifikan dalam beberapa tahun terakhir. Hal ini didorong oleh faktor kemudahan, kecepatan, dan keamanan yang ditawarkan oleh platform digital dibandingkan metode konvensional seperti transfer bank atau pemberian THR secara tunai. Pergeseran ini mencerminkan transformasi digital yang pesat di Indonesia, khususnya dalam sektor keuangan. Perbandingan Aplikasi Pembayaran Digital untuk THR Beberapa aplikasi pembayaran digital telah menjadi pilihan utama untuk transaksi THR. Berikut perbandingan tiga aplikasi terpopuler berdasarkan fitur transfer uang dan keamanan: Aplikasi Fitur Transfer Uang Keamanan Biaya GoPay Transfer antar pengguna GoPay, transfer ke rekening bank, top up saldo. Verifikasi dua faktor (2FA), proteksi biometrik, enkripsi data. Variatif, tergantung metode dan nominal transfer. OVO Transfer antar pengguna OVO, transfer ke rekening bank, top up saldo. Verifikasi dua faktor (2FA), proteksi PIN, enkripsi data. Variatif, tergantung metode dan nominal transfer. Dana Transfer antar pengguna Dana, transfer ke rekening bank, top up saldo. Verifikasi dua faktor (2FA), proteksi PIN, enkripsi data. Variatif, tergantung metode dan nominal transfer. Faktor Pendorong Peningkatan Penggunaan Aplikasi Pembayaran Digital untuk THR Beberapa faktor mendorong peningkatan penggunaan aplikasi pembayaran digital untuk THR. Kemudahan akses dan penggunaan menjadi faktor utama, terutama bagi generasi muda yang sudah terbiasa bertransaksi secara digital. Kecepatan transfer dan pengiriman yang instan juga menjadi daya tarik. Selain itu, fitur keamanan yang semakin canggih meminimalisir risiko penipuan dan kehilangan uang. Promosi dan insentif dari penyedia layanan juga berperan dalam mendorong adopsi aplikasi ini. Ilustrasi Penerimaan THR melalui Aplikasi Pembayaran Digital Bayangkan Budi menerima THR dari perusahaannya melalui aplikasi GoPay. Budi menerima notifikasi di aplikasi GoPay-nya yang menunjukkan transfer sebesar Rp 5.000.000 dari PT. Maju Jaya. Pada tampilan aplikasi, terlihat detail transaksi dengan tanggal, jam, dan nama pengirim. Budi dapat langsung melihat saldo GoPay-nya yang bertambah. Baca Juga : Jumlah Korban Penipuan Online Bertema BTS dan Kerugiannya Antarmuka aplikasi GoPay menampilkan saldo baru, riwayat transaksi, dan pilihan untuk melakukan transfer, pembayaran, atau pembelian lainnya. Tampilannya sederhana dan intuitif, sehingga mudah dipahami oleh pengguna. Dampak Positif dan Negatif terhadap Perekonomian Digital Indonesia Tren ini memiliki dampak positif dan negatif. Dampak positifnya adalah peningkatan inklusi keuangan, meningkatnya transaksi digital, dan pertumbuhan ekonomi digital. Namun, dampak negatifnya meliputi potensi peningkatan kejahatan siber, kerentanan terhadap gangguan sistem, dan kesenjangan digital bagi mereka yang belum memiliki akses internet atau perangkat digital. Kendala Akses Aplikasi Pembayaran Digital untuk THR Penerimaan THR (Tunjangan Hari Raya) secara digital semakin populer, namun aksesibilitas aplikasi pembayaran digital masih menjadi kendala bagi sebagian masyarakat. Perbedaan infrastruktur, kemampuan digital, dan kondisi sosial ekonomi menciptakan kesenjangan dalam pemanfaatan teknologi keuangan ini. Artikel ini akan mengidentifikasi berbagai kendala tersebut dan menawarkan solusi untuk meningkatkan inklusi keuangan digital. Kendala Akses di Perkotaan dan Pedesaan Aksesibilitas aplikasi pembayaran digital di Indonesia memiliki tantangan yang berbeda, bergantung pada lokasi geografis. Perbedaan ini terutama terlihat antara daerah perkotaan dan pedesaan. Daerah Perkotaan: Kendala utama di perkotaan cenderung terkait dengan literasi digital dan kepercayaan terhadap platform digital. Banyak warga perkotaan yang masih belum terbiasa menggunakan aplikasi pembayaran digital atau ragu akan keamanan transaksinya. Selain itu, masalah verifikasi identitas dan aksesibilitas untuk penyandang disabilitas juga menjadi poin penting. Daerah Pedesaan: Di daerah pedesaan, kendala utamanya adalah akses internet yang terbatas, infrastruktur yang belum memadai, dan minimnya literasi digital. Minimnya agen layanan pembayaran digital juga menjadi hambatan. Faktor sosial ekonomi, seperti tingkat pendapatan yang rendah, juga turut mempengaruhi adopsi teknologi ini. Mengatasi Kendala Akses Internet, Aplikasi pembayaran digital untuk THR, kendala akses Akses internet yang terbatas merupakan hambatan utama, terutama di daerah pedesaan. Berikut beberapa langkah yang dapat dilakukan untuk mengatasi masalah ini: Pengembangan Infrastruktur: Perluasan jaringan internet dan peningkatan kualitas sinyal menjadi prioritas. Pemerintah dan swasta perlu berkolaborasi untuk membangun infrastruktur telekomunikasi yang memadai di seluruh wilayah Indonesia. Literasi Digital: Program edukasi dan pelatihan penggunaan internet dan aplikasi pembayaran digital sangat penting. Pelatihan ini perlu disesuaikan dengan kebutuhan dan kemampuan masyarakat di berbagai daerah. Pemanfaatan Teknologi Alternatif: Menggunakan teknologi alternatif seperti layanan SMS banking atau metode pembayaran non-digital di lokasi-lokasi yang terpencil bisa menjadi solusi sementara. Menangani Masalah Verifikasi Identitas Verifikasi identitas merupakan langkah penting dalam keamanan transaksi digital. Kesulitan dalam proses verifikasi dapat menghambat penggunaan aplikasi. Berikut beberapa solusi: Penyederhanaan Proses: Proses verifikasi identitas perlu disederhanakan dan dibuat lebih user-friendly. Penggunaan metode verifikasi yang lebih beragam, seperti verifikasi melalui e-KTP digital atau layanan verifikasi pihak ketiga, dapat membantu. Asistensi Teknis: Petugas layanan pelanggan yang responsif dan mudah dihubungi dapat membantu pengguna mengatasi masalah verifikasi identitas. Pusat bantuan yang mudah diakses dan menyediakan panduan yang jelas juga diperlukan. Pengembangan Infrastruktur Digital: Integrasi data kependudukan dengan sistem aplikasi pembayaran digital dapat mempermudah dan mempercepat proses verifikasi identitas. Baca Juga : Siapa Korban Tewas Tertabrak Kereta Api Kertanegara Nganjuk?Solusi Inovatif untuk Inklusi Keuangan Digital Meningkatkan inklusi keuangan digital membutuhkan solusi inovatif yang memperhatikan kebutuhan kelompok rentan. Beberapa solusi yang dapat dipertimbangkan adalah: Aplikasi Pembayaran yang Ramah Disabilitas: Desain aplikasi yang mempertimbangkan kebutuhan penyandang disabilitas, seperti fitur teks-ke-ucapan dan navigasi yang mudah diakses. Kerjasama dengan Agen Lokal: Memanfaatkan agen lokal yang sudah terpercaya di masyarakat, seperti warung atau toko kelontong, sebagai titik akses untuk transaksi digital. Ini akan memudahkan masyarakat di daerah terpencil untuk melakukan transaksi. Program Insentif dan Edukasi: Pemerintah dapat memberikan insentif bagi masyarakat yang mulai menggunakan aplikasi pembayaran digital, serta kampanye edukasi yang intensif untuk meningkatkan kepercayaan dan literasi digital. Fitur Aplikasi Pembayaran Digital untuk THR Penerimaan Tunjangan Hari Raya (THR) kini semakin mudah dan praktis berkat kehadiran aplikasi pembayaran digital. Berbagai fitur yang ditawarkan aplikasi-aplikasi ini memudahkan pengelolaan THR, mulai dari penerimaan hingga pembagian. Artikel ini akan mengulas beberapa fitur utama yang relevan dan perlu Anda ketahui. Fitur Utama Aplikasi Pembayaran Digital untuk Pengelolaan THR Aplikasi pembayaran digital menawarkan beragam fitur yang dirancang untuk mempermudah penerimaan dan pengelolaan THR. Fitur-fitur tersebut antara lain transfer dana antar bank, pembayaran tagihan, pembelian pulsa dan paket data, split bill, dan riwayat transaksi. Masing-masing fitur ini memiliki peran penting dalam mengoptimalkan penggunaan THR. Fitur Split Bill dan Penggunaannya untuk Pembagian THR Kelebihan fitur split bill adalah kemudahan dalam membagi THR kepada beberapa penerima sekaligus. Prosesnya cepat dan efisien, tanpa perlu transfer manual satu per satu. Namun, kekurangannya terletak pada potensi biaya tambahan yang mungkin dikenakan oleh aplikasi, serta keterbatasan jumlah penerima dalam satu transaksi split bill. Perlu dipertimbangkan juga aspek privasi data penerima THR. Langkah-Langkah Transfer Uang Antar Bank Buka aplikasi pembayaran digital Anda. Pilih menu “Transfer”. Pilih opsi “Antar Bank”. Masukkan nomor rekening tujuan, nama bank, dan nominal transfer. Verifikasi data yang telah diinput. Masukkan PIN atau metode verifikasi keamanan lainnya. Konfirmasi transfer. Proses transfer antar bank umumnya memakan waktu beberapa menit hingga beberapa jam, tergantung kebijakan masing-masing bank dan aplikasi. Perbandingan Fitur Keamanan Aplikasi Pembayaran Digital Setiap aplikasi pembayaran digital menawarkan fitur keamanan yang berbeda. Beberapa aplikasi menggunakan verifikasi dua faktor (2FA), PIN, pola kunci, dan biometrik (sidik jari atau pengenalan wajah). Beberapa aplikasi juga memiliki sistem enkripsi data yang kuat untuk melindungi transaksi pengguna. Perbandingan fitur keamanan secara detail memerlukan kajian tersendiri dan bergantung pada pembaruan fitur dari masing-masing penyedia layanan. 1 2» Tags: inklusi keuangan kendala akses literasi digital pembayaran digital THR digital\n",
      "\n",
      "--- Unecessary words: ADVERTISEMENT (7 observations) ---\n",
      "Random news 0: Jakarta - Bulan suci Ramadan selalu menjadi momen istimewa bagi umat Muslim untuk berkumpul, berbagi, dan mempererat silaturahmi. Untuk merayakan momen penuh berkah ini, PIK 2 Ramadan Under The Dome akan hadir pada 21-23 Maret 2025 di Spike Air Dome, Pantai Indah Kapuk 2, mulai pukul 15.00 hingga 22.00 WIB. Acara ini menghadirkan pengalaman berbuka puasa bersama dalam suasana yang megah, disertai tausiyah dari ustadz ternama, hiburan Islami, serta berbagai aktivitas komunitas dalam satu tempat. Bertempat di Spike Air Dome, dome terbesar di Indonesia dengan kapasitas hingga 5.000 orang, PIK 2 Ramadan Under The Dome ini menawarkan pengalaman berbuka puasa yang unik dalam suasana Ramadan yang megah. Dengan desain arsitektur inovatif dan atmosfer yang nyaman, pengunjung akan merasakan kebersamaan dalam ibadah, tausiyah, serta hiburan Islami yang berkesan. ADVERTISEMENT SCROLL TO CONTINUE WITH CONTENT &#34;Kami sudah mempersiapkan Spike Air Dome dan sekelilingnya untuk memastikan acara ini menjadi suatu pengalaman yang tak terlupakan,&#34; ungkap Managing Director Spike Air Dome PIK2, Ryan Adrian dalam keterangannya, Kamis (20/3/2025). Baca juga: 15 Tempat Buka Puasa Ramah Kantong di Berbagai Wilayah Jakarta Sejak diumumkan, acara ini mendapat sambutan luar biasa dari masyarakat. Hingga saat ini, hampir 2.000 tiket telah terjual, dan jumlahnya terus meningkat. Dengan kapasitas terbatas, pengunjung disarankan untuk segera mengamankan tiket sebelum kehabisan. ADVERTISEMENT Setiap harinya, pengunjung akan mendapatkan inspirasi dari tausiyah oleh ustadz ternama, antara lain Ustadz Abu Fida, Ustadz Subky Al-Bughury, dan Ustadz Maulana. Selain itu, terdapat Islamic School Competition yang memberikan kesempatan bagi anak-anak dan remaja untuk berkompetisi secara individu maupun kelompok dalam Musabaqah Tilawatil Quran (MTQ) dan Hadroh dengan total hadiah senilai Rp 15 juta untuk kategori SD hingga SMA. Dari sisi hiburan, pengunjung tidak akan pernah bosan karena penampilan musisi dan artis papan atas siap menghibur selama acara berlangsung. Beberapa line up penampil antara lain. ● Kaka Slank ● Jey Pahlevi ● Namira Diansyah ● Menie Hepilogue ft. Lima Warna Beragam Kuliner, Tenant Produk, dan Layanan Kesehatan Tak lengkap rasanya berbuka puasa tanpa hidangan lezat. Ada puluhan tenant kuliner dan multiproduk yang siap memanjakan pengunjung. Pengunjung dapat menikmati berbagai pilihan makanan dari tenant populer seperti Bebek Carok, Bakso Rusuk Solo 39, Es Teh Indonesia, Burgo, Oma Dian, 5. Bakmi Ayam Jamurqu, Fruiti Brust, Oyster Omelette, Es Tebu Indonesia, dan masih banyak lagi. Baca juga: Serunya Yoga Bareng di Pantai, Sembari Sound Healing dan Belajar Journaling Untuk Anda yang ingin berbelanja, tersedia tenant multiproduk seperti Kanase, Saujana Wear, Majoo, serta berbagai booth dari Rumah Zakat, Agung Sedayu Group, Wings, POP PLAY by Enjoy PIK, PIK Tourism, JNE, Hervita Air Mineral, Haka Auto, dan brand-brand besar maupun UKM yang bersanding memeriahkan acara ini. Selain itu, PIK 2 Ramadan Under The Dome semakin lebih menarik dengan adanya dukungan dari RS Hermina yang menyediakan booth untuk Cek Kesehatan bagi setiap pengunjung. Nikmati kesempatan untuk menjalani Ramadan dengan lebih sehat. PIK 2 Ramadan Under The Dome bukan sekadar acara berbuka puasa bersama, tetapi juga perayaan nilai-nilai kebersamaan, kepedulian sosial, dan spiritualitas dalam suasana Ramadan yang penuh keberkahan. Dengan beragam kegiatan inspiratif dan hiburan Islami, acara ini akan menjadi pengalaman tak terlupakan bagi seluruh pengunjung. Tiket bisa didapatkan melalui link berikut atau melalui Instagram @ramadandome_pik2 . Segera amankan tempat Anda sebelum kehabisan! Simak juga Video &#39;Bazar Ramadan di Masjid Istiqlal&#39;: [Gambas:Video 20detik] (akn/ega) pik 2 agung sedayu group Hoegeng Awards 2025 Usulkan Polisi Teladan di sekitarmu Usulkan di sini\n",
      "\n",
      "Random news 1: PUTRAJAYA, March 19 — The Court of Appeal (COA) has upheld the Kuala Lumpur High Court’s decision to annul the RM86.77 million fine proposed by the Malaysia Competition Commission (MyCC) against Grab Holdings Inc and its subsidiaries, GrabCar Sdn Bhd and MyTeksi Sdn Bhd, in 2019. According to a report in The Edge, a three-member panel led by Justice Datuk ES Nantha Balan, along with Datuk Dr Lim Chong Fong and Datuk Ahmad Kamal Md Shahid, also ordered MyCC to pay RM50,000 in costs to Grab. Delivering the unanimous decision, Lim said MyCC had been “cavalier” in its investigations, which the court found to be procedurally improper, justifying the judicial review. He noted that MyCC should have notified Grab and its subsidiaries of the request for information under Section 18 of the Competition Act 2010, as investigations must be based on a third-party complaint. Lim also highlighted that MyCC’s letter to the respondents was ambiguous, depriving them of details regarding the complaint, which led to their request for more information. ADVERTISEMENT He further explained that Sections 35 to 40 of the Competition Act, which deal with interim measures and findings of infringement, do not provide a mechanism to challenge a proposed decision. Since no internal appeal process exists for MyCC’s proposed decision, the court found that Grab was justified in seeking judicial review. The COA had previously overturned a High Court ruling that denied Grab leave to file for judicial review. Lim cited a past decision by then-COA judge Datuk Hanipah Farikullah, now a Federal Court judge, who ruled that judicial review should proceed if there was initial evidence of procedural impropriety. He added that Hanipah had observed the lack of provisions in the Competition Act for an automatic avenue to challenge a proposed decision, reinforcing the need for judicial review. MyCC was represented by Tan Sri Tommy Thomas and Mervyn Lai, while Grab and the other respondents were represented by Datuk Malik Imtiaz Sarwar, Yvonne Lim, and Shanthi Kandiah. On July 6, 2023, the High Court allowed Grab’s judicial review, with then-High Court judge Datuk Wan Ahmad Farid Wan Salleh ruling that MyCC’s announcement of the proposed fine was procedurally flawed and violated natural justice. Associated PressJFK assassination files released, sending history buffs hunting for new clues More than 63,000 pages of records related to the 1963 assassination of President John F. Kennedy were released Tuesday following an order by President Donald Trump, many without the redactions that had confounded historians for years and helped fuel conspiracy theories. The vast majority of the National Archives' collection of over 6 million pages of records, photographs, motion pictures, sound recordings and artifacts related to the assassination have previously been released. Larry J. Sabato, director of the University of Virginia Center for Politics and author of “The Kennedy Half-Century,” said it will take time to fully review the records. ReutersTrump signs order to shift disaster preparations from FEMA to states, local governments WASHINGTON (Reuters) -U.S. President Donald Trump on Tuesday signed an executive order that seeks to shift responsibility for disaster preparations to state and local governments, deepening his drive to overhaul the Federal Emergency Management Agency. The order, first previewed by the White House on March 10, calls for a review of all infrastructure, continuity, and preparedness and response policies to update and simplify federal approaches. It said \"common sense\" investments by state and local governments to address risks ranging from wildfires to hurricanes and cyber attacks would enhance national security, but did not detail what they were or how they would be funded.\n",
      "\n",
      "Random news 2: Jakarta, Beritasatu.com - Dengan perkembangan teknologi, cara kirim THR online menjadi pilihan praktis yang semakin populer. Salah satu metode yang banyak digunakan adalah melalui Ovo, dompet digital yang memungkinkan transfer uang dengan cepat dan aman. Berikut ini cara mengirim THR secara online menggunakan Ovo agar lebih praktis dan efisien. Cara Kirim THR Online dengan Ovo 1. Persiapan sebelum mengirim THR melalui Ovo Sebelum melakukan transfer THR menggunakan Ovo, ada beberapa hal yang perlu dipastikan terlebih dahulu: Pastikan akun Ovo sudah premier agar bisa menggunakan fitur transfer ke rekening bank atau sesama pengguna Ovo. Buka aplikasi Ovo dan pilih menu &#34; Upgrade ke Ovo Premier&#34;. Unggah foto KTP sesuai instruksi yang diberikan. Ambil foto selfie bersama KTP. Tunggu proses verifikasi yang biasanya hanya membutuhkan waktu kurang dari 24 jam. Setelah proses verifikasi selesai, pastikan saldo Ovo Cash mencukupi. BACA JUGA ⁠Cara Cek Lokasi Tukar Uang Baru Terdekat Hanya dengan Ponsel ADVERTISEMENT 2. Cara kirim THR ke sesama pengguna Ovo Buka aplikasi Ovo di smartphone Anda. Pilih menu &#34;Transfer&#34; di halaman utama. Pilih &#34;Ke Sesama Ovo&#34;. Masukkan nomor ponsel penerima yang terdaftar di OVO atau pilih dari daftar kontak. Masukkan jumlah THR yang ingin dikirim. Tambahkan catatan atau pesan (opsional), misalnya &#34;Selamat Hari Raya, semoga berkah!&#34;. Konfirmasi transaksi dan masukkan PIN Ovo untuk menyelesaikan transfer. Notifikasi sukses akan muncul, dan penerima akan langsung menerima saldo THR mereka. 3. Cara kirim THR ke rekening bank melalui Ovo Buka aplikasi Ovo dan masuk ke akun Anda. Pilih menu &#34;Transfer&#34; di halaman utama. Pilih &#34;Ke Rekening Bank&#34;. Pilih bank tujuan dari daftar yang tersedia. Masukkan nomor rekening penerima dengan benar. Masukkan nominal THR yang akan dikirim. Tambahkan catatan atau pesan untuk penerima (opsional). Periksa kembali detail transaksi agar tidak terjadi kesalahan. Masukkan PIN Ovo Anda untuk menyelesaikan transaksi. Setelah transaksi berhasil, penerima akan mendapatkan dana langsung di rekening mereka. Perlu diperhatikan, transfer ke rekening bank melalui Ovo biasanya dikenakan biaya administrasi sebesar Rp 2.500 per transaksi. BACA JUGA 7 Aplikasi Desain Amplop untuk Lebaran 2025 yang Kreatif dan Unik Tip agar THR Lebih Berkesan Agar pengiriman THR lebih bermakna, Anda bisa mencoba beberapa cara berikut ini. Tambahkan ucapan spesial Kirimkan pesan personal seperti &#34;Selamat Hari Raya, semoga berkah dan sukses selalu!&#34; untuk membuat penerima lebih senang. Manfaatkan Ovo Points Jika memiliki Ovo Points, Anda bisa menggunakannya sebagai tambahan THR. Beri THR secara bertahap Untuk memberikan kejutan, coba kirim THR dalam beberapa kali transfer kecil disertai pesan menarik. Itulah cara kirim THR online menggunakan Ovo. Dengan persiapan yang tepat, Anda dapat memastikan penerima THR mendapatkan uangnya dengan lancar dan tanpa hambatan. Cara Kirim THR Online Cara Kirim THR Lewat Ovo THR Online Cara Transfer Lewat Ovo\n",
      "\n",
      "--- Unecessary words: IKLAN (2 observations) ---\n",
      "Random news 0: Keuangan·Maret 19, 2025 Penghasil Saldo Dana Gratis, Aplikasi pembayaran semakin populer di era digital, memudahkan transaksi tanpa uang tunai. Dari pembayaran e-commerce hingga transfer instan, temukan cara memilih aplikasi terbaik, keunggulannya, serta rekomendasi aplikasi pembayaran paling aman dan cepat di Indonesia. Baca selengkapnya di sini! Di era digital yang berkembang pesat, aplikasi pembayaran menjadi solusi utama bagi masyarakat dalam melakukan transaksi. Dengan teknologi yang semakin canggih, kini kita bisa bertransaksi hanya dengan beberapa ketukan di layar ponsel. Dari pembayaran belanja online hingga transfer antarbank, aplikasi pembayaran hadir untuk memberikan kemudahan. 1. Apa Itu Aplikasi Pembayaran? Aplikasi pembayaran adalah platform digital yang memungkinkan pengguna untuk melakukan transaksi keuangan secara elektronik. Dengan aplikasi ini, pengguna bisa membayar tagihan, melakukan transfer, membeli pulsa, hingga berbelanja online dengan lebih mudah dan cepat. Dulu, transaksi hanya bisa dilakukan secara tunai atau melalui perbankan konvensional. Namun, kini berbagai aplikasi pembayaran menawarkan fitur yang lebih efisien dan praktis, mempersingkat waktu serta mengurangi ketergantungan pada uang fisik. 2. Keunggulan Menggunakan Aplikasi Pembayaran Praktis dan Efisien Salah satu keunggulan utama aplikasi pembayaran adalah kepraktisan. Pengguna tidak perlu lagi membawa uang tunai dalam jumlah besar atau mengunjungi ATM untuk melakukan transaksi. Semua bisa dilakukan melalui ponsel dalam hitungan detik. Keamanan Terjamin Sebagian besar aplikasi pembayaran telah dilengkapi dengan fitur keamanan tinggi, seperti verifikasi dua langkah, enkripsi data, serta proteksi terhadap penipuan. Dengan begitu, transaksi lebih aman dibandingkan metode konvensional. 3. Jenis-Jenis Aplikasi Pembayaran Dompet Digital (E-Wallet) E-Wallet seperti GoPay, OVO, dan Dana memungkinkan pengguna menyimpan saldo digital yang dapat digunakan untuk berbagai transaksi. Mobile Banking Layanan perbankan digital dari bank seperti BCA Mobile, BRImo, dan Livin’ by Mandiri memungkinkan transaksi perbankan tanpa harus ke ATM. Payment Gateway Platform seperti Midtrans, Xendit, dan DOKU memfasilitasi pembayaran bagi pelaku bisnis online dengan berbagai metode, termasuk kartu kredit dan transfer bank. 4. Cara Memilih Aplikasi Pembayaran Terbaik Dalam memilih aplikasi pembayaran, ada beberapa hal yang harus diperhatikan, seperti fitur yang ditawarkan, keamanan, kemudahan penggunaan, dan biaya transaksi. Pastikan aplikasi memiliki lisensi resmi dari Bank Indonesia serta menawarkan proteksi pengguna. Selain itu, pilih aplikasi yang kompatibel dengan kebutuhan, baik untuk transaksi harian maupun bisnis. 5. Rekomendasi Aplikasi Pembayaran Terbaik di Indonesia 1. GoPay GoPay terintegrasi dengan ekosistem Gojek dan menawarkan berbagai layanan pembayaran, dari transportasi hingga belanja online. 2. OVO OVO banyak digunakan untuk transaksi di berbagai merchant dan memiliki fitur cashback yang menarik. 3. Dana Dana menawarkan fitur pembayaran yang luas, termasuk transfer antarbank tanpa biaya admin. 4. ShopeePay ShopeePay populer untuk transaksi di e-commerce Shopee dan banyak promo menarik. 6. Keamanan dalam Menggunakan Aplikasi Pembayaran Untuk menghindari penipuan dan kebocoran data, selalu aktifkan verifikasi dua langkah dan jangan bagikan informasi sensitif seperti PIN atau OTP kepada siapa pun. Selain itu, gunakan koneksi internet yang aman dan hindari mengakses aplikasi pembayaran melalui jaringan Wi-Fi publik yang rentan terhadap peretasan. 7. Cara Top-Up Saldo di Aplikasi Pembayaran Top-up saldo dapat dilakukan melalui transfer bank, minimarket, atau langsung dari ATM. Beberapa aplikasi juga memungkinkan isi ulang saldo melalui agen resmi. Pastikan untuk selalu mengecek nominal sebelum melakukan top-up agar saldo tidak kurang atau berlebih. 8. Tren Aplikasi Pembayaran di Masa Depan Di masa depan, teknologi seperti QRIS, blockchain, dan kecerdasan buatan diprediksi akan semakin mempercepat dan mengamankan transaksi digital. Selain itu, integrasi dengan layanan keuangan lainnya seperti investasi dan asuransi membuat aplikasi pembayaran semakin multifungsi. 9. Dampak Positif Aplikasi Pembayaran bagi Ekonomi Digital Dengan meningkatnya penggunaan aplikasi pembayaran, transaksi bisnis menjadi lebih cepat dan efisien, mendukung pertumbuhan ekonomi digital di Indonesia. Selain itu, UMKM juga mendapatkan keuntungan dengan kemudahan menerima pembayaran digital, meningkatkan daya saing mereka di pasar. 10. Kesimpulan Aplikasi pembayaran telah merevolusi cara kita bertransaksi. Dengan berbagai keuntungan yang ditawarkan, masyarakat kini bisa menikmati transaksi yang lebih cepat, aman, dan praktis. Pemilihan aplikasi yang tepat serta pemahaman mengenai keamanannya sangat penting agar pengalaman menggunakan layanan ini tetap optimal. FAQ (Pertanyaan yang Sering Diajukan) 1. Apakah aplikasi pembayaran aman digunakan? Ya, selama menggunakan aplikasi yang memiliki lisensi resmi dari Bank Indonesia dan menerapkan langkah-langkah keamanan seperti verifikasi dua langkah. 2. Bagaimana cara memilih aplikasi pembayaran yang terbaik? Pilih aplikasi yang memiliki fitur sesuai kebutuhan, biaya transaksi rendah, keamanan tinggi, serta dukungan luas di berbagai merchant. 3. Apa keunggulan menggunakan aplikasi pembayaran dibandingkan uang tunai? Aplikasi pembayaran lebih praktis, cepat, dan aman. Selain itu, banyak aplikasi menawarkan promo dan cashback yang tidak tersedia dalam transaksi tunai. IKLAN: Aplikasi Penghasil Saldo Dana Terbukti Cair Halo teman-teman, rekomendasi nih jika ingin bermain game penghasil saldo dana, ada Aplikasi Bagi2 Duit resmi di Google Play. Pastinya Tanpa Modal dan GRATIS! Silahkan Unduh:\n",
      "\n",
      "Random news 1: Keuangan·Maret 19, 2025 Penghasil Saldo Dana Gratis, Aplikasi pembayaran semakin populer di era digital, memudahkan transaksi tanpa uang tunai. Dari pembayaran e-commerce hingga transfer instan, temukan cara memilih aplikasi terbaik, keunggulannya, serta rekomendasi aplikasi pembayaran paling aman dan cepat di Indonesia. Baca selengkapnya di sini! Di era digital yang berkembang pesat, aplikasi pembayaran menjadi solusi utama bagi masyarakat dalam melakukan transaksi. Dengan teknologi yang semakin canggih, kini kita bisa bertransaksi hanya dengan beberapa ketukan di layar ponsel. Dari pembayaran belanja online hingga transfer antarbank, aplikasi pembayaran hadir untuk memberikan kemudahan. 1. Apa Itu Aplikasi Pembayaran? Aplikasi pembayaran adalah platform digital yang memungkinkan pengguna untuk melakukan transaksi keuangan secara elektronik. Dengan aplikasi ini, pengguna bisa membayar tagihan, melakukan transfer, membeli pulsa, hingga berbelanja online dengan lebih mudah dan cepat. Dulu, transaksi hanya bisa dilakukan secara tunai atau melalui perbankan konvensional. Namun, kini berbagai aplikasi pembayaran menawarkan fitur yang lebih efisien dan praktis, mempersingkat waktu serta mengurangi ketergantungan pada uang fisik. 2. Keunggulan Menggunakan Aplikasi Pembayaran Praktis dan Efisien Salah satu keunggulan utama aplikasi pembayaran adalah kepraktisan. Pengguna tidak perlu lagi membawa uang tunai dalam jumlah besar atau mengunjungi ATM untuk melakukan transaksi. Semua bisa dilakukan melalui ponsel dalam hitungan detik. Keamanan Terjamin Sebagian besar aplikasi pembayaran telah dilengkapi dengan fitur keamanan tinggi, seperti verifikasi dua langkah, enkripsi data, serta proteksi terhadap penipuan. Dengan begitu, transaksi lebih aman dibandingkan metode konvensional. 3. Jenis-Jenis Aplikasi Pembayaran Dompet Digital (E-Wallet) E-Wallet seperti GoPay, OVO, dan Dana memungkinkan pengguna menyimpan saldo digital yang dapat digunakan untuk berbagai transaksi. Mobile Banking Layanan perbankan digital dari bank seperti BCA Mobile, BRImo, dan Livin’ by Mandiri memungkinkan transaksi perbankan tanpa harus ke ATM. Payment Gateway Platform seperti Midtrans, Xendit, dan DOKU memfasilitasi pembayaran bagi pelaku bisnis online dengan berbagai metode, termasuk kartu kredit dan transfer bank. 4. Cara Memilih Aplikasi Pembayaran Terbaik Dalam memilih aplikasi pembayaran, ada beberapa hal yang harus diperhatikan, seperti fitur yang ditawarkan, keamanan, kemudahan penggunaan, dan biaya transaksi. Pastikan aplikasi memiliki lisensi resmi dari Bank Indonesia serta menawarkan proteksi pengguna. Selain itu, pilih aplikasi yang kompatibel dengan kebutuhan, baik untuk transaksi harian maupun bisnis. 5. Rekomendasi Aplikasi Pembayaran Terbaik di Indonesia 1. GoPay GoPay terintegrasi dengan ekosistem Gojek dan menawarkan berbagai layanan pembayaran, dari transportasi hingga belanja online. 2. OVO OVO banyak digunakan untuk transaksi di berbagai merchant dan memiliki fitur cashback yang menarik. 3. Dana Dana menawarkan fitur pembayaran yang luas, termasuk transfer antarbank tanpa biaya admin. 4. ShopeePay ShopeePay populer untuk transaksi di e-commerce Shopee dan banyak promo menarik. 6. Keamanan dalam Menggunakan Aplikasi Pembayaran Untuk menghindari penipuan dan kebocoran data, selalu aktifkan verifikasi dua langkah dan jangan bagikan informasi sensitif seperti PIN atau OTP kepada siapa pun. Selain itu, gunakan koneksi internet yang aman dan hindari mengakses aplikasi pembayaran melalui jaringan Wi-Fi publik yang rentan terhadap peretasan. 7. Cara Top-Up Saldo di Aplikasi Pembayaran Top-up saldo dapat dilakukan melalui transfer bank, minimarket, atau langsung dari ATM. Beberapa aplikasi juga memungkinkan isi ulang saldo melalui agen resmi. Pastikan untuk selalu mengecek nominal sebelum melakukan top-up agar saldo tidak kurang atau berlebih. 8. Tren Aplikasi Pembayaran di Masa Depan Di masa depan, teknologi seperti QRIS, blockchain, dan kecerdasan buatan diprediksi akan semakin mempercepat dan mengamankan transaksi digital. Selain itu, integrasi dengan layanan keuangan lainnya seperti investasi dan asuransi membuat aplikasi pembayaran semakin multifungsi. 9. Dampak Positif Aplikasi Pembayaran bagi Ekonomi Digital Dengan meningkatnya penggunaan aplikasi pembayaran, transaksi bisnis menjadi lebih cepat dan efisien, mendukung pertumbuhan ekonomi digital di Indonesia. Selain itu, UMKM juga mendapatkan keuntungan dengan kemudahan menerima pembayaran digital, meningkatkan daya saing mereka di pasar. 10. Kesimpulan Aplikasi pembayaran telah merevolusi cara kita bertransaksi. Dengan berbagai keuntungan yang ditawarkan, masyarakat kini bisa menikmati transaksi yang lebih cepat, aman, dan praktis. Pemilihan aplikasi yang tepat serta pemahaman mengenai keamanannya sangat penting agar pengalaman menggunakan layanan ini tetap optimal. FAQ (Pertanyaan yang Sering Diajukan) 1. Apakah aplikasi pembayaran aman digunakan? Ya, selama menggunakan aplikasi yang memiliki lisensi resmi dari Bank Indonesia dan menerapkan langkah-langkah keamanan seperti verifikasi dua langkah. 2. Bagaimana cara memilih aplikasi pembayaran yang terbaik? Pilih aplikasi yang memiliki fitur sesuai kebutuhan, biaya transaksi rendah, keamanan tinggi, serta dukungan luas di berbagai merchant. 3. Apa keunggulan menggunakan aplikasi pembayaran dibandingkan uang tunai? Aplikasi pembayaran lebih praktis, cepat, dan aman. Selain itu, banyak aplikasi menawarkan promo dan cashback yang tidak tersedia dalam transaksi tunai. IKLAN: Aplikasi Penghasil Saldo Dana Terbukti Cair Halo teman-teman, rekomendasi nih jika ingin bermain game penghasil saldo dana, ada Aplikasi Bagi2 Duit resmi di Google Play. Pastinya Tanpa Modal dan GRATIS! Silahkan Unduh:\n",
      "\n"
     ]
    }
   ],
   "source": [
    "# the keywords inside the regex for loop\n",
    "new_unecessary_words = [\"baca juga\",  \"ADVERTISEMENT\", \"IKLAN\"]\n",
    "\n",
    "# looping each keyword in key_unecessary_words\n",
    "for keyword in new_unecessary_words:\n",
    "    if keyword == \"baca juga\":\n",
    "        pattern = r\"(?i)\\b\" + re.escape(keyword) + r\"\\b\"  # case-insensitive for \"baca juga\"\n",
    "    else:\n",
    "        pattern = r\"\\b\" + re.escape(keyword) + r\"\\b\"  # exact match for \"ADVERTISEMENT\" and \"IKLAN\"\n",
    "    \n",
    "    new_matches = new_dataset[new_dataset['content'].str.contains(pattern, na=False)] # subset dataframe containing keyword\n",
    "    new_matches = new_matches.reset_index(drop=True) # reset the indexing\n",
    "    print(f\"--- Unecessary words: {keyword} ({len(new_matches)} observations) ---\")\n",
    "    \n",
    "    if len(new_matches) > 0:\n",
    "        for num in range(min(3, len(new_matches))):\n",
    "            random_news_instance = random.randint(0, len(new_matches) - 1)\n",
    "            print(f\"Random news {num}: {new_matches['content'].iloc[random_news_instance]}\\n\")\n",
    "    else:\n",
    "        print(f\"No matches for {keyword} found in the dataset.\\n\")"
   ]
  },
  {
   "cell_type": "markdown",
   "metadata": {},
   "source": [
    "#### The modification of the regex has decreased the number of observation of text with \"iklan\" and \"advertisement\" strings. It also showed that some the string \"advertisement\" are sentence-bound. \n",
    "\n",
    "#### To conclude, from these strings: \"baca juga\", \"advertisement\", and \"iklan\", two are likely to be sentence-bound: \"baca juga\" and \"advertisement\". Therefore, we will use spaCy library to work with these strings.\n",
    "\n",
    "#### As of the other strings: the non-sentence-bound \"iklan\" and \"advertisement\" in uppercase, we will use regex to clean those strings from news texts."
   ]
  },
  {
   "cell_type": "markdown",
   "metadata": {},
   "source": [
    "## 3. Sentence segmentation/tokenization with spaCy"
   ]
  },
  {
   "cell_type": "code",
   "execution_count": 76,
   "metadata": {},
   "outputs": [
    {
     "name": "stdout",
     "output_type": "stream",
     "text": [
      "The U.S. Drug Enforcement Administration (DEA) says hello.\n",
      "And have a nice day.\n",
      "Halo!\n",
      "Berikut merupakan teks berbahasa Indonesia.\n",
      "Presiden A.S. baru saja memberikan pidato di depan Gedung Putih.\n",
      "She loves to read books on weekends she enjoys visiting the library and discovering new authors he prefers to read mystery novels and often finishes one in a day their favorite place is the bookstore which is near the park they meet there every Saturday morning to share their new finds they sometimes discuss their favorite characters and plot twists with excitement\n"
     ]
    }
   ],
   "source": [
    "import spacy\n",
    "\n",
    "nlp = spacy.load(\"xx_ent_wiki_sm\")\n",
    "sentencizer = nlp.add_pipe('sentencizer')\n",
    "sentencizer.from_disk(f\"{os.getcwd()}/sentencizer.json\") # json file with list of punctuation mark\n",
    "\n",
    "text = \"The U.S. Drug Enforcement Administration (DEA) says hello. And have a nice day. Halo! Berikut merupakan teks berbahasa Indonesia. Presiden A.S. baru saja memberikan pidato di depan Gedung Putih.\"\n",
    "\n",
    "text_unpunctuated = \"She loves to read books on weekends she enjoys visiting the library and discovering new authors he prefers to read mystery novels and often finishes one in a day their favorite place is the bookstore which is near the park they meet there every Saturday morning to share their new finds they sometimes discuss their favorite characters and plot twists with excitement\"\n",
    "\n",
    "# Process the text using spaCy\n",
    "doc = nlp(text)\n",
    "\n",
    "# Print the segmented sentences\n",
    "for sent in doc.sents:\n",
    "    print(sent.text)\n",
    "\n",
    "# Process the text using spaCy\n",
    "doc = nlp(text_unpunctuated)\n",
    "\n",
    "# Print the segmented sentences\n",
    "for sent in doc.sents:\n",
    "    print(sent.text)"
   ]
  },
  {
   "cell_type": "markdown",
   "metadata": {},
   "source": [
    "#### The spaCy setencizer pipe works by segmenting sentences delimited by punctuation marks in a smart way. Unlike regex which is more exact in nature, spaCy setencizer takes into consideration abbreviations, such as \"A.S.\" and \"U.S.\" It can handle both Indonesian and English\n",
    "\n",
    "#### Caveat: The spaCy setencizer pipe does not work well with unpunctuated text. We could create a function to make rough estimates of sentences in unpunctuated text, however it does not retrieve acccurate results."
   ]
  },
  {
   "cell_type": "markdown",
   "metadata": {},
   "source": [
    "## 4. Sentence segmentation with NLTK"
   ]
  },
  {
   "cell_type": "code",
   "execution_count": 77,
   "metadata": {},
   "outputs": [
    {
     "name": "stdout",
     "output_type": "stream",
     "text": [
      "The U.S. Drug Enforcement Administration (DEA) says hello.\n",
      "And have a nice day.\n",
      "Halo!\n",
      "Berikut merupakan teks berbahasa Indonesia.\n",
      "Presiden A.S. baru saja memberikan pidato di depan Gedung Putih.\n",
      "She loves to read books on weekends she enjoys visiting the library and discovering new authors he prefers to read mystery novels and often finishes one in a day their favorite place is the bookstore which is near the park they meet there every Saturday morning to share their new finds they sometimes discuss their favorite characters and plot twists with excitement\n"
     ]
    }
   ],
   "source": [
    "import nltk\n",
    "\n",
    "text = \"The U.S. Drug Enforcement Administration (DEA) says hello. And have a nice day. Halo! Berikut merupakan teks berbahasa Indonesia. Presiden A.S. baru saja memberikan pidato di depan Gedung Putih.\"\n",
    "\n",
    "text_unpunctuated = \"She loves to read books on weekends she enjoys visiting the library and discovering new authors he prefers to read mystery novels and often finishes one in a day their favorite place is the bookstore which is near the park they meet there every Saturday morning to share their new finds they sometimes discuss their favorite characters and plot twists with excitement\"\n",
    "\n",
    "tokenized_text = nltk.tokenize.sent_tokenize(text)\n",
    "\n",
    "for token in tokenized_text:\n",
    "    print(token)\n",
    "\n",
    "tokenized_text = nltk.tokenize.sent_tokenize(text_unpunctuated)\n",
    "\n",
    "for token in tokenized_text:\n",
    "    print(token)"
   ]
  },
  {
   "cell_type": "markdown",
   "metadata": {},
   "source": [
    "#### Just like spaCy sentencizer pipe, the NLTK tokenize method also works by segmenting sentences delimited by punctuation marks in a smart way. It can also handle both Indonesian and English\n",
    "\n",
    "#### Caveat: Just like the spaCy setencizer pipe, it does not work well with unpunctuated text.\n",
    "\n",
    "#### The challenge of sentence segmentation from both models come from the fact that they cannot detect sentences in unpunctuated text. Meanwhile, most of \"baca juga\" string sentences are not delimited by any punctuation marks. "
   ]
  },
  {
   "cell_type": "markdown",
   "metadata": {},
   "source": [
    "## 5. Heuristic approach to text data cleaning\n",
    "\n",
    "#### From previous observation, we know that the strings \"baca juga\" and \"advertisement\" are sentence bound. Since spaCy and NLTK segment sentence based on a hybrid nature and it cannot segment sentences in an unpunctuated text, we need to move to a heuristic approach. We need to understand the patterns of the sentences in which the strings \"baca juga\" and \"advertisement\" are bound to, so that we can develop an algorithm that cleans them from text data. For this, we will be analyzing the patterns of sentences bound to aforementioned strings. "
   ]
  },
  {
   "cell_type": "markdown",
   "metadata": {},
   "source": [
    "### 5.1. Analyzing sentence pattern bound with \"baca juga\" string\n",
    "\n",
    "#### We will be parsing the 25 token of strings after \"baca juga\" string to observe the pattern of sentence bound with \"baca juga\" string."
   ]
  },
  {
   "cell_type": "code",
   "execution_count": 176,
   "metadata": {},
   "outputs": [
    {
     "name": "stdout",
     "output_type": "stream",
     "text": [
      "--- Random news 0 ---\n",
      "Random text 1: BACA JUGA: Mau Bisnis Lancar? Gunakan Dompet Digital untuk Pedagang dan Nikmati Keuntungannya!\n",
      "\n",
      "Random text 2: BACA JUGA: Mengenal Keamanan Dompet Digital Blockchain yang Menjaga Transaksi Anda Tetap Aman Tidak hanya itu, banyak marketplace yang bekerja sama dengan dompet digital untuk menghadirkan promo khusus. Beli bahan makanan atau kebutuhan dapur pun jadi lebih terjangkau. Bahkan beberapa penyedia dompet digital menawarkan gratis ongkir untuk pembelian makanan online.\n",
      "\n",
      "Random text 3: BACA JUGA: Kenali Dompet Digital Sakuku, Solusi Praktis untuk Cashless Society\n",
      "\n",
      "Random text 4: BACA JUGA: Dompet Digital, Cara Praktis Kelola Keuangan di Era Modern GoPay sering memberikan diskon untuk pembelian makanan di layanan ojek online. Sementara OVO dan ShopeePay banyak digunakan untuk pembayaran di restoran dan marketplace. DANA memiliki berbagai program cashback yang bisa dimanfaatkan untuk belanja kebutuhan buka puasa. Sedangkan LinkAja sangat\n",
      "\n",
      "Random text 5: BACA JUGA: Bayarind, Dompet Digital Serba Bisa dengan Segudang Keunggulan « 1 2 3 4 » Cek Berita dan Artikel yang lain di Google News Sumber:\n",
      "\n",
      "\n",
      "\n",
      "--- Random news 1 ---\n",
      "Random text 1: Baca juga : 10+ Kode Redeem Free Fire Terbaru 13 Januari 2025, Dapatkan Item Spesial! 1 2\n",
      "\n",
      "\n",
      "\n",
      "--- Random news 2 ---\n",
      "Random text 1: Baca juga: Cegah hepatitis akut dengan menjaga kebersihan makanan\n",
      "\n",
      "Random text 2: Baca juga: GoFood konsisten terapkan protokol kebersihan makanan Direktur Operasional PT Champ Resto Indonesia Tbk Hade Mboi menambahkan aspek kebersihan sudah menjadi perihal yang krusial dan dijaga betul oleh semua tenaga kerja yang terlibat. Melalui aktivitas hias ramen diharapkan pula mampu memotivasi anak yatim untuk berkontribusi pada tujuan pembangunan berkepanjangan\n",
      "\n",
      "Random text 3: Baca juga: KLH minta hotel dan restoran kelola sampah makanan tanpa masuk TPA\n",
      "\n",
      "Random text 4: Baca juga: Lezat juga mampu identik dengan makanan sehat Editor: Arman Copyright © BERITAJA 2025\n",
      "\n",
      "\n",
      "\n",
      "--- Random news 3 ---\n",
      "Random text 1: BACA JUGA: Link Terbaru Dana Kaget Langsung Klaim Saldo Gratis Sebesar Rp200.000. Masuk Dompet Digital\n",
      "\n",
      "Random text 2: BACA JUGA: KEJUTAN LEBARAN! Klaim Link DANA Kaget dan Dapatkan Saldo Gratis hingga Rp1.000.000 DANA Point bisa diperoleh dengan mengikuti program promo.--sumeks.co Cara Mendapatkan DANA Point 1. Belanja di DANA Deals Cara pertama untuk mendapatkan DANA Point yakni dengan berbelanja produk atau layanan di DANA Deals.\n",
      "\n",
      "Random text 3: BACA JUGA: Kesempatan Terbatas dapat Saldo Gratis Hingga Rp.300.000. Klik Link Dana Kaget Sekarang!\n",
      "\n",
      "Random text 4: BACA JUGA: Klik Link DANA Kaget Terbaru Disini! Dapatkan Saldo Gratis Total Rp500 Ribu Hanya Hari Ini 2. Melakukan Transaksi dengan DANA Dapat juga dengan melakukan berbagai transaksi menggunakan aplikasi DANA seperti membayar tagihan, transfer uang dan pembelian pulsa. Syarat dan Ketentuan DANA Points Berikut beberapa syarat dan kententuan terkait\n",
      "\n",
      "\n",
      "\n",
      "--- Random news 4 ---\n",
      "Random text 1: Baca Juga Cek Spesifikasi Nubia V70 Max Rilis 17 Maret di Indonesia, Seperti Apa? Selama periode peluncuran eksklusif pada 20–31 Maret 2025 di Shopee, Tokopedia, TikTok Shop by Tokopedia dan Lazada, pelanggan bisa membelinya dengan harga spesial Rp 1.299.000, serta mendapatkan hadiah eksklusif free wired earphone selama persediaan masih ada.\n",
      "\n",
      "\n",
      "\n",
      "--- Random news 5 ---\n",
      "Random text 1: Baca Juga : Klaim Link DANA Kaget Rp500 Ribu: Benarkah Bisa Cair Langsung Hari Ini? Yang lebih keren lagi, game-game ini legal dan bebas dari unsur judi. Jadi, kamu bisa bermain dengan aman dan tetap produktif! Penasaran game apa saja yang bisa kasih cuan? Simak daftar berikut ini! 1. Island\n",
      "\n",
      "Random text 2: Baca Juga : Klaim Saldo Dana Kaget 2025: Cara Mendapatkan dan Tips Aman Island King adalah game strategi membangun pulau yang seru dan menguntungkan. Koin yang kamu kumpulkan bisa ditukar menjadi saldo DANA. Semakin rajin bermain dan mengajak teman, semakin cepat saldo terkumpul! 2. Hago Cara Dapat Uang: Menyelesaikan mini-game\n",
      "\n",
      "Random text 3: Baca Juga : DANA Kaget 2025: Kesempatan Emas Mendapatkan Saldo Gratis Rp275.000! Hago menawarkan berbagai mini-game seru yang bisa dimainkan kapan saja. Koin yang diperoleh dari permainan bisa diuangkan ke saldo DANA. Main sambil seru-seruan, tetap cuan! 3. ClipClaps Cara Dapat Uang: Main game, nonton video, dan menyelesaikan tantangan. Keunggulan:\n",
      "\n",
      "\n",
      "\n",
      "--- Random news 6 ---\n",
      "Random text 1: Baca Juga IHSG Sempat Turun 6,12%, Wakil Ketua DPR Sufmi Dasco Kunjungi BEI Sesi II, Pelemahan IHSG Menyusut 4,2% Berkat Saham GOTO BI Intervensi Pasar Kala Rupiah Makin Melemah Menuju Rp16.500/US$\n",
      "\n",
      "\n",
      "\n",
      "--- Random news 7 ---\n",
      "Random text 1: Baca Juga: Waspada Identitas Diri Dipakai Pinjol, Cek KTP Sekarang! 1. Benarkah PayLater Lazada Memiliki DC Lapangan? PayLater Lazada merupakan layanan yang berada di bawah naungan Akulaku. Beberapa pengguna mengaku pernah mengalami kunjungan langsung dari petugas penagihan setelah melewati batas keterlambatan pembayaran. Bahkan ada yang menyebut bahwa tim penagih dari\n",
      "\n",
      "Random text 2: Baca Juga: Apa Jadinya jika KTP Disalahgunakan Buat Pinjol? Ini Jawabanya 2. Bagaimana Cara Menghindari Penagihan Lapangan? Agar terhindar dari risiko penagihan lapangan oleh DC, pengguna PayLater Lazada disarankan untuk selalu membayar tagihan tepat waktu. Berikut beberapa langkah yang bisa dilakukan: - Cek tagihan secara berkala Pastikan selalu mengecek jumlah\n",
      "\n",
      "\n",
      "\n",
      "--- Random news 8 ---\n",
      "Random text 1: Baca Juga : Kisah Sukses Bos JNE, Bangun 99 Masjid Setelah Memeluk Islam Ketimbang sekadar menduplikasi ide-ide yang sudah sukses dari Barat, Noon malah menyesuaikan produknya dengan kekhasan budaya dan kebiasaan belanja di kawasan tersebut. Noon sangat menyadari betapa pentingnya akhir pekan di seluruh Timur Tengah. Noon menjadwalkan penjualan dan\n",
      "\n",
      "Random text 2: Baca Juga : Resign dari Bank, Kini Omset Usaha Wanita Cibadak Sukabumi Ini Rp45 Juta Namun, Noon mampu melawan tantangan tersebut untuk tetap berada di jalur yang tepat karena komitmennya yang kuat terhadap inovasi, fokus pada pelanggan, dan kemampuan beradaptasi. Dampak sosial dan ekonomi Selain pertumbuhan finansialnya, Noon telah memberikan\n",
      "\n",
      "\n",
      "\n",
      "--- Random news 9 ---\n",
      "Random text 1: Baca Juga : Klaim Link DANA Kaget Rp500 Ribu: Benarkah Bisa Cair Langsung Hari Ini? Yang lebih keren lagi, game-game ini legal dan bebas dari unsur judi. Jadi, kamu bisa bermain dengan aman dan tetap produktif! Penasaran game apa saja yang bisa kasih cuan? Simak daftar berikut ini! 1. Island\n",
      "\n",
      "Random text 2: Baca Juga : Klaim Saldo Dana Kaget 2025: Cara Mendapatkan dan Tips Aman Island King adalah game strategi membangun pulau yang seru dan menguntungkan. Koin yang kamu kumpulkan bisa ditukar menjadi saldo DANA. Semakin rajin bermain dan mengajak teman, semakin cepat saldo terkumpul! 2. Hago Cara Dapat Uang: Menyelesaikan mini-game\n",
      "\n",
      "Random text 3: Baca Juga : DANA Kaget 2025: Kesempatan Emas Mendapatkan Saldo Gratis Rp275.000! Hago menawarkan berbagai mini-game seru yang bisa dimainkan kapan saja. Koin yang diperoleh dari permainan bisa diuangkan ke saldo DANA. Main sambil seru-seruan, tetap cuan! 3. ClipClaps Cara Dapat Uang: Main game, nonton video, dan menyelesaikan tantangan. Keunggulan:\n",
      "\n",
      "\n",
      "\n",
      "--- Random news 10 ---\n",
      "Random text 1: Baca Juga Restitusi Pajak Awal Tahun Meningkat, Tanda Geliat Dunia Usaha Lesu Blibli telah lama dikenal sebagai aplikasi belanja online terkemuka di Indonesia. Salah satu alasan mengapa Blibli menjadi pilihan utama untuk belanja baju secara online adalah jaminan bahwa setiap produk yang dijual di platform ini adalah 100% original. Blibli\n",
      "\n",
      "\n",
      "\n",
      "--- Random news 11 ---\n",
      "Random text 1: BACA JUGA : Kebutuhan Lebaran Mencapai 80 Juta? Simak Aplikasi Pinjol Langsung Cair, Anti Ditolak Resmi OJK Berikut\n",
      "\n",
      "Random text 2: BACA JUGA : Aplikasi Pinjol Daring Tercepat Terdaftar OJK Limit Hingga 30 Juta, Cepat Cair Bunga Rendah Dan Tenor Panjang Berikut Deretan Pilihan Pinjaman Tercepat Dan Termudah 2025: 1.GoPay Pinjam GoPay Pinjam merupakan layanan finansial berupa pinjaman uang tunai yang dikelola oleh PT Mapan Global Reksa (Findaya), layanan ini menawarkan\n",
      "\n",
      "\n",
      "\n",
      "--- Random news 12 ---\n",
      "Random text 1: BACA JUGA: Aplikasi Hifami Bikin Heboh! Cuma Rebahan Bisa Dapat Uang Sampe Ratusan Ribu? Cek Faktanya! Aplikasi ini menawarkan kesempatan bagi pengguna untuk mendapatkan uang dengan cara yang mudah, yaitu hanya dengan menyelesaikan tugas-tugas sederhana di media sosial. Jika Anda ingin menambah saldo DANA tanpa harus mengeluarkan uang, simak cara\n",
      "\n",
      "Random text 2: BACA JUGA: Dana Kaget Terbaru Hari Ini Cair Sampai Rp.200.000! Simak Cara Klaim Sebelum Kehabisan! Aplikasi ini memungkinkan pengguna untuk mendapatkan uang dengan melakukan berbagai tugas, seperti like, follow, atau melihat video di platform media sosial seperti Instagram, Facebook, YouTube, dan TikTok. Setelah menyelesaikan tugas, pengguna akan mendapatkan poin yang\n",
      "\n",
      "\n",
      "\n",
      "--- Random news 13 ---\n",
      "Random text 1: Baca juga : Aplikasi Wpone Scam? Tiba-Tiba Hilang, Penarikan Gagal Total? Banyak korban yang masih dibujuk dengan alasan bahwa uang bisa kembali jika membayar pajak atau menggunakan jasa pengacara. Jangan tertipu! Itu hanya tipu muslihat agar korban kembali mengeluarkan uang mereka. Wpone sudah tamat! Jangan sampai ada korban baru. Jangan\n",
      "\n",
      "\n",
      "\n",
      "--- Random news 14 ---\n",
      "Random text 1: Baca Juga : Prabowo Minta Aplikator Beri THR bagi Ojol, Grab Beberkan Kriteria yang Dapat Dia menyatakan, sejak penyampaian Keterbukaan Informasi pada 4 Februari 2025 lalu, hingga kini tidak ada kesepakatan apapun dengan pihak mana pun terkait transaksi sebagaimana yang diberitakan tersebut. &#34;Perseroan beserta jajaran manajemen terus fokus pada kegiatan\n",
      "\n",
      "Random text 2: Baca Juga : 5 Tips Menolak Pembeli yang Suka Utang di Warung Tanpa Bikin Sakit Hati  Gojek dan Grab. Photo : Nikkei Asian Review Manajemen menjelaskan, dalam laporan kinerja yang diumumkan pada 12 Maret 2025 kemarin, GoTo tercatat membukukan EBITDA Rp 386 miliar atau tumbuh 348 persen secara year-on-year\n",
      "\n",
      "Random text 3: Baca Juga : Pahami Aturan PBJT Makanan dan Minuman atau Pajak Restoran Versi Baru, dan Objek yang Dikecualikan &#34;Rumor yang beredar tidak berdampak terhadap operasional maupun kelangsungan usaha perusahaan,&#34; ujarnya. Diketahui, Grab Holdings Ltd. sebelumnya dikabarkan tengah mempertimbangkan akuisisi terhadap GoTo Group, dengan valuasi lebih dari US$7 miliar atau setara\n",
      "\n",
      "\n",
      "\n",
      "--- Random news 15 ---\n",
      "Random text 1: Baca Juga:Maruarar hingga Erick Thohir Rapat di Kantor Sri Mulyani Sore Ini, Bahas Apa? Utang yang tercatat dalam sistem SLIK OJK memungkinkan pihak penagih tetap melakukan penagihan meskipun sudah melewati batas waktu 90 hari. Dengan kata lain, keterlambatan pembayaran bisa berujung pada kunjungan lapangan oleh DC, yang umumnya bertugas untuk\n",
      "\n",
      "Random text 2: Baca Juga:ARYADUTA Luncurkan Kampanye Pernikahan Vow and Forever, Ada Paket Menarik Meskipun PayLater Lazada memberikan kemudahan dalam berbelanja, pengguna tetap harus berhati-hati dalam mengelola utang. Jika tidak ingin mengalami kunjungan dari DC, pastikan untuk selalu melunasi tagihan sesuai jadwal yang telah ditentukan. #cicilan#dclapangan#denda#economy#pembayaran#pemblokiran#penagihan#slikojk#tagihan\n",
      "\n",
      "\n",
      "\n",
      "--- Random news 16 ---\n",
      "Random text 1: Baca Juga: Panduan Lengkap Isi Saldo DANA di Alfamart, Cuma Butuh 5 Menit! Cara Isi Saldo DANA di Alfamart Kunjungi Alfamart terdekat Informasikan kepada kasir bahwa Anda ingin top up DANA Berikan nomor HP yang terdaftar di akun DANA Anda Pilih nominal top up dan bayar Cara Top Up via\n",
      "\n",
      "\n",
      "\n",
      "--- Random news 17 ---\n",
      "Random text 1: Baca Juga : Sidang Paripurna Ke-5 Masa Persidangan I DPRD Denpasar, Wali Kota Jaya Negara Sampaikan Rancangan Awal RPJMD Kota Denpasar Tahun 2025-2029 Selain promo spesial pembukaan, Wingstop juga menawarkan paket lengkap yaitu Hematnya Juara! yang harganya mulai dari Rp22.727 per orang. Promo ini dapat dinikmati bersama teman dan kerabat\n",
      "\n",
      "\n",
      "\n",
      "--- Random news 18 ---\n",
      "Random text 1: BACA JUGA ⁠Cara Cek Lokasi Tukar Uang Baru Terdekat Hanya dengan Ponsel ADVERTISEMENT 2. Cara kirim THR ke sesama pengguna Ovo Buka aplikasi Ovo di smartphone Anda. Pilih menu &#34;Transfer&#34; di halaman utama. Pilih &#34;Ke Sesama Ovo&#34;. Masukkan nomor ponsel penerima yang terdaftar di OVO atau pilih dari daftar kontak.\n",
      "\n",
      "Random text 2: BACA JUGA 7 Aplikasi Desain Amplop untuk Lebaran 2025 yang Kreatif dan Unik Tip agar THR Lebih Berkesan Agar pengiriman THR lebih bermakna, Anda bisa mencoba beberapa cara berikut ini. Tambahkan ucapan spesial Kirimkan pesan personal seperti &#34;Selamat Hari Raya, semoga berkah dan sukses selalu!&#34; untuk membuat penerima lebih senang.\n",
      "\n",
      "\n",
      "\n",
      "--- Random news 19 ---\n",
      "Random text 1: Baca Juga Saldo DANA Gratis Hari Ini: Dapatkan hingga Rp250 Ribu dengan Mudah!\n",
      "\n",
      "\n",
      "\n"
     ]
    }
   ],
   "source": [
    "contains_baca_juga = r\"(?i)\\b(baca juga)\\b\"\n",
    "\n",
    "baca_juga_dataset = new_dataset[new_dataset['content'].str.contains(contains_baca_juga, na=False)]\n",
    "baca_juga_dataset = baca_juga_dataset.reset_index(drop=True)\n",
    "\n",
    "right_context_baca_juga = re.compile(r\"(?i)(baca juga[:\\-\\s]+(?:[\\w\\W]+?)(?=\\s+baca juga|$))\")\n",
    "\n",
    "# take 20 random news articles, print every instances of \"baca juga\" strings and its right context \n",
    "for num in range(20):\n",
    "    print(f\"--- Random news {num} ---\")\n",
    "\n",
    "    random_news_instance = random.randint(0, len(baca_juga_dataset) - 1)\n",
    "    text = baca_juga_dataset['content'][random_news_instance]\n",
    "    matches = right_context_baca_juga.finditer(text)\n",
    "    for i, match in enumerate(matches, start=1):\n",
    "        match_text = match.group(1).strip()  \n",
    "        words = match_text.split()\n",
    "        first_50_words = words[:50]\n",
    "        \n",
    "        print(f\"Random text {i}: {' '.join(first_50_words)}\\n\")\n",
    "    \n",
    "    print(\"\\n\")"
   ]
  },
  {
   "cell_type": "markdown",
   "metadata": {},
   "source": [
    "#### We can observe that:\n",
    "1. \n",
    "2. \n",
    "3. "
   ]
  }
 ],
 "metadata": {
  "kernelspec": {
   "display_name": "news_content_cleaner",
   "language": "python",
   "name": "python3"
  },
  "language_info": {
   "codemirror_mode": {
    "name": "ipython",
    "version": 3
   },
   "file_extension": ".py",
   "mimetype": "text/x-python",
   "name": "python",
   "nbconvert_exporter": "python",
   "pygments_lexer": "ipython3",
   "version": "3.11.6"
  }
 },
 "nbformat": 4,
 "nbformat_minor": 2
}
